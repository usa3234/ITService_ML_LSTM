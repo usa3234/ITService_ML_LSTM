{
 "cells": [
  {
   "cell_type": "code",
   "execution_count": 166,
   "metadata": {},
   "outputs": [],
   "source": [
    "import tensorflow as tf\n",
    "import numpy as np\n",
    "import pandas as pd\n",
    "import matplotlib.pyplot as plt\n",
    "import matplotlib.ticker as ticker\n",
    "from tensorflow.keras.models import Sequential\n",
    "from tensorflow.keras.layers import LSTM, Dense, Dropout\n",
    "from matplotlib import dates\n",
    "import plotly.graph_objs as go\n",
    "import plotly.offline as pyoff\n",
    "\n",
    "#import Keras\n",
    "from tensorflow.keras.optimizers import Adam \n",
    "from keras.callbacks import EarlyStopping\n",
    "from keras.utils import np_utils\n",
    "from keras.layers import LSTM\n",
    "from sklearn.model_selection import KFold, cross_val_score, train_test_split"
   ]
  },
  {
   "cell_type": "code",
   "execution_count": 202,
   "metadata": {},
   "outputs": [
    {
     "data": {
      "text/html": [
       "<div>\n",
       "<style scoped>\n",
       "    .dataframe tbody tr th:only-of-type {\n",
       "        vertical-align: middle;\n",
       "    }\n",
       "\n",
       "    .dataframe tbody tr th {\n",
       "        vertical-align: top;\n",
       "    }\n",
       "\n",
       "    .dataframe thead th {\n",
       "        text-align: right;\n",
       "    }\n",
       "</style>\n",
       "<table border=\"1\" class=\"dataframe\">\n",
       "  <thead>\n",
       "    <tr style=\"text-align: right;\">\n",
       "      <th></th>\n",
       "      <th>YYMM</th>\n",
       "      <th>CNT</th>\n",
       "    </tr>\n",
       "  </thead>\n",
       "  <tbody>\n",
       "    <tr>\n",
       "      <th>0</th>\n",
       "      <td>2013-05-01</td>\n",
       "      <td>14</td>\n",
       "    </tr>\n",
       "    <tr>\n",
       "      <th>1</th>\n",
       "      <td>2013-06-01</td>\n",
       "      <td>70</td>\n",
       "    </tr>\n",
       "    <tr>\n",
       "      <th>2</th>\n",
       "      <td>2013-07-01</td>\n",
       "      <td>25</td>\n",
       "    </tr>\n",
       "    <tr>\n",
       "      <th>3</th>\n",
       "      <td>2013-08-01</td>\n",
       "      <td>15</td>\n",
       "    </tr>\n",
       "    <tr>\n",
       "      <th>4</th>\n",
       "      <td>2013-09-01</td>\n",
       "      <td>13</td>\n",
       "    </tr>\n",
       "    <tr>\n",
       "      <th>...</th>\n",
       "      <td>...</td>\n",
       "      <td>...</td>\n",
       "    </tr>\n",
       "    <tr>\n",
       "      <th>99</th>\n",
       "      <td>2021-08-01</td>\n",
       "      <td>127</td>\n",
       "    </tr>\n",
       "    <tr>\n",
       "      <th>100</th>\n",
       "      <td>2021-09-01</td>\n",
       "      <td>107</td>\n",
       "    </tr>\n",
       "    <tr>\n",
       "      <th>101</th>\n",
       "      <td>2021-10-01</td>\n",
       "      <td>137</td>\n",
       "    </tr>\n",
       "    <tr>\n",
       "      <th>102</th>\n",
       "      <td>2021-11-01</td>\n",
       "      <td>143</td>\n",
       "    </tr>\n",
       "    <tr>\n",
       "      <th>103</th>\n",
       "      <td>2021-12-01</td>\n",
       "      <td>144</td>\n",
       "    </tr>\n",
       "  </tbody>\n",
       "</table>\n",
       "<p>104 rows × 2 columns</p>\n",
       "</div>"
      ],
      "text/plain": [
       "          YYMM  CNT\n",
       "0   2013-05-01   14\n",
       "1   2013-06-01   70\n",
       "2   2013-07-01   25\n",
       "3   2013-08-01   15\n",
       "4   2013-09-01   13\n",
       "..         ...  ...\n",
       "99  2021-08-01  127\n",
       "100 2021-09-01  107\n",
       "101 2021-10-01  137\n",
       "102 2021-11-01  143\n",
       "103 2021-12-01  144\n",
       "\n",
       "[104 rows x 2 columns]"
      ]
     },
     "execution_count": 202,
     "metadata": {},
     "output_type": "execute_result"
    }
   ],
   "source": [
    "df = pd.read_excel('itService.xlsx')\n",
    "\n",
    "df = df.drop(['YY', 'MM'], axis=1)\n",
    "df['YYMM'] = df['YYMM'].astype(str)\n",
    "df['YYMM'] = df['YYMM'] + \"01\"\n",
    "df['YYMM'] = pd.to_datetime(df['YYMM'])\n",
    "df"
   ]
  },
  {
   "cell_type": "code",
   "execution_count": 168,
   "metadata": {},
   "outputs": [
    {
     "data": {
      "text/html": [
       "<div>\n",
       "<style scoped>\n",
       "    .dataframe tbody tr th:only-of-type {\n",
       "        vertical-align: middle;\n",
       "    }\n",
       "\n",
       "    .dataframe tbody tr th {\n",
       "        vertical-align: top;\n",
       "    }\n",
       "\n",
       "    .dataframe thead th {\n",
       "        text-align: right;\n",
       "    }\n",
       "</style>\n",
       "<table border=\"1\" class=\"dataframe\">\n",
       "  <thead>\n",
       "    <tr style=\"text-align: right;\">\n",
       "      <th></th>\n",
       "      <th>YYMM</th>\n",
       "      <th>CNT</th>\n",
       "      <th>prev_CNT</th>\n",
       "      <th>diff</th>\n",
       "    </tr>\n",
       "  </thead>\n",
       "  <tbody>\n",
       "    <tr>\n",
       "      <th>1</th>\n",
       "      <td>2013-06-01</td>\n",
       "      <td>70</td>\n",
       "      <td>14.0</td>\n",
       "      <td>56.0</td>\n",
       "    </tr>\n",
       "    <tr>\n",
       "      <th>2</th>\n",
       "      <td>2013-07-01</td>\n",
       "      <td>25</td>\n",
       "      <td>70.0</td>\n",
       "      <td>-45.0</td>\n",
       "    </tr>\n",
       "    <tr>\n",
       "      <th>3</th>\n",
       "      <td>2013-08-01</td>\n",
       "      <td>15</td>\n",
       "      <td>25.0</td>\n",
       "      <td>-10.0</td>\n",
       "    </tr>\n",
       "    <tr>\n",
       "      <th>4</th>\n",
       "      <td>2013-09-01</td>\n",
       "      <td>13</td>\n",
       "      <td>15.0</td>\n",
       "      <td>-2.0</td>\n",
       "    </tr>\n",
       "    <tr>\n",
       "      <th>5</th>\n",
       "      <td>2013-10-01</td>\n",
       "      <td>19</td>\n",
       "      <td>13.0</td>\n",
       "      <td>6.0</td>\n",
       "    </tr>\n",
       "    <tr>\n",
       "      <th>6</th>\n",
       "      <td>2013-11-01</td>\n",
       "      <td>19</td>\n",
       "      <td>19.0</td>\n",
       "      <td>0.0</td>\n",
       "    </tr>\n",
       "    <tr>\n",
       "      <th>7</th>\n",
       "      <td>2013-12-01</td>\n",
       "      <td>40</td>\n",
       "      <td>19.0</td>\n",
       "      <td>21.0</td>\n",
       "    </tr>\n",
       "    <tr>\n",
       "      <th>8</th>\n",
       "      <td>2014-01-01</td>\n",
       "      <td>126</td>\n",
       "      <td>40.0</td>\n",
       "      <td>86.0</td>\n",
       "    </tr>\n",
       "    <tr>\n",
       "      <th>9</th>\n",
       "      <td>2014-02-01</td>\n",
       "      <td>82</td>\n",
       "      <td>126.0</td>\n",
       "      <td>-44.0</td>\n",
       "    </tr>\n",
       "    <tr>\n",
       "      <th>10</th>\n",
       "      <td>2014-03-01</td>\n",
       "      <td>82</td>\n",
       "      <td>82.0</td>\n",
       "      <td>0.0</td>\n",
       "    </tr>\n",
       "  </tbody>\n",
       "</table>\n",
       "</div>"
      ],
      "text/plain": [
       "         YYMM  CNT  prev_CNT  diff\n",
       "1  2013-06-01   70      14.0  56.0\n",
       "2  2013-07-01   25      70.0 -45.0\n",
       "3  2013-08-01   15      25.0 -10.0\n",
       "4  2013-09-01   13      15.0  -2.0\n",
       "5  2013-10-01   19      13.0   6.0\n",
       "6  2013-11-01   19      19.0   0.0\n",
       "7  2013-12-01   40      19.0  21.0\n",
       "8  2014-01-01  126      40.0  86.0\n",
       "9  2014-02-01   82     126.0 -44.0\n",
       "10 2014-03-01   82      82.0   0.0"
      ]
     },
     "execution_count": 168,
     "metadata": {},
     "output_type": "execute_result"
    }
   ],
   "source": [
    "#create a new dataframe to model the difference\n",
    "df_diff = df.copy()\n",
    "#add previous sales to the next row\n",
    "df_diff['prev_CNT'] = df_diff['CNT'].shift(1)\n",
    "#drop the null values and calculate the difference\n",
    "df_diff = df_diff.dropna()\n",
    "df_diff['diff'] = (df_diff['CNT'] - df_diff['prev_CNT'])\n",
    "df_diff.head(10)\n"
   ]
  },
  {
   "cell_type": "code",
   "execution_count": 169,
   "metadata": {},
   "outputs": [
    {
     "name": "stderr",
     "output_type": "stream",
     "text": [
      "C:\\Users\\admin\\AppData\\Local\\Temp/ipykernel_26076/338216559.py:6: UserWarning:\n",
      "\n",
      "Boolean Series key will be reindexed to match DataFrame index.\n",
      "\n"
     ]
    },
    {
     "data": {
      "text/html": [
       "<div>\n",
       "<style scoped>\n",
       "    .dataframe tbody tr th:only-of-type {\n",
       "        vertical-align: middle;\n",
       "    }\n",
       "\n",
       "    .dataframe tbody tr th {\n",
       "        vertical-align: top;\n",
       "    }\n",
       "\n",
       "    .dataframe thead th {\n",
       "        text-align: right;\n",
       "    }\n",
       "</style>\n",
       "<table border=\"1\" class=\"dataframe\">\n",
       "  <thead>\n",
       "    <tr style=\"text-align: right;\">\n",
       "      <th></th>\n",
       "      <th>YYMM</th>\n",
       "      <th>CNT</th>\n",
       "      <th>prev_CNT</th>\n",
       "      <th>diff</th>\n",
       "    </tr>\n",
       "  </thead>\n",
       "  <tbody>\n",
       "    <tr>\n",
       "      <th>89</th>\n",
       "      <td>2020-10-01</td>\n",
       "      <td>10</td>\n",
       "      <td>21.0</td>\n",
       "      <td>-11.0</td>\n",
       "    </tr>\n",
       "    <tr>\n",
       "      <th>90</th>\n",
       "      <td>2020-11-01</td>\n",
       "      <td>7</td>\n",
       "      <td>10.0</td>\n",
       "      <td>-3.0</td>\n",
       "    </tr>\n",
       "    <tr>\n",
       "      <th>91</th>\n",
       "      <td>2020-12-01</td>\n",
       "      <td>13</td>\n",
       "      <td>7.0</td>\n",
       "      <td>6.0</td>\n",
       "    </tr>\n",
       "    <tr>\n",
       "      <th>92</th>\n",
       "      <td>2021-01-01</td>\n",
       "      <td>72</td>\n",
       "      <td>13.0</td>\n",
       "      <td>59.0</td>\n",
       "    </tr>\n",
       "    <tr>\n",
       "      <th>93</th>\n",
       "      <td>2021-02-01</td>\n",
       "      <td>325</td>\n",
       "      <td>72.0</td>\n",
       "      <td>253.0</td>\n",
       "    </tr>\n",
       "    <tr>\n",
       "      <th>94</th>\n",
       "      <td>2021-03-01</td>\n",
       "      <td>362</td>\n",
       "      <td>325.0</td>\n",
       "      <td>37.0</td>\n",
       "    </tr>\n",
       "    <tr>\n",
       "      <th>95</th>\n",
       "      <td>2021-04-01</td>\n",
       "      <td>264</td>\n",
       "      <td>362.0</td>\n",
       "      <td>-98.0</td>\n",
       "    </tr>\n",
       "    <tr>\n",
       "      <th>96</th>\n",
       "      <td>2021-05-01</td>\n",
       "      <td>163</td>\n",
       "      <td>264.0</td>\n",
       "      <td>-101.0</td>\n",
       "    </tr>\n",
       "    <tr>\n",
       "      <th>97</th>\n",
       "      <td>2021-06-01</td>\n",
       "      <td>200</td>\n",
       "      <td>163.0</td>\n",
       "      <td>37.0</td>\n",
       "    </tr>\n",
       "    <tr>\n",
       "      <th>98</th>\n",
       "      <td>2021-07-01</td>\n",
       "      <td>180</td>\n",
       "      <td>200.0</td>\n",
       "      <td>-20.0</td>\n",
       "    </tr>\n",
       "    <tr>\n",
       "      <th>99</th>\n",
       "      <td>2021-08-01</td>\n",
       "      <td>127</td>\n",
       "      <td>180.0</td>\n",
       "      <td>-53.0</td>\n",
       "    </tr>\n",
       "    <tr>\n",
       "      <th>100</th>\n",
       "      <td>2021-09-01</td>\n",
       "      <td>107</td>\n",
       "      <td>127.0</td>\n",
       "      <td>-20.0</td>\n",
       "    </tr>\n",
       "    <tr>\n",
       "      <th>101</th>\n",
       "      <td>2021-10-01</td>\n",
       "      <td>137</td>\n",
       "      <td>107.0</td>\n",
       "      <td>30.0</td>\n",
       "    </tr>\n",
       "    <tr>\n",
       "      <th>102</th>\n",
       "      <td>2021-11-01</td>\n",
       "      <td>143</td>\n",
       "      <td>137.0</td>\n",
       "      <td>6.0</td>\n",
       "    </tr>\n",
       "    <tr>\n",
       "      <th>103</th>\n",
       "      <td>2021-12-01</td>\n",
       "      <td>144</td>\n",
       "      <td>143.0</td>\n",
       "      <td>1.0</td>\n",
       "    </tr>\n",
       "  </tbody>\n",
       "</table>\n",
       "</div>"
      ],
      "text/plain": [
       "          YYMM  CNT  prev_CNT   diff\n",
       "89  2020-10-01   10      21.0  -11.0\n",
       "90  2020-11-01    7      10.0   -3.0\n",
       "91  2020-12-01   13       7.0    6.0\n",
       "92  2021-01-01   72      13.0   59.0\n",
       "93  2021-02-01  325      72.0  253.0\n",
       "94  2021-03-01  362     325.0   37.0\n",
       "95  2021-04-01  264     362.0  -98.0\n",
       "96  2021-05-01  163     264.0 -101.0\n",
       "97  2021-06-01  200     163.0   37.0\n",
       "98  2021-07-01  180     200.0  -20.0\n",
       "99  2021-08-01  127     180.0  -53.0\n",
       "100 2021-09-01  107     127.0  -20.0\n",
       "101 2021-10-01  137     107.0   30.0\n",
       "102 2021-11-01  143     137.0    6.0\n",
       "103 2021-12-01  144     143.0    1.0"
      ]
     },
     "execution_count": 169,
     "metadata": {},
     "output_type": "execute_result"
    }
   ],
   "source": [
    "#df_diff = df_diff.drop(index=[1,2,3,4,5,6,7, 103, 102, 101, 100, 99, 98, 97, 96, 95, 94, 93, 92], axis=0)\n",
    "#df_diff = df_diff.drop(index=[103, 102, 101, 100, 99, 98, 97, 96, 95, 94, 93, 92], axis=0)\n",
    "#r-square 너무 낮아서 2021년 데이터로만 사용 \n",
    "#r-square 퍼센트가 낮으면 종속변수와 도릭변수의 상관관계가 부족\n",
    "#종속변인과 독립변인 사이에 상관관계가 높을수록 1에 가까워진다.\n",
    "df_diff = df_diff[df['YYMM'].between('2020-10-01', '2021-12-01')]\n",
    "#df_diff = df_diff.drop(index=[1,2,3,4,5,6,7, 103, 102, 101, 100, 99, 98, 97, 96, 95, 94, 93, 92], axis=0)\n",
    "#df_diff = df_diff.drop(index=[1,2,3,4,5,6,7], axis=0)\n",
    "df_diff"
   ]
  },
  {
   "cell_type": "code",
   "execution_count": 170,
   "metadata": {},
   "outputs": [
    {
     "data": {
      "application/vnd.plotly.v1+json": {
       "config": {
        "linkText": "Export to plot.ly",
        "plotlyServerURL": "https://plot.ly",
        "showLink": false
       },
       "data": [
        {
         "type": "scatter",
         "x": [
          "2020-10-01T00:00:00",
          "2020-11-01T00:00:00",
          "2020-12-01T00:00:00",
          "2021-01-01T00:00:00",
          "2021-02-01T00:00:00",
          "2021-03-01T00:00:00",
          "2021-04-01T00:00:00",
          "2021-05-01T00:00:00",
          "2021-06-01T00:00:00",
          "2021-07-01T00:00:00",
          "2021-08-01T00:00:00",
          "2021-09-01T00:00:00",
          "2021-10-01T00:00:00",
          "2021-11-01T00:00:00",
          "2021-12-01T00:00:00"
         ],
         "y": [
          10,
          7,
          13,
          72,
          325,
          362,
          264,
          163,
          200,
          180,
          127,
          107,
          137,
          143,
          144
         ]
        }
       ],
       "layout": {
        "template": {
         "data": {
          "bar": [
           {
            "error_x": {
             "color": "#2a3f5f"
            },
            "error_y": {
             "color": "#2a3f5f"
            },
            "marker": {
             "line": {
              "color": "#E5ECF6",
              "width": 0.5
             },
             "pattern": {
              "fillmode": "overlay",
              "size": 10,
              "solidity": 0.2
             }
            },
            "type": "bar"
           }
          ],
          "barpolar": [
           {
            "marker": {
             "line": {
              "color": "#E5ECF6",
              "width": 0.5
             },
             "pattern": {
              "fillmode": "overlay",
              "size": 10,
              "solidity": 0.2
             }
            },
            "type": "barpolar"
           }
          ],
          "carpet": [
           {
            "aaxis": {
             "endlinecolor": "#2a3f5f",
             "gridcolor": "white",
             "linecolor": "white",
             "minorgridcolor": "white",
             "startlinecolor": "#2a3f5f"
            },
            "baxis": {
             "endlinecolor": "#2a3f5f",
             "gridcolor": "white",
             "linecolor": "white",
             "minorgridcolor": "white",
             "startlinecolor": "#2a3f5f"
            },
            "type": "carpet"
           }
          ],
          "choropleth": [
           {
            "colorbar": {
             "outlinewidth": 0,
             "ticks": ""
            },
            "type": "choropleth"
           }
          ],
          "contour": [
           {
            "colorbar": {
             "outlinewidth": 0,
             "ticks": ""
            },
            "colorscale": [
             [
              0,
              "#0d0887"
             ],
             [
              0.1111111111111111,
              "#46039f"
             ],
             [
              0.2222222222222222,
              "#7201a8"
             ],
             [
              0.3333333333333333,
              "#9c179e"
             ],
             [
              0.4444444444444444,
              "#bd3786"
             ],
             [
              0.5555555555555556,
              "#d8576b"
             ],
             [
              0.6666666666666666,
              "#ed7953"
             ],
             [
              0.7777777777777778,
              "#fb9f3a"
             ],
             [
              0.8888888888888888,
              "#fdca26"
             ],
             [
              1,
              "#f0f921"
             ]
            ],
            "type": "contour"
           }
          ],
          "contourcarpet": [
           {
            "colorbar": {
             "outlinewidth": 0,
             "ticks": ""
            },
            "type": "contourcarpet"
           }
          ],
          "heatmap": [
           {
            "colorbar": {
             "outlinewidth": 0,
             "ticks": ""
            },
            "colorscale": [
             [
              0,
              "#0d0887"
             ],
             [
              0.1111111111111111,
              "#46039f"
             ],
             [
              0.2222222222222222,
              "#7201a8"
             ],
             [
              0.3333333333333333,
              "#9c179e"
             ],
             [
              0.4444444444444444,
              "#bd3786"
             ],
             [
              0.5555555555555556,
              "#d8576b"
             ],
             [
              0.6666666666666666,
              "#ed7953"
             ],
             [
              0.7777777777777778,
              "#fb9f3a"
             ],
             [
              0.8888888888888888,
              "#fdca26"
             ],
             [
              1,
              "#f0f921"
             ]
            ],
            "type": "heatmap"
           }
          ],
          "heatmapgl": [
           {
            "colorbar": {
             "outlinewidth": 0,
             "ticks": ""
            },
            "colorscale": [
             [
              0,
              "#0d0887"
             ],
             [
              0.1111111111111111,
              "#46039f"
             ],
             [
              0.2222222222222222,
              "#7201a8"
             ],
             [
              0.3333333333333333,
              "#9c179e"
             ],
             [
              0.4444444444444444,
              "#bd3786"
             ],
             [
              0.5555555555555556,
              "#d8576b"
             ],
             [
              0.6666666666666666,
              "#ed7953"
             ],
             [
              0.7777777777777778,
              "#fb9f3a"
             ],
             [
              0.8888888888888888,
              "#fdca26"
             ],
             [
              1,
              "#f0f921"
             ]
            ],
            "type": "heatmapgl"
           }
          ],
          "histogram": [
           {
            "marker": {
             "pattern": {
              "fillmode": "overlay",
              "size": 10,
              "solidity": 0.2
             }
            },
            "type": "histogram"
           }
          ],
          "histogram2d": [
           {
            "colorbar": {
             "outlinewidth": 0,
             "ticks": ""
            },
            "colorscale": [
             [
              0,
              "#0d0887"
             ],
             [
              0.1111111111111111,
              "#46039f"
             ],
             [
              0.2222222222222222,
              "#7201a8"
             ],
             [
              0.3333333333333333,
              "#9c179e"
             ],
             [
              0.4444444444444444,
              "#bd3786"
             ],
             [
              0.5555555555555556,
              "#d8576b"
             ],
             [
              0.6666666666666666,
              "#ed7953"
             ],
             [
              0.7777777777777778,
              "#fb9f3a"
             ],
             [
              0.8888888888888888,
              "#fdca26"
             ],
             [
              1,
              "#f0f921"
             ]
            ],
            "type": "histogram2d"
           }
          ],
          "histogram2dcontour": [
           {
            "colorbar": {
             "outlinewidth": 0,
             "ticks": ""
            },
            "colorscale": [
             [
              0,
              "#0d0887"
             ],
             [
              0.1111111111111111,
              "#46039f"
             ],
             [
              0.2222222222222222,
              "#7201a8"
             ],
             [
              0.3333333333333333,
              "#9c179e"
             ],
             [
              0.4444444444444444,
              "#bd3786"
             ],
             [
              0.5555555555555556,
              "#d8576b"
             ],
             [
              0.6666666666666666,
              "#ed7953"
             ],
             [
              0.7777777777777778,
              "#fb9f3a"
             ],
             [
              0.8888888888888888,
              "#fdca26"
             ],
             [
              1,
              "#f0f921"
             ]
            ],
            "type": "histogram2dcontour"
           }
          ],
          "mesh3d": [
           {
            "colorbar": {
             "outlinewidth": 0,
             "ticks": ""
            },
            "type": "mesh3d"
           }
          ],
          "parcoords": [
           {
            "line": {
             "colorbar": {
              "outlinewidth": 0,
              "ticks": ""
             }
            },
            "type": "parcoords"
           }
          ],
          "pie": [
           {
            "automargin": true,
            "type": "pie"
           }
          ],
          "scatter": [
           {
            "marker": {
             "colorbar": {
              "outlinewidth": 0,
              "ticks": ""
             }
            },
            "type": "scatter"
           }
          ],
          "scatter3d": [
           {
            "line": {
             "colorbar": {
              "outlinewidth": 0,
              "ticks": ""
             }
            },
            "marker": {
             "colorbar": {
              "outlinewidth": 0,
              "ticks": ""
             }
            },
            "type": "scatter3d"
           }
          ],
          "scattercarpet": [
           {
            "marker": {
             "colorbar": {
              "outlinewidth": 0,
              "ticks": ""
             }
            },
            "type": "scattercarpet"
           }
          ],
          "scattergeo": [
           {
            "marker": {
             "colorbar": {
              "outlinewidth": 0,
              "ticks": ""
             }
            },
            "type": "scattergeo"
           }
          ],
          "scattergl": [
           {
            "marker": {
             "colorbar": {
              "outlinewidth": 0,
              "ticks": ""
             }
            },
            "type": "scattergl"
           }
          ],
          "scattermapbox": [
           {
            "marker": {
             "colorbar": {
              "outlinewidth": 0,
              "ticks": ""
             }
            },
            "type": "scattermapbox"
           }
          ],
          "scatterpolar": [
           {
            "marker": {
             "colorbar": {
              "outlinewidth": 0,
              "ticks": ""
             }
            },
            "type": "scatterpolar"
           }
          ],
          "scatterpolargl": [
           {
            "marker": {
             "colorbar": {
              "outlinewidth": 0,
              "ticks": ""
             }
            },
            "type": "scatterpolargl"
           }
          ],
          "scatterternary": [
           {
            "marker": {
             "colorbar": {
              "outlinewidth": 0,
              "ticks": ""
             }
            },
            "type": "scatterternary"
           }
          ],
          "surface": [
           {
            "colorbar": {
             "outlinewidth": 0,
             "ticks": ""
            },
            "colorscale": [
             [
              0,
              "#0d0887"
             ],
             [
              0.1111111111111111,
              "#46039f"
             ],
             [
              0.2222222222222222,
              "#7201a8"
             ],
             [
              0.3333333333333333,
              "#9c179e"
             ],
             [
              0.4444444444444444,
              "#bd3786"
             ],
             [
              0.5555555555555556,
              "#d8576b"
             ],
             [
              0.6666666666666666,
              "#ed7953"
             ],
             [
              0.7777777777777778,
              "#fb9f3a"
             ],
             [
              0.8888888888888888,
              "#fdca26"
             ],
             [
              1,
              "#f0f921"
             ]
            ],
            "type": "surface"
           }
          ],
          "table": [
           {
            "cells": {
             "fill": {
              "color": "#EBF0F8"
             },
             "line": {
              "color": "white"
             }
            },
            "header": {
             "fill": {
              "color": "#C8D4E3"
             },
             "line": {
              "color": "white"
             }
            },
            "type": "table"
           }
          ]
         },
         "layout": {
          "annotationdefaults": {
           "arrowcolor": "#2a3f5f",
           "arrowhead": 0,
           "arrowwidth": 1
          },
          "autotypenumbers": "strict",
          "coloraxis": {
           "colorbar": {
            "outlinewidth": 0,
            "ticks": ""
           }
          },
          "colorscale": {
           "diverging": [
            [
             0,
             "#8e0152"
            ],
            [
             0.1,
             "#c51b7d"
            ],
            [
             0.2,
             "#de77ae"
            ],
            [
             0.3,
             "#f1b6da"
            ],
            [
             0.4,
             "#fde0ef"
            ],
            [
             0.5,
             "#f7f7f7"
            ],
            [
             0.6,
             "#e6f5d0"
            ],
            [
             0.7,
             "#b8e186"
            ],
            [
             0.8,
             "#7fbc41"
            ],
            [
             0.9,
             "#4d9221"
            ],
            [
             1,
             "#276419"
            ]
           ],
           "sequential": [
            [
             0,
             "#0d0887"
            ],
            [
             0.1111111111111111,
             "#46039f"
            ],
            [
             0.2222222222222222,
             "#7201a8"
            ],
            [
             0.3333333333333333,
             "#9c179e"
            ],
            [
             0.4444444444444444,
             "#bd3786"
            ],
            [
             0.5555555555555556,
             "#d8576b"
            ],
            [
             0.6666666666666666,
             "#ed7953"
            ],
            [
             0.7777777777777778,
             "#fb9f3a"
            ],
            [
             0.8888888888888888,
             "#fdca26"
            ],
            [
             1,
             "#f0f921"
            ]
           ],
           "sequentialminus": [
            [
             0,
             "#0d0887"
            ],
            [
             0.1111111111111111,
             "#46039f"
            ],
            [
             0.2222222222222222,
             "#7201a8"
            ],
            [
             0.3333333333333333,
             "#9c179e"
            ],
            [
             0.4444444444444444,
             "#bd3786"
            ],
            [
             0.5555555555555556,
             "#d8576b"
            ],
            [
             0.6666666666666666,
             "#ed7953"
            ],
            [
             0.7777777777777778,
             "#fb9f3a"
            ],
            [
             0.8888888888888888,
             "#fdca26"
            ],
            [
             1,
             "#f0f921"
            ]
           ]
          },
          "colorway": [
           "#636efa",
           "#EF553B",
           "#00cc96",
           "#ab63fa",
           "#FFA15A",
           "#19d3f3",
           "#FF6692",
           "#B6E880",
           "#FF97FF",
           "#FECB52"
          ],
          "font": {
           "color": "#2a3f5f"
          },
          "geo": {
           "bgcolor": "white",
           "lakecolor": "white",
           "landcolor": "#E5ECF6",
           "showlakes": true,
           "showland": true,
           "subunitcolor": "white"
          },
          "hoverlabel": {
           "align": "left"
          },
          "hovermode": "closest",
          "mapbox": {
           "style": "light"
          },
          "paper_bgcolor": "white",
          "plot_bgcolor": "#E5ECF6",
          "polar": {
           "angularaxis": {
            "gridcolor": "white",
            "linecolor": "white",
            "ticks": ""
           },
           "bgcolor": "#E5ECF6",
           "radialaxis": {
            "gridcolor": "white",
            "linecolor": "white",
            "ticks": ""
           }
          },
          "scene": {
           "xaxis": {
            "backgroundcolor": "#E5ECF6",
            "gridcolor": "white",
            "gridwidth": 2,
            "linecolor": "white",
            "showbackground": true,
            "ticks": "",
            "zerolinecolor": "white"
           },
           "yaxis": {
            "backgroundcolor": "#E5ECF6",
            "gridcolor": "white",
            "gridwidth": 2,
            "linecolor": "white",
            "showbackground": true,
            "ticks": "",
            "zerolinecolor": "white"
           },
           "zaxis": {
            "backgroundcolor": "#E5ECF6",
            "gridcolor": "white",
            "gridwidth": 2,
            "linecolor": "white",
            "showbackground": true,
            "ticks": "",
            "zerolinecolor": "white"
           }
          },
          "shapedefaults": {
           "line": {
            "color": "#2a3f5f"
           }
          },
          "ternary": {
           "aaxis": {
            "gridcolor": "white",
            "linecolor": "white",
            "ticks": ""
           },
           "baxis": {
            "gridcolor": "white",
            "linecolor": "white",
            "ticks": ""
           },
           "bgcolor": "#E5ECF6",
           "caxis": {
            "gridcolor": "white",
            "linecolor": "white",
            "ticks": ""
           }
          },
          "title": {
           "x": 0.05
          },
          "xaxis": {
           "automargin": true,
           "gridcolor": "white",
           "linecolor": "white",
           "ticks": "",
           "title": {
            "standoff": 15
           },
           "zerolinecolor": "white",
           "zerolinewidth": 2
          },
          "yaxis": {
           "automargin": true,
           "gridcolor": "white",
           "linecolor": "white",
           "ticks": "",
           "title": {
            "standoff": 15
           },
           "zerolinecolor": "white",
           "zerolinewidth": 2
          }
         }
        },
        "title": {
         "text": "ITService Count"
        }
       }
      }
     },
     "metadata": {},
     "output_type": "display_data"
    }
   ],
   "source": [
    "#plot sales diff\n",
    "plot_data = [\n",
    "    go.Scatter(\n",
    "        x=df_diff['YYMM'],\n",
    "        y=df_diff['CNT'],\n",
    "    )\n",
    "]\n",
    "plot_layout = go.Layout(\n",
    "        title='ITService Count'\n",
    "    )\n",
    "fig = go.Figure(data=plot_data, layout=plot_layout)\n",
    "pyoff.iplot(fig)"
   ]
  },
  {
   "cell_type": "code",
   "execution_count": 171,
   "metadata": {},
   "outputs": [
    {
     "data": {
      "application/vnd.plotly.v1+json": {
       "config": {
        "linkText": "Export to plot.ly",
        "plotlyServerURL": "https://plot.ly",
        "showLink": false
       },
       "data": [
        {
         "type": "scatter",
         "x": [
          "2020-10-01T00:00:00",
          "2020-11-01T00:00:00",
          "2020-12-01T00:00:00",
          "2021-01-01T00:00:00",
          "2021-02-01T00:00:00",
          "2021-03-01T00:00:00",
          "2021-04-01T00:00:00",
          "2021-05-01T00:00:00",
          "2021-06-01T00:00:00",
          "2021-07-01T00:00:00",
          "2021-08-01T00:00:00",
          "2021-09-01T00:00:00",
          "2021-10-01T00:00:00",
          "2021-11-01T00:00:00",
          "2021-12-01T00:00:00"
         ],
         "y": [
          -11,
          -3,
          6,
          59,
          253,
          37,
          -98,
          -101,
          37,
          -20,
          -53,
          -20,
          30,
          6,
          1
         ]
        }
       ],
       "layout": {
        "template": {
         "data": {
          "bar": [
           {
            "error_x": {
             "color": "#2a3f5f"
            },
            "error_y": {
             "color": "#2a3f5f"
            },
            "marker": {
             "line": {
              "color": "#E5ECF6",
              "width": 0.5
             },
             "pattern": {
              "fillmode": "overlay",
              "size": 10,
              "solidity": 0.2
             }
            },
            "type": "bar"
           }
          ],
          "barpolar": [
           {
            "marker": {
             "line": {
              "color": "#E5ECF6",
              "width": 0.5
             },
             "pattern": {
              "fillmode": "overlay",
              "size": 10,
              "solidity": 0.2
             }
            },
            "type": "barpolar"
           }
          ],
          "carpet": [
           {
            "aaxis": {
             "endlinecolor": "#2a3f5f",
             "gridcolor": "white",
             "linecolor": "white",
             "minorgridcolor": "white",
             "startlinecolor": "#2a3f5f"
            },
            "baxis": {
             "endlinecolor": "#2a3f5f",
             "gridcolor": "white",
             "linecolor": "white",
             "minorgridcolor": "white",
             "startlinecolor": "#2a3f5f"
            },
            "type": "carpet"
           }
          ],
          "choropleth": [
           {
            "colorbar": {
             "outlinewidth": 0,
             "ticks": ""
            },
            "type": "choropleth"
           }
          ],
          "contour": [
           {
            "colorbar": {
             "outlinewidth": 0,
             "ticks": ""
            },
            "colorscale": [
             [
              0,
              "#0d0887"
             ],
             [
              0.1111111111111111,
              "#46039f"
             ],
             [
              0.2222222222222222,
              "#7201a8"
             ],
             [
              0.3333333333333333,
              "#9c179e"
             ],
             [
              0.4444444444444444,
              "#bd3786"
             ],
             [
              0.5555555555555556,
              "#d8576b"
             ],
             [
              0.6666666666666666,
              "#ed7953"
             ],
             [
              0.7777777777777778,
              "#fb9f3a"
             ],
             [
              0.8888888888888888,
              "#fdca26"
             ],
             [
              1,
              "#f0f921"
             ]
            ],
            "type": "contour"
           }
          ],
          "contourcarpet": [
           {
            "colorbar": {
             "outlinewidth": 0,
             "ticks": ""
            },
            "type": "contourcarpet"
           }
          ],
          "heatmap": [
           {
            "colorbar": {
             "outlinewidth": 0,
             "ticks": ""
            },
            "colorscale": [
             [
              0,
              "#0d0887"
             ],
             [
              0.1111111111111111,
              "#46039f"
             ],
             [
              0.2222222222222222,
              "#7201a8"
             ],
             [
              0.3333333333333333,
              "#9c179e"
             ],
             [
              0.4444444444444444,
              "#bd3786"
             ],
             [
              0.5555555555555556,
              "#d8576b"
             ],
             [
              0.6666666666666666,
              "#ed7953"
             ],
             [
              0.7777777777777778,
              "#fb9f3a"
             ],
             [
              0.8888888888888888,
              "#fdca26"
             ],
             [
              1,
              "#f0f921"
             ]
            ],
            "type": "heatmap"
           }
          ],
          "heatmapgl": [
           {
            "colorbar": {
             "outlinewidth": 0,
             "ticks": ""
            },
            "colorscale": [
             [
              0,
              "#0d0887"
             ],
             [
              0.1111111111111111,
              "#46039f"
             ],
             [
              0.2222222222222222,
              "#7201a8"
             ],
             [
              0.3333333333333333,
              "#9c179e"
             ],
             [
              0.4444444444444444,
              "#bd3786"
             ],
             [
              0.5555555555555556,
              "#d8576b"
             ],
             [
              0.6666666666666666,
              "#ed7953"
             ],
             [
              0.7777777777777778,
              "#fb9f3a"
             ],
             [
              0.8888888888888888,
              "#fdca26"
             ],
             [
              1,
              "#f0f921"
             ]
            ],
            "type": "heatmapgl"
           }
          ],
          "histogram": [
           {
            "marker": {
             "pattern": {
              "fillmode": "overlay",
              "size": 10,
              "solidity": 0.2
             }
            },
            "type": "histogram"
           }
          ],
          "histogram2d": [
           {
            "colorbar": {
             "outlinewidth": 0,
             "ticks": ""
            },
            "colorscale": [
             [
              0,
              "#0d0887"
             ],
             [
              0.1111111111111111,
              "#46039f"
             ],
             [
              0.2222222222222222,
              "#7201a8"
             ],
             [
              0.3333333333333333,
              "#9c179e"
             ],
             [
              0.4444444444444444,
              "#bd3786"
             ],
             [
              0.5555555555555556,
              "#d8576b"
             ],
             [
              0.6666666666666666,
              "#ed7953"
             ],
             [
              0.7777777777777778,
              "#fb9f3a"
             ],
             [
              0.8888888888888888,
              "#fdca26"
             ],
             [
              1,
              "#f0f921"
             ]
            ],
            "type": "histogram2d"
           }
          ],
          "histogram2dcontour": [
           {
            "colorbar": {
             "outlinewidth": 0,
             "ticks": ""
            },
            "colorscale": [
             [
              0,
              "#0d0887"
             ],
             [
              0.1111111111111111,
              "#46039f"
             ],
             [
              0.2222222222222222,
              "#7201a8"
             ],
             [
              0.3333333333333333,
              "#9c179e"
             ],
             [
              0.4444444444444444,
              "#bd3786"
             ],
             [
              0.5555555555555556,
              "#d8576b"
             ],
             [
              0.6666666666666666,
              "#ed7953"
             ],
             [
              0.7777777777777778,
              "#fb9f3a"
             ],
             [
              0.8888888888888888,
              "#fdca26"
             ],
             [
              1,
              "#f0f921"
             ]
            ],
            "type": "histogram2dcontour"
           }
          ],
          "mesh3d": [
           {
            "colorbar": {
             "outlinewidth": 0,
             "ticks": ""
            },
            "type": "mesh3d"
           }
          ],
          "parcoords": [
           {
            "line": {
             "colorbar": {
              "outlinewidth": 0,
              "ticks": ""
             }
            },
            "type": "parcoords"
           }
          ],
          "pie": [
           {
            "automargin": true,
            "type": "pie"
           }
          ],
          "scatter": [
           {
            "marker": {
             "colorbar": {
              "outlinewidth": 0,
              "ticks": ""
             }
            },
            "type": "scatter"
           }
          ],
          "scatter3d": [
           {
            "line": {
             "colorbar": {
              "outlinewidth": 0,
              "ticks": ""
             }
            },
            "marker": {
             "colorbar": {
              "outlinewidth": 0,
              "ticks": ""
             }
            },
            "type": "scatter3d"
           }
          ],
          "scattercarpet": [
           {
            "marker": {
             "colorbar": {
              "outlinewidth": 0,
              "ticks": ""
             }
            },
            "type": "scattercarpet"
           }
          ],
          "scattergeo": [
           {
            "marker": {
             "colorbar": {
              "outlinewidth": 0,
              "ticks": ""
             }
            },
            "type": "scattergeo"
           }
          ],
          "scattergl": [
           {
            "marker": {
             "colorbar": {
              "outlinewidth": 0,
              "ticks": ""
             }
            },
            "type": "scattergl"
           }
          ],
          "scattermapbox": [
           {
            "marker": {
             "colorbar": {
              "outlinewidth": 0,
              "ticks": ""
             }
            },
            "type": "scattermapbox"
           }
          ],
          "scatterpolar": [
           {
            "marker": {
             "colorbar": {
              "outlinewidth": 0,
              "ticks": ""
             }
            },
            "type": "scatterpolar"
           }
          ],
          "scatterpolargl": [
           {
            "marker": {
             "colorbar": {
              "outlinewidth": 0,
              "ticks": ""
             }
            },
            "type": "scatterpolargl"
           }
          ],
          "scatterternary": [
           {
            "marker": {
             "colorbar": {
              "outlinewidth": 0,
              "ticks": ""
             }
            },
            "type": "scatterternary"
           }
          ],
          "surface": [
           {
            "colorbar": {
             "outlinewidth": 0,
             "ticks": ""
            },
            "colorscale": [
             [
              0,
              "#0d0887"
             ],
             [
              0.1111111111111111,
              "#46039f"
             ],
             [
              0.2222222222222222,
              "#7201a8"
             ],
             [
              0.3333333333333333,
              "#9c179e"
             ],
             [
              0.4444444444444444,
              "#bd3786"
             ],
             [
              0.5555555555555556,
              "#d8576b"
             ],
             [
              0.6666666666666666,
              "#ed7953"
             ],
             [
              0.7777777777777778,
              "#fb9f3a"
             ],
             [
              0.8888888888888888,
              "#fdca26"
             ],
             [
              1,
              "#f0f921"
             ]
            ],
            "type": "surface"
           }
          ],
          "table": [
           {
            "cells": {
             "fill": {
              "color": "#EBF0F8"
             },
             "line": {
              "color": "white"
             }
            },
            "header": {
             "fill": {
              "color": "#C8D4E3"
             },
             "line": {
              "color": "white"
             }
            },
            "type": "table"
           }
          ]
         },
         "layout": {
          "annotationdefaults": {
           "arrowcolor": "#2a3f5f",
           "arrowhead": 0,
           "arrowwidth": 1
          },
          "autotypenumbers": "strict",
          "coloraxis": {
           "colorbar": {
            "outlinewidth": 0,
            "ticks": ""
           }
          },
          "colorscale": {
           "diverging": [
            [
             0,
             "#8e0152"
            ],
            [
             0.1,
             "#c51b7d"
            ],
            [
             0.2,
             "#de77ae"
            ],
            [
             0.3,
             "#f1b6da"
            ],
            [
             0.4,
             "#fde0ef"
            ],
            [
             0.5,
             "#f7f7f7"
            ],
            [
             0.6,
             "#e6f5d0"
            ],
            [
             0.7,
             "#b8e186"
            ],
            [
             0.8,
             "#7fbc41"
            ],
            [
             0.9,
             "#4d9221"
            ],
            [
             1,
             "#276419"
            ]
           ],
           "sequential": [
            [
             0,
             "#0d0887"
            ],
            [
             0.1111111111111111,
             "#46039f"
            ],
            [
             0.2222222222222222,
             "#7201a8"
            ],
            [
             0.3333333333333333,
             "#9c179e"
            ],
            [
             0.4444444444444444,
             "#bd3786"
            ],
            [
             0.5555555555555556,
             "#d8576b"
            ],
            [
             0.6666666666666666,
             "#ed7953"
            ],
            [
             0.7777777777777778,
             "#fb9f3a"
            ],
            [
             0.8888888888888888,
             "#fdca26"
            ],
            [
             1,
             "#f0f921"
            ]
           ],
           "sequentialminus": [
            [
             0,
             "#0d0887"
            ],
            [
             0.1111111111111111,
             "#46039f"
            ],
            [
             0.2222222222222222,
             "#7201a8"
            ],
            [
             0.3333333333333333,
             "#9c179e"
            ],
            [
             0.4444444444444444,
             "#bd3786"
            ],
            [
             0.5555555555555556,
             "#d8576b"
            ],
            [
             0.6666666666666666,
             "#ed7953"
            ],
            [
             0.7777777777777778,
             "#fb9f3a"
            ],
            [
             0.8888888888888888,
             "#fdca26"
            ],
            [
             1,
             "#f0f921"
            ]
           ]
          },
          "colorway": [
           "#636efa",
           "#EF553B",
           "#00cc96",
           "#ab63fa",
           "#FFA15A",
           "#19d3f3",
           "#FF6692",
           "#B6E880",
           "#FF97FF",
           "#FECB52"
          ],
          "font": {
           "color": "#2a3f5f"
          },
          "geo": {
           "bgcolor": "white",
           "lakecolor": "white",
           "landcolor": "#E5ECF6",
           "showlakes": true,
           "showland": true,
           "subunitcolor": "white"
          },
          "hoverlabel": {
           "align": "left"
          },
          "hovermode": "closest",
          "mapbox": {
           "style": "light"
          },
          "paper_bgcolor": "white",
          "plot_bgcolor": "#E5ECF6",
          "polar": {
           "angularaxis": {
            "gridcolor": "white",
            "linecolor": "white",
            "ticks": ""
           },
           "bgcolor": "#E5ECF6",
           "radialaxis": {
            "gridcolor": "white",
            "linecolor": "white",
            "ticks": ""
           }
          },
          "scene": {
           "xaxis": {
            "backgroundcolor": "#E5ECF6",
            "gridcolor": "white",
            "gridwidth": 2,
            "linecolor": "white",
            "showbackground": true,
            "ticks": "",
            "zerolinecolor": "white"
           },
           "yaxis": {
            "backgroundcolor": "#E5ECF6",
            "gridcolor": "white",
            "gridwidth": 2,
            "linecolor": "white",
            "showbackground": true,
            "ticks": "",
            "zerolinecolor": "white"
           },
           "zaxis": {
            "backgroundcolor": "#E5ECF6",
            "gridcolor": "white",
            "gridwidth": 2,
            "linecolor": "white",
            "showbackground": true,
            "ticks": "",
            "zerolinecolor": "white"
           }
          },
          "shapedefaults": {
           "line": {
            "color": "#2a3f5f"
           }
          },
          "ternary": {
           "aaxis": {
            "gridcolor": "white",
            "linecolor": "white",
            "ticks": ""
           },
           "baxis": {
            "gridcolor": "white",
            "linecolor": "white",
            "ticks": ""
           },
           "bgcolor": "#E5ECF6",
           "caxis": {
            "gridcolor": "white",
            "linecolor": "white",
            "ticks": ""
           }
          },
          "title": {
           "x": 0.05
          },
          "xaxis": {
           "automargin": true,
           "gridcolor": "white",
           "linecolor": "white",
           "ticks": "",
           "title": {
            "standoff": 15
           },
           "zerolinecolor": "white",
           "zerolinewidth": 2
          },
          "yaxis": {
           "automargin": true,
           "gridcolor": "white",
           "linecolor": "white",
           "ticks": "",
           "title": {
            "standoff": 15
           },
           "zerolinecolor": "white",
           "zerolinewidth": 2
          }
         }
        },
        "title": {
         "text": "ITService Diff"
        }
       }
      }
     },
     "metadata": {},
     "output_type": "display_data"
    }
   ],
   "source": [
    "#plot sales diff\n",
    "plot_data = [\n",
    "    go.Scatter(\n",
    "        x=df_diff['YYMM'],\n",
    "        y=df_diff['diff'],\n",
    "    )\n",
    "]\n",
    "plot_layout = go.Layout(\n",
    "        title='ITService Diff'\n",
    "    )\n",
    "fig = go.Figure(data=plot_data, layout=plot_layout)\n",
    "pyoff.iplot(fig)"
   ]
  },
  {
   "cell_type": "code",
   "execution_count": 172,
   "metadata": {},
   "outputs": [],
   "source": [
    "#create dataframe for transformation from time series to supervised\n",
    "df_supervised = df_diff.drop(['prev_CNT'],axis=1)\n",
    "#adding lags\n",
    "for inc in range(1,6):\n",
    "    field_name = 'lag_' + str(inc)\n",
    "    df_supervised[field_name] = df_supervised['diff'].shift(inc)\n",
    "#drop null values\n",
    "df_supervised = df_supervised.dropna().reset_index(drop=True)"
   ]
  },
  {
   "cell_type": "code",
   "execution_count": 173,
   "metadata": {},
   "outputs": [
    {
     "data": {
      "text/html": [
       "<div>\n",
       "<style scoped>\n",
       "    .dataframe tbody tr th:only-of-type {\n",
       "        vertical-align: middle;\n",
       "    }\n",
       "\n",
       "    .dataframe tbody tr th {\n",
       "        vertical-align: top;\n",
       "    }\n",
       "\n",
       "    .dataframe thead th {\n",
       "        text-align: right;\n",
       "    }\n",
       "</style>\n",
       "<table border=\"1\" class=\"dataframe\">\n",
       "  <thead>\n",
       "    <tr style=\"text-align: right;\">\n",
       "      <th></th>\n",
       "      <th>YYMM</th>\n",
       "      <th>CNT</th>\n",
       "      <th>diff</th>\n",
       "      <th>lag_1</th>\n",
       "      <th>lag_2</th>\n",
       "      <th>lag_3</th>\n",
       "      <th>lag_4</th>\n",
       "      <th>lag_5</th>\n",
       "    </tr>\n",
       "  </thead>\n",
       "  <tbody>\n",
       "    <tr>\n",
       "      <th>0</th>\n",
       "      <td>2021-03-01</td>\n",
       "      <td>362</td>\n",
       "      <td>37.0</td>\n",
       "      <td>253.0</td>\n",
       "      <td>59.0</td>\n",
       "      <td>6.0</td>\n",
       "      <td>-3.0</td>\n",
       "      <td>-11.0</td>\n",
       "    </tr>\n",
       "    <tr>\n",
       "      <th>1</th>\n",
       "      <td>2021-04-01</td>\n",
       "      <td>264</td>\n",
       "      <td>-98.0</td>\n",
       "      <td>37.0</td>\n",
       "      <td>253.0</td>\n",
       "      <td>59.0</td>\n",
       "      <td>6.0</td>\n",
       "      <td>-3.0</td>\n",
       "    </tr>\n",
       "    <tr>\n",
       "      <th>2</th>\n",
       "      <td>2021-05-01</td>\n",
       "      <td>163</td>\n",
       "      <td>-101.0</td>\n",
       "      <td>-98.0</td>\n",
       "      <td>37.0</td>\n",
       "      <td>253.0</td>\n",
       "      <td>59.0</td>\n",
       "      <td>6.0</td>\n",
       "    </tr>\n",
       "    <tr>\n",
       "      <th>3</th>\n",
       "      <td>2021-06-01</td>\n",
       "      <td>200</td>\n",
       "      <td>37.0</td>\n",
       "      <td>-101.0</td>\n",
       "      <td>-98.0</td>\n",
       "      <td>37.0</td>\n",
       "      <td>253.0</td>\n",
       "      <td>59.0</td>\n",
       "    </tr>\n",
       "    <tr>\n",
       "      <th>4</th>\n",
       "      <td>2021-07-01</td>\n",
       "      <td>180</td>\n",
       "      <td>-20.0</td>\n",
       "      <td>37.0</td>\n",
       "      <td>-101.0</td>\n",
       "      <td>-98.0</td>\n",
       "      <td>37.0</td>\n",
       "      <td>253.0</td>\n",
       "    </tr>\n",
       "    <tr>\n",
       "      <th>5</th>\n",
       "      <td>2021-08-01</td>\n",
       "      <td>127</td>\n",
       "      <td>-53.0</td>\n",
       "      <td>-20.0</td>\n",
       "      <td>37.0</td>\n",
       "      <td>-101.0</td>\n",
       "      <td>-98.0</td>\n",
       "      <td>37.0</td>\n",
       "    </tr>\n",
       "    <tr>\n",
       "      <th>6</th>\n",
       "      <td>2021-09-01</td>\n",
       "      <td>107</td>\n",
       "      <td>-20.0</td>\n",
       "      <td>-53.0</td>\n",
       "      <td>-20.0</td>\n",
       "      <td>37.0</td>\n",
       "      <td>-101.0</td>\n",
       "      <td>-98.0</td>\n",
       "    </tr>\n",
       "    <tr>\n",
       "      <th>7</th>\n",
       "      <td>2021-10-01</td>\n",
       "      <td>137</td>\n",
       "      <td>30.0</td>\n",
       "      <td>-20.0</td>\n",
       "      <td>-53.0</td>\n",
       "      <td>-20.0</td>\n",
       "      <td>37.0</td>\n",
       "      <td>-101.0</td>\n",
       "    </tr>\n",
       "    <tr>\n",
       "      <th>8</th>\n",
       "      <td>2021-11-01</td>\n",
       "      <td>143</td>\n",
       "      <td>6.0</td>\n",
       "      <td>30.0</td>\n",
       "      <td>-20.0</td>\n",
       "      <td>-53.0</td>\n",
       "      <td>-20.0</td>\n",
       "      <td>37.0</td>\n",
       "    </tr>\n",
       "    <tr>\n",
       "      <th>9</th>\n",
       "      <td>2021-12-01</td>\n",
       "      <td>144</td>\n",
       "      <td>1.0</td>\n",
       "      <td>6.0</td>\n",
       "      <td>30.0</td>\n",
       "      <td>-20.0</td>\n",
       "      <td>-53.0</td>\n",
       "      <td>-20.0</td>\n",
       "    </tr>\n",
       "  </tbody>\n",
       "</table>\n",
       "</div>"
      ],
      "text/plain": [
       "        YYMM  CNT   diff  lag_1  lag_2  lag_3  lag_4  lag_5\n",
       "0 2021-03-01  362   37.0  253.0   59.0    6.0   -3.0  -11.0\n",
       "1 2021-04-01  264  -98.0   37.0  253.0   59.0    6.0   -3.0\n",
       "2 2021-05-01  163 -101.0  -98.0   37.0  253.0   59.0    6.0\n",
       "3 2021-06-01  200   37.0 -101.0  -98.0   37.0  253.0   59.0\n",
       "4 2021-07-01  180  -20.0   37.0 -101.0  -98.0   37.0  253.0\n",
       "5 2021-08-01  127  -53.0  -20.0   37.0 -101.0  -98.0   37.0\n",
       "6 2021-09-01  107  -20.0  -53.0  -20.0   37.0 -101.0  -98.0\n",
       "7 2021-10-01  137   30.0  -20.0  -53.0  -20.0   37.0 -101.0\n",
       "8 2021-11-01  143    6.0   30.0  -20.0  -53.0  -20.0   37.0\n",
       "9 2021-12-01  144    1.0    6.0   30.0  -20.0  -53.0  -20.0"
      ]
     },
     "execution_count": 173,
     "metadata": {},
     "output_type": "execute_result"
    }
   ],
   "source": [
    "df_supervised.head(10)"
   ]
  },
  {
   "cell_type": "code",
   "execution_count": 174,
   "metadata": {},
   "outputs": [
    {
     "name": "stdout",
     "output_type": "stream",
     "text": [
      "-0.0206287418324389\n"
     ]
    }
   ],
   "source": [
    "# 변동 폭 확인 lag_1은 변동의 -0.010 %를 설명합니다\n",
    "# Import statsmodels.formula.api\n",
    "import statsmodels.formula.api as smf\n",
    "# Define the regression formula\n",
    "model = smf.ols(formula='diff ~ lag_1', data=df_supervised)\n",
    "# Fit the regression\n",
    "model_fit = model.fit()\n",
    "# Extract the adjusted r-squared\n",
    "regression_adj_rsq = model_fit.rsquared_adj\n",
    "print(regression_adj_rsq)"
   ]
  },
  {
   "cell_type": "code",
   "execution_count": 175,
   "metadata": {},
   "outputs": [
    {
     "name": "stdout",
     "output_type": "stream",
     "text": [
      "0.5315544295850183\n"
     ]
    }
   ],
   "source": [
    "# Define the regression formula\n",
    "model = smf.ols(formula='diff ~ lag_1 + lag_2', data=df_supervised)\n",
    "# Fit the regression\n",
    "model_fit = model.fit()\n",
    "# Extract the adjusted r-squared\n",
    "regression_adj_rsq = model_fit.rsquared_adj\n",
    "print(regression_adj_rsq)"
   ]
  },
  {
   "cell_type": "code",
   "execution_count": 176,
   "metadata": {},
   "outputs": [
    {
     "name": "stdout",
     "output_type": "stream",
     "text": [
      "0.8979956356434623\n"
     ]
    }
   ],
   "source": [
    "# Define the regression formula\n",
    "#model = smf.ols(formula='diff ~ lag_1 + lag_2 + lag_3 + lag_4 + lag_5 + lag_6 + lag_7 + lag_8 + lag_9 + lag_10 + lag_11 + lag_12 ', data=df_supervised)\n",
    "model = smf.ols(formula='diff ~ lag_1 + lag_2 + lag_3 + lag_4 + lag_5', data=df_supervised)\n",
    "#model = smf.ols(formula='diff ~ lag_1 + lag_2 + lag_3', data=df_supervised)\n",
    "# Fit the regression\n",
    "model_fit = model.fit()\n",
    "# Extract the adjusted r-squared\n",
    "regression_adj_rsq = model_fit.rsquared_adj\n",
    "print(regression_adj_rsq)"
   ]
  },
  {
   "cell_type": "code",
   "execution_count": 177,
   "metadata": {},
   "outputs": [],
   "source": [
    "#import MinMaxScaler and create a new dataframe for LSTM model\n",
    "from sklearn.preprocessing import MinMaxScaler\n",
    "df_model = df_supervised.drop(['CNT','YYMM'],axis=1)\n",
    "#split train and test set\n",
    "train_set, test_set = df_model[0:-6].values, df_model[-6:].values"
   ]
  },
  {
   "cell_type": "code",
   "execution_count": 201,
   "metadata": {},
   "outputs": [
    {
     "data": {
      "text/plain": [
       "array([[  37.,  253.,   59.,    6.,   -3.,  -11.],\n",
       "       [ -98.,   37.,  253.,   59.,    6.,   -3.],\n",
       "       [-101.,  -98.,   37.,  253.,   59.,    6.],\n",
       "       [  37., -101.,  -98.,   37.,  253.,   59.]])"
      ]
     },
     "execution_count": 201,
     "metadata": {},
     "output_type": "execute_result"
    }
   ],
   "source": [
    "df_model[0:-6].values"
   ]
  },
  {
   "cell_type": "code",
   "execution_count": 179,
   "metadata": {},
   "outputs": [],
   "source": [
    "#apply Min Max Scaler\n",
    "scaler = MinMaxScaler(feature_range=(-1, 1))\n",
    "scaler = scaler.fit(train_set)\n",
    "# reshape training set\n",
    "train_set = train_set.reshape(train_set.shape[0], train_set.shape[1])\n",
    "train_set_scaled = scaler.transform(train_set)\n",
    "# reshape test set\n",
    "test_set = test_set.reshape(test_set.shape[0], test_set.shape[1])\n",
    "test_set_scaled = scaler.transform(test_set)"
   ]
  },
  {
   "cell_type": "code",
   "execution_count": 180,
   "metadata": {},
   "outputs": [],
   "source": [
    "X_train, y_train = train_set_scaled[:, 1:], train_set_scaled[:, 0:1]\n",
    "X_train = X_train.reshape(X_train.shape[0], 1, X_train.shape[1])\n",
    "X_test, y_test = test_set_scaled[:, 1:], test_set_scaled[:, 0:1]\n",
    "X_test = X_test.reshape(X_test.shape[0], 1, X_test.shape[1])"
   ]
  },
  {
   "cell_type": "code",
   "execution_count": 181,
   "metadata": {},
   "outputs": [
    {
     "data": {
      "text/plain": [
       "(4, 1, 5)"
      ]
     },
     "execution_count": 181,
     "metadata": {},
     "output_type": "execute_result"
    }
   ],
   "source": [
    "X_train.shape"
   ]
  },
  {
   "cell_type": "code",
   "execution_count": 182,
   "metadata": {},
   "outputs": [
    {
     "name": "stdout",
     "output_type": "stream",
     "text": [
      "Epoch 1/260\n",
      "4/4 [==============================] - 1s 1ms/step - loss: 1.0425\n",
      "Epoch 2/260\n",
      "4/4 [==============================] - 0s 1ms/step - loss: 1.0219\n",
      "Epoch 3/260\n",
      "4/4 [==============================] - 0s 1ms/step - loss: 1.0042\n",
      "Epoch 4/260\n",
      "4/4 [==============================] - 0s 1ms/step - loss: 0.9865\n",
      "Epoch 5/260\n",
      "4/4 [==============================] - 0s 1ms/step - loss: 0.9687\n",
      "Epoch 6/260\n",
      "4/4 [==============================] - 0s 1ms/step - loss: 0.9510\n",
      "Epoch 7/260\n",
      "4/4 [==============================] - 0s 1ms/step - loss: 0.9333\n",
      "Epoch 8/260\n",
      "4/4 [==============================] - 0s 1ms/step - loss: 0.9157\n",
      "Epoch 9/260\n",
      "4/4 [==============================] - 0s 1ms/step - loss: 0.8982\n",
      "Epoch 10/260\n",
      "4/4 [==============================] - 0s 1ms/step - loss: 0.8808\n",
      "Epoch 11/260\n",
      "4/4 [==============================] - 0s 1ms/step - loss: 0.8634\n",
      "Epoch 12/260\n",
      "4/4 [==============================] - 0s 1ms/step - loss: 0.8461\n",
      "Epoch 13/260\n",
      "4/4 [==============================] - 0s 1ms/step - loss: 0.8287\n",
      "Epoch 14/260\n",
      "4/4 [==============================] - 0s 1ms/step - loss: 0.8112\n",
      "Epoch 15/260\n",
      "4/4 [==============================] - 0s 1ms/step - loss: 0.7935\n",
      "Epoch 16/260\n",
      "4/4 [==============================] - 0s 1ms/step - loss: 0.7757\n",
      "Epoch 17/260\n",
      "4/4 [==============================] - 0s 1ms/step - loss: 0.7577\n",
      "Epoch 18/260\n",
      "4/4 [==============================] - 0s 1ms/step - loss: 0.7394\n",
      "Epoch 19/260\n",
      "4/4 [==============================] - 0s 1ms/step - loss: 0.7208\n",
      "Epoch 20/260\n",
      "4/4 [==============================] - 0s 1ms/step - loss: 0.7019\n",
      "Epoch 21/260\n",
      "4/4 [==============================] - 0s 1ms/step - loss: 0.6827\n",
      "Epoch 22/260\n",
      "4/4 [==============================] - 0s 1ms/step - loss: 0.6631\n",
      "Epoch 23/260\n",
      "4/4 [==============================] - 0s 1ms/step - loss: 0.6432\n",
      "Epoch 24/260\n",
      "4/4 [==============================] - 0s 1ms/step - loss: 0.6228\n",
      "Epoch 25/260\n",
      "4/4 [==============================] - 0s 1ms/step - loss: 0.6021\n",
      "Epoch 26/260\n",
      "4/4 [==============================] - 0s 1ms/step - loss: 0.5809\n",
      "Epoch 27/260\n",
      "4/4 [==============================] - 0s 1ms/step - loss: 0.5593\n",
      "Epoch 28/260\n",
      "4/4 [==============================] - 0s 1ms/step - loss: 0.5372\n",
      "Epoch 29/260\n",
      "4/4 [==============================] - 0s 993us/step - loss: 0.5148\n",
      "Epoch 30/260\n",
      "4/4 [==============================] - 0s 1ms/step - loss: 0.4919\n",
      "Epoch 31/260\n",
      "4/4 [==============================] - 0s 1ms/step - loss: 0.4687\n",
      "Epoch 32/260\n",
      "4/4 [==============================] - 0s 1ms/step - loss: 0.4452\n",
      "Epoch 33/260\n",
      "4/4 [==============================] - 0s 1ms/step - loss: 0.4213\n",
      "Epoch 34/260\n",
      "4/4 [==============================] - 0s 1ms/step - loss: 0.3973\n",
      "Epoch 35/260\n",
      "4/4 [==============================] - 0s 1ms/step - loss: 0.3732\n",
      "Epoch 36/260\n",
      "4/4 [==============================] - 0s 2ms/step - loss: 0.3490\n",
      "Epoch 37/260\n",
      "4/4 [==============================] - 0s 2ms/step - loss: 0.3249\n",
      "Epoch 38/260\n",
      "4/4 [==============================] - 0s 2ms/step - loss: 0.3010\n",
      "Epoch 39/260\n",
      "4/4 [==============================] - 0s 1ms/step - loss: 0.2774\n",
      "Epoch 40/260\n",
      "4/4 [==============================] - 0s 1ms/step - loss: 0.2544\n",
      "Epoch 41/260\n",
      "4/4 [==============================] - 0s 1ms/step - loss: 0.2319\n",
      "Epoch 42/260\n",
      "4/4 [==============================] - 0s 1ms/step - loss: 0.2103\n",
      "Epoch 43/260\n",
      "4/4 [==============================] - 0s 1ms/step - loss: 0.1896\n",
      "Epoch 44/260\n",
      "4/4 [==============================] - 0s 1ms/step - loss: 0.1699\n",
      "Epoch 45/260\n",
      "4/4 [==============================] - 0s 1ms/step - loss: 0.1514\n",
      "Epoch 46/260\n",
      "4/4 [==============================] - 0s 1ms/step - loss: 0.1342\n",
      "Epoch 47/260\n",
      "4/4 [==============================] - 0s 1ms/step - loss: 0.1183\n",
      "Epoch 48/260\n",
      "4/4 [==============================] - 0s 1ms/step - loss: 0.1037\n",
      "Epoch 49/260\n",
      "4/4 [==============================] - 0s 1ms/step - loss: 0.0906\n",
      "Epoch 50/260\n",
      "4/4 [==============================] - 0s 1ms/step - loss: 0.0788\n",
      "Epoch 51/260\n",
      "4/4 [==============================] - 0s 1ms/step - loss: 0.0683\n",
      "Epoch 52/260\n",
      "4/4 [==============================] - 0s 1ms/step - loss: 0.0591\n",
      "Epoch 53/260\n",
      "4/4 [==============================] - 0s 1ms/step - loss: 0.0510\n",
      "Epoch 54/260\n",
      "4/4 [==============================] - 0s 1ms/step - loss: 0.0439\n",
      "Epoch 55/260\n",
      "4/4 [==============================] - 0s 1ms/step - loss: 0.0378\n",
      "Epoch 56/260\n",
      "4/4 [==============================] - 0s 1ms/step - loss: 0.0324\n",
      "Epoch 57/260\n",
      "4/4 [==============================] - 0s 1ms/step - loss: 0.0279\n",
      "Epoch 58/260\n",
      "4/4 [==============================] - 0s 1ms/step - loss: 0.0239\n",
      "Epoch 59/260\n",
      "4/4 [==============================] - 0s 1ms/step - loss: 0.0204\n",
      "Epoch 60/260\n",
      "4/4 [==============================] - 0s 1ms/step - loss: 0.0175\n",
      "Epoch 61/260\n",
      "4/4 [==============================] - 0s 1ms/step - loss: 0.0149\n",
      "Epoch 62/260\n",
      "4/4 [==============================] - 0s 1ms/step - loss: 0.0126\n",
      "Epoch 63/260\n",
      "4/4 [==============================] - 0s 1ms/step - loss: 0.0106\n",
      "Epoch 64/260\n",
      "4/4 [==============================] - 0s 1ms/step - loss: 0.0089\n",
      "Epoch 65/260\n",
      "4/4 [==============================] - 0s 1ms/step - loss: 0.0074\n",
      "Epoch 66/260\n",
      "4/4 [==============================] - 0s 1ms/step - loss: 0.0061\n",
      "Epoch 67/260\n",
      "4/4 [==============================] - 0s 1ms/step - loss: 0.0050\n",
      "Epoch 68/260\n",
      "4/4 [==============================] - 0s 1ms/step - loss: 0.0041\n",
      "Epoch 69/260\n",
      "4/4 [==============================] - 0s 1ms/step - loss: 0.0033\n",
      "Epoch 70/260\n",
      "4/4 [==============================] - 0s 1ms/step - loss: 0.0027\n",
      "Epoch 71/260\n",
      "4/4 [==============================] - 0s 1ms/step - loss: 0.0021\n",
      "Epoch 72/260\n",
      "4/4 [==============================] - 0s 1ms/step - loss: 0.0017\n",
      "Epoch 73/260\n",
      "4/4 [==============================] - 0s 1ms/step - loss: 0.0013\n",
      "Epoch 74/260\n",
      "4/4 [==============================] - 0s 1ms/step - loss: 0.0010\n",
      "Epoch 75/260\n",
      "4/4 [==============================] - 0s 1ms/step - loss: 7.8258e-04\n",
      "Epoch 76/260\n",
      "4/4 [==============================] - 0s 1ms/step - loss: 5.9793e-04\n",
      "Epoch 77/260\n",
      "4/4 [==============================] - 0s 2ms/step - loss: 4.5322e-04\n",
      "Epoch 78/260\n",
      "4/4 [==============================] - 0s 1ms/step - loss: 3.4077e-04\n",
      "Epoch 79/260\n",
      "4/4 [==============================] - 0s 1ms/step - loss: 2.5409e-04\n",
      "Epoch 80/260\n",
      "4/4 [==============================] - 0s 1ms/step - loss: 1.8782e-04\n",
      "Epoch 81/260\n",
      "4/4 [==============================] - 0s 1ms/step - loss: 1.3758e-04\n",
      "Epoch 82/260\n",
      "4/4 [==============================] - 0s 1ms/step - loss: 9.9830e-05\n",
      "Epoch 83/260\n",
      "4/4 [==============================] - 0s 1ms/step - loss: 7.1733e-05\n",
      "Epoch 84/260\n",
      "4/4 [==============================] - 0s 1ms/step - loss: 5.1025e-05\n",
      "Epoch 85/260\n",
      "4/4 [==============================] - 0s 1ms/step - loss: 3.5925e-05\n",
      "Epoch 86/260\n",
      "4/4 [==============================] - 0s 1ms/step - loss: 2.5034e-05\n",
      "Epoch 87/260\n",
      "4/4 [==============================] - 0s 1ms/step - loss: 1.7264e-05\n",
      "Epoch 88/260\n",
      "4/4 [==============================] - 0s 1ms/step - loss: 1.1782e-05\n",
      "Epoch 89/260\n",
      "4/4 [==============================] - 0s 1ms/step - loss: 7.9565e-06\n",
      "Epoch 90/260\n",
      "4/4 [==============================] - 0s 1ms/step - loss: 5.3160e-06\n",
      "Epoch 91/260\n",
      "4/4 [==============================] - 0s 1ms/step - loss: 3.5121e-06\n",
      "Epoch 92/260\n",
      "4/4 [==============================] - 0s 1ms/step - loss: 2.2935e-06\n",
      "Epoch 93/260\n",
      "4/4 [==============================] - 0s 1ms/step - loss: 1.4789e-06\n",
      "Epoch 94/260\n",
      "4/4 [==============================] - 0s 1ms/step - loss: 9.4056e-07\n",
      "Epoch 95/260\n",
      "4/4 [==============================] - 0s 1ms/step - loss: 5.8884e-07\n",
      "Epoch 96/260\n",
      "4/4 [==============================] - 0s 1ms/step - loss: 3.6217e-07\n",
      "Epoch 97/260\n",
      "4/4 [==============================] - 0s 1ms/step - loss: 2.1835e-07\n",
      "Epoch 98/260\n",
      "4/4 [==============================] - 0s 1ms/step - loss: 1.2859e-07\n",
      "Epoch 99/260\n",
      "4/4 [==============================] - 0s 1ms/step - loss: 7.3784e-08\n",
      "Epoch 100/260\n",
      "4/4 [==============================] - 0s 1ms/step - loss: 4.1004e-08\n",
      "Epoch 101/260\n",
      "4/4 [==============================] - 0s 1ms/step - loss: 2.2005e-08\n",
      "Epoch 102/260\n",
      "4/4 [==============================] - 0s 1ms/step - loss: 1.1261e-08\n",
      "Epoch 103/260\n",
      "4/4 [==============================] - 0s 1ms/step - loss: 5.4385e-09\n",
      "Epoch 104/260\n",
      "4/4 [==============================] - 0s 1ms/step - loss: 2.4325e-09\n",
      "Epoch 105/260\n",
      "4/4 [==============================] - 0s 1ms/step - loss: 9.7250e-10\n",
      "Epoch 106/260\n",
      "4/4 [==============================] - 0s 1ms/step - loss: 3.2748e-10\n",
      "Epoch 107/260\n",
      "4/4 [==============================] - 0s 1ms/step - loss: 8.1156e-11\n",
      "Epoch 108/260\n",
      "4/4 [==============================] - 0s 1ms/step - loss: 1.7874e-11\n",
      "Epoch 109/260\n",
      "4/4 [==============================] - 0s 1ms/step - loss: 2.3570e-11\n",
      "Epoch 110/260\n",
      "4/4 [==============================] - 0s 1ms/step - loss: 4.7043e-11\n",
      "Epoch 111/260\n",
      "4/4 [==============================] - 0s 1ms/step - loss: 6.7946e-11\n",
      "Epoch 112/260\n",
      "4/4 [==============================] - 0s 1ms/step - loss: 7.6504e-11\n",
      "Epoch 113/260\n",
      "4/4 [==============================] - 0s 1ms/step - loss: 7.8852e-11\n",
      "Epoch 114/260\n",
      "4/4 [==============================] - 0s 1ms/step - loss: 7.2848e-11\n",
      "Epoch 115/260\n",
      "4/4 [==============================] - 0s 1ms/step - loss: 6.5463e-11\n",
      "Epoch 116/260\n",
      "4/4 [==============================] - 0s 1ms/step - loss: 5.5223e-11\n",
      "Epoch 117/260\n",
      "4/4 [==============================] - 0s 1ms/step - loss: 4.4996e-11\n",
      "Epoch 118/260\n",
      "4/4 [==============================] - 0s 1ms/step - loss: 3.3741e-11\n",
      "Epoch 119/260\n",
      "4/4 [==============================] - 0s 1ms/step - loss: 2.4916e-11\n",
      "Epoch 120/260\n",
      "4/4 [==============================] - 0s 1ms/step - loss: 1.6642e-11\n",
      "Epoch 121/260\n",
      "4/4 [==============================] - 0s 1ms/step - loss: 1.1362e-11\n",
      "Epoch 122/260\n",
      "4/4 [==============================] - 0s 1ms/step - loss: 6.6080e-12\n",
      "Epoch 123/260\n",
      "4/4 [==============================] - 0s 1ms/step - loss: 4.6798e-12\n",
      "Epoch 124/260\n",
      "4/4 [==============================] - 0s 1ms/step - loss: 2.8386e-12\n",
      "Epoch 125/260\n",
      "4/4 [==============================] - 0s 1ms/step - loss: 1.8092e-12\n",
      "Epoch 126/260\n",
      "4/4 [==============================] - 0s 1ms/step - loss: 1.2079e-12\n",
      "Epoch 127/260\n",
      "4/4 [==============================] - 0s 1ms/step - loss: 8.6420e-13\n",
      "Epoch 128/260\n",
      "4/4 [==============================] - 0s 1ms/step - loss: 5.4357e-13\n",
      "Epoch 129/260\n",
      "4/4 [==============================] - 0s 1ms/step - loss: 3.1974e-13\n",
      "Epoch 130/260\n",
      "4/4 [==============================] - 0s 1ms/step - loss: 3.0642e-13\n",
      "Epoch 131/260\n",
      "4/4 [==============================] - 0s 1ms/step - loss: 2.7445e-13\n",
      "Epoch 132/260\n",
      "4/4 [==============================] - 0s 1ms/step - loss: 2.5580e-13\n",
      "Epoch 133/260\n",
      "4/4 [==============================] - 0s 1ms/step - loss: 1.9540e-13\n",
      "Epoch 134/260\n",
      "4/4 [==============================] - 0s 1ms/step - loss: 2.1405e-13\n",
      "Epoch 135/260\n",
      "4/4 [==============================] - 0s 1ms/step - loss: 1.6787e-13\n",
      "Epoch 136/260\n",
      "4/4 [==============================] - 0s 1ms/step - loss: 1.5721e-13\n",
      "Epoch 137/260\n",
      "4/4 [==============================] - 0s 1ms/step - loss: 1.1813e-13\n",
      "Epoch 138/260\n",
      "4/4 [==============================] - 0s 1ms/step - loss: 1.3944e-13\n",
      "Epoch 139/260\n",
      "4/4 [==============================] - 0s 1ms/step - loss: 6.8390e-14\n",
      "Epoch 140/260\n",
      "4/4 [==============================] - 0s 1ms/step - loss: 8.6153e-14\n",
      "Epoch 141/260\n",
      "4/4 [==============================] - 0s 1ms/step - loss: 7.9048e-14\n",
      "Epoch 142/260\n",
      "4/4 [==============================] - 0s 1ms/step - loss: 7.4607e-14\n",
      "Epoch 143/260\n",
      "4/4 [==============================] - 0s 1ms/step - loss: 5.4179e-14\n",
      "Epoch 144/260\n",
      "4/4 [==============================] - 0s 1ms/step - loss: 5.4179e-14\n",
      "Epoch 145/260\n",
      "4/4 [==============================] - 0s 1ms/step - loss: 6.8390e-14\n",
      "Epoch 146/260\n",
      "4/4 [==============================] - 0s 1ms/step - loss: 7.1942e-14\n",
      "Epoch 147/260\n",
      "4/4 [==============================] - 0s 1ms/step - loss: 6.9278e-14\n",
      "Epoch 148/260\n",
      "4/4 [==============================] - 0s 1ms/step - loss: 6.8390e-14\n",
      "Epoch 149/260\n",
      "4/4 [==============================] - 0s 1ms/step - loss: 4.0856e-14\n",
      "Epoch 150/260\n",
      "4/4 [==============================] - 0s 1ms/step - loss: 4.9738e-14\n",
      "Epoch 151/260\n",
      "4/4 [==============================] - 0s 1ms/step - loss: 3.9968e-14\n",
      "Epoch 152/260\n",
      "4/4 [==============================] - 0s 1ms/step - loss: 5.7732e-14\n",
      "Epoch 153/260\n",
      "4/4 [==============================] - 0s 1ms/step - loss: 7.9048e-14\n",
      "Epoch 154/260\n",
      "4/4 [==============================] - 0s 1ms/step - loss: 6.8390e-14\n",
      "Epoch 155/260\n",
      "4/4 [==============================] - 0s 1ms/step - loss: 4.0856e-14\n",
      "Epoch 156/260\n",
      "4/4 [==============================] - 0s 1ms/step - loss: 4.9738e-14\n",
      "Epoch 157/260\n",
      "4/4 [==============================] - 0s 1ms/step - loss: 6.8390e-14\n",
      "Epoch 158/260\n",
      "4/4 [==============================] - 0s 1ms/step - loss: 6.8390e-14\n",
      "Epoch 159/260\n",
      "4/4 [==============================] - 0s 1ms/step - loss: 5.7732e-14\n",
      "Epoch 160/260\n",
      "4/4 [==============================] - 0s 1ms/step - loss: 5.1514e-14\n",
      "Epoch 161/260\n",
      "4/4 [==============================] - 0s 1ms/step - loss: 5.5067e-14\n",
      "Epoch 162/260\n",
      "4/4 [==============================] - 0s 1ms/step - loss: 5.4179e-14\n",
      "Epoch 163/260\n",
      "4/4 [==============================] - 0s 1ms/step - loss: 5.4179e-14\n",
      "Epoch 164/260\n",
      "4/4 [==============================] - 0s 1ms/step - loss: 2.2204e-14\n",
      "Epoch 165/260\n",
      "4/4 [==============================] - 0s 1ms/step - loss: 2.6645e-14\n",
      "Epoch 166/260\n",
      "4/4 [==============================] - 0s 1ms/step - loss: 2.3093e-14\n",
      "Epoch 167/260\n",
      "4/4 [==============================] - 0s 1ms/step - loss: 3.6415e-14\n",
      "Epoch 168/260\n",
      "4/4 [==============================] - 0s 1ms/step - loss: 3.9968e-14\n",
      "Epoch 169/260\n",
      "4/4 [==============================] - 0s 1ms/step - loss: 3.6415e-14\n",
      "Epoch 170/260\n",
      "4/4 [==============================] - 0s 1ms/step - loss: 1.7764e-14\n",
      "Epoch 171/260\n",
      "4/4 [==============================] - 0s 1ms/step - loss: 1.8652e-14\n",
      "Epoch 172/260\n",
      "4/4 [==============================] - 0s 1ms/step - loss: 3.1974e-14\n",
      "Epoch 173/260\n",
      "4/4 [==============================] - 0s 1ms/step - loss: 2.9310e-14\n",
      "Epoch 174/260\n",
      "4/4 [==============================] - 0s 1ms/step - loss: 3.1974e-14\n",
      "Epoch 175/260\n",
      "4/4 [==============================] - 0s 1ms/step - loss: 1.7764e-14\n",
      "Epoch 176/260\n",
      "4/4 [==============================] - 0s 1ms/step - loss: 2.2204e-14\n",
      "Epoch 177/260\n",
      "4/4 [==============================] - 0s 1ms/step - loss: 1.0658e-14\n",
      "Epoch 178/260\n",
      "4/4 [==============================] - 0s 1ms/step - loss: 1.8652e-14\n",
      "Epoch 179/260\n",
      "4/4 [==============================] - 0s 1ms/step - loss: 1.8652e-14\n",
      "Epoch 180/260\n",
      "4/4 [==============================] - 0s 1ms/step - loss: 2.1316e-14\n",
      "Epoch 181/260\n",
      "4/4 [==============================] - 0s 1ms/step - loss: 1.0658e-14\n",
      "Epoch 182/260\n",
      "4/4 [==============================] - 0s 1ms/step - loss: 3.6415e-14\n",
      "Epoch 183/260\n",
      "4/4 [==============================] - 0s 1ms/step - loss: 2.9310e-14\n",
      "Epoch 184/260\n",
      "4/4 [==============================] - 0s 1ms/step - loss: 1.5099e-14\n",
      "Epoch 185/260\n",
      "4/4 [==============================] - 0s 1ms/step - loss: 2.4869e-14\n",
      "Epoch 186/260\n",
      "4/4 [==============================] - 0s 1ms/step - loss: 1.9540e-14\n",
      "Epoch 187/260\n",
      "4/4 [==============================] - 0s 1ms/step - loss: 3.1974e-14\n",
      "Epoch 188/260\n",
      "4/4 [==============================] - 0s 1ms/step - loss: 3.1974e-14\n",
      "Epoch 189/260\n",
      "4/4 [==============================] - 0s 1ms/step - loss: 2.9310e-14\n",
      "Epoch 190/260\n",
      "4/4 [==============================] - 0s 1ms/step - loss: 2.8422e-14\n",
      "Epoch 191/260\n",
      "4/4 [==============================] - 0s 1ms/step - loss: 2.8422e-14\n",
      "Epoch 192/260\n",
      "4/4 [==============================] - 0s 1ms/step - loss: 1.8652e-14\n",
      "Epoch 193/260\n",
      "4/4 [==============================] - 0s 1ms/step - loss: 2.1316e-14\n",
      "Epoch 194/260\n",
      "4/4 [==============================] - 0s 1ms/step - loss: 1.5099e-14\n",
      "Epoch 195/260\n",
      "4/4 [==============================] - 0s 1ms/step - loss: 1.5099e-14\n",
      "Epoch 196/260\n",
      "4/4 [==============================] - 0s 1ms/step - loss: 1.2434e-14\n",
      "Epoch 197/260\n",
      "4/4 [==============================] - 0s 1ms/step - loss: 1.5099e-14\n",
      "Epoch 198/260\n",
      "4/4 [==============================] - 0s 1ms/step - loss: 1.1546e-14\n",
      "Epoch 199/260\n",
      "4/4 [==============================] - 0s 1ms/step - loss: 7.9936e-15\n",
      "Epoch 200/260\n",
      "4/4 [==============================] - 0s 1ms/step - loss: 1.2434e-14\n",
      "Epoch 201/260\n",
      "4/4 [==============================] - 0s 1ms/step - loss: 7.9936e-15\n",
      "Epoch 202/260\n",
      "4/4 [==============================] - 0s 1ms/step - loss: 1.1546e-14\n",
      "Epoch 203/260\n",
      "4/4 [==============================] - 0s 1ms/step - loss: 7.9936e-15\n",
      "Epoch 204/260\n",
      "4/4 [==============================] - 0s 1ms/step - loss: 7.1054e-15\n",
      "Epoch 205/260\n",
      "4/4 [==============================] - 0s 1ms/step - loss: 2.2204e-14\n",
      "Epoch 206/260\n",
      "4/4 [==============================] - 0s 1ms/step - loss: 7.9936e-15\n",
      "Epoch 207/260\n",
      "4/4 [==============================] - 0s 1ms/step - loss: 2.3093e-14\n",
      "Epoch 208/260\n",
      "4/4 [==============================] - 0s 1ms/step - loss: 1.0658e-14\n",
      "Epoch 209/260\n",
      "4/4 [==============================] - 0s 1ms/step - loss: 1.5099e-14\n",
      "Epoch 210/260\n",
      "4/4 [==============================] - 0s 1ms/step - loss: 7.9936e-15\n",
      "Epoch 211/260\n",
      "4/4 [==============================] - 0s 1ms/step - loss: 1.1546e-14\n",
      "Epoch 212/260\n",
      "4/4 [==============================] - 0s 1ms/step - loss: 1.8652e-14\n",
      "Epoch 213/260\n",
      "4/4 [==============================] - 0s 1ms/step - loss: 1.0658e-14\n",
      "Epoch 214/260\n",
      "4/4 [==============================] - 0s 1ms/step - loss: 1.1546e-14\n",
      "Epoch 215/260\n",
      "4/4 [==============================] - 0s 1ms/step - loss: 2.3093e-14\n",
      "Epoch 216/260\n",
      "4/4 [==============================] - 0s 1ms/step - loss: 1.2434e-14\n",
      "Epoch 217/260\n",
      "4/4 [==============================] - 0s 1ms/step - loss: 8.8818e-15\n",
      "Epoch 218/260\n",
      "4/4 [==============================] - 0s 1ms/step - loss: 1.7764e-15\n",
      "Epoch 219/260\n",
      "4/4 [==============================] - 0s 1ms/step - loss: 4.4409e-15\n",
      "Epoch 220/260\n",
      "4/4 [==============================] - 0s 1ms/step - loss: 3.5527e-15\n",
      "Epoch 221/260\n",
      "4/4 [==============================] - 0s 1ms/step - loss: 7.1054e-15\n",
      "Epoch 222/260\n",
      "4/4 [==============================] - 0s 1ms/step - loss: 8.8818e-15\n",
      "Epoch 223/260\n",
      "4/4 [==============================] - 0s 1ms/step - loss: 7.1054e-15\n",
      "Epoch 224/260\n",
      "4/4 [==============================] - 0s 1ms/step - loss: 1.0658e-14\n",
      "Epoch 225/260\n",
      "4/4 [==============================] - 0s 1ms/step - loss: 4.4409e-15\n",
      "Epoch 226/260\n",
      "4/4 [==============================] - 0s 1ms/step - loss: 7.9936e-15\n",
      "Epoch 227/260\n",
      "4/4 [==============================] - 0s 1ms/step - loss: 7.9936e-15\n",
      "Epoch 228/260\n",
      "4/4 [==============================] - 0s 1ms/step - loss: 8.8818e-16\n",
      "Epoch 229/260\n",
      "4/4 [==============================] - 0s 1ms/step - loss: 1.1546e-14\n",
      "Epoch 230/260\n",
      "4/4 [==============================] - 0s 1ms/step - loss: 7.1054e-15\n",
      "Epoch 231/260\n",
      "4/4 [==============================] - 0s 1ms/step - loss: 4.4409e-15\n",
      "Epoch 232/260\n",
      "4/4 [==============================] - 0s 1ms/step - loss: 7.1054e-15\n",
      "Epoch 233/260\n",
      "4/4 [==============================] - 0s 1ms/step - loss: 4.4409e-15\n",
      "Epoch 234/260\n",
      "4/4 [==============================] - 0s 1ms/step - loss: 8.8818e-16\n",
      "Epoch 235/260\n",
      "4/4 [==============================] - 0s 1ms/step - loss: 4.4409e-15\n",
      "Epoch 236/260\n",
      "4/4 [==============================] - 0s 1ms/step - loss: 8.8818e-16\n",
      "Epoch 237/260\n",
      "4/4 [==============================] - 0s 1ms/step - loss: 3.5527e-15\n",
      "Epoch 238/260\n",
      "4/4 [==============================] - 0s 1ms/step - loss: 0.0000e+00\n",
      "Epoch 239/260\n",
      "4/4 [==============================] - 0s 1ms/step - loss: 7.1054e-15\n",
      "Epoch 240/260\n",
      "4/4 [==============================] - 0s 1ms/step - loss: 0.0000e+00\n",
      "Epoch 241/260\n",
      "4/4 [==============================] - 0s 1ms/step - loss: 3.5527e-15\n",
      "Epoch 242/260\n",
      "4/4 [==============================] - 0s 1ms/step - loss: 7.1054e-15\n",
      "Epoch 243/260\n",
      "4/4 [==============================] - 0s 1ms/step - loss: 8.8818e-16\n",
      "Epoch 244/260\n",
      "4/4 [==============================] - 0s 1ms/step - loss: 1.7764e-15\n",
      "Epoch 245/260\n",
      "4/4 [==============================] - 0s 1ms/step - loss: 7.1054e-15\n",
      "Epoch 246/260\n",
      "4/4 [==============================] - 0s 1ms/step - loss: 4.4409e-15\n",
      "Epoch 247/260\n",
      "4/4 [==============================] - 0s 1ms/step - loss: 8.8818e-16\n",
      "Epoch 248/260\n",
      "4/4 [==============================] - 0s 1ms/step - loss: 8.8818e-16\n",
      "Epoch 249/260\n",
      "4/4 [==============================] - 0s 1ms/step - loss: 4.4409e-15\n",
      "Epoch 250/260\n",
      "4/4 [==============================] - 0s 1ms/step - loss: 4.4409e-15\n",
      "Epoch 251/260\n",
      "4/4 [==============================] - 0s 1ms/step - loss: 7.1054e-15\n",
      "Epoch 252/260\n",
      "4/4 [==============================] - 0s 1ms/step - loss: 1.1546e-14\n",
      "Epoch 253/260\n",
      "4/4 [==============================] - 0s 1ms/step - loss: 3.5527e-15\n",
      "Epoch 254/260\n",
      "4/4 [==============================] - 0s 1ms/step - loss: 4.4409e-15\n",
      "Epoch 255/260\n",
      "4/4 [==============================] - 0s 1ms/step - loss: 4.4409e-15\n",
      "Epoch 256/260\n",
      "4/4 [==============================] - 0s 1ms/step - loss: 0.0000e+00\n",
      "Epoch 257/260\n",
      "4/4 [==============================] - 0s 1ms/step - loss: 4.4409e-15\n",
      "Epoch 258/260\n",
      "4/4 [==============================] - 0s 1ms/step - loss: 8.8818e-16\n",
      "Epoch 259/260\n",
      "4/4 [==============================] - 0s 1ms/step - loss: 4.4409e-15\n",
      "Epoch 260/260\n",
      "4/4 [==============================] - 0s 1ms/step - loss: 1.4211e-14\n"
     ]
    },
    {
     "data": {
      "text/plain": [
       "<keras.callbacks.History at 0x2a56a199400>"
      ]
     },
     "execution_count": 182,
     "metadata": {},
     "output_type": "execute_result"
    }
   ],
   "source": [
    "model = Sequential()\n",
    "model.add(LSTM(32, batch_input_shape=(1, X_train.shape[1], X_train.shape[2]), stateful=True))\n",
    "model.add(Dense(1))\n",
    "model.compile(loss='mean_squared_error', optimizer='adam')\n",
    "model.fit(X_train, y_train, epochs=260, batch_size=1, verbose=1, shuffle=False)"
   ]
  },
  {
   "cell_type": "code",
   "execution_count": 192,
   "metadata": {},
   "outputs": [
    {
     "data": {
      "text/plain": [
       "array([[[-0.22033898, -1.01709402, -1.84210526, -0.6875    ,\n",
       "          6.54285714]],\n",
       "\n",
       "       [[-0.54237288, -0.23076923, -1.86639676, -1.7421875 ,\n",
       "          0.37142857]],\n",
       "\n",
       "       [[-0.72881356, -0.55555556, -0.74898785, -1.765625  ,\n",
       "         -3.48571429]],\n",
       "\n",
       "       [[-0.54237288, -0.74358974, -1.21052632, -0.6875    ,\n",
       "         -3.57142857]],\n",
       "\n",
       "       [[-0.25988701, -0.55555556, -1.47773279, -1.1328125 ,\n",
       "          0.37142857]],\n",
       "\n",
       "       [[-0.39548023, -0.27065527, -1.21052632, -1.390625  ,\n",
       "         -1.25714286]]])"
      ]
     },
     "execution_count": 192,
     "metadata": {},
     "output_type": "execute_result"
    }
   ],
   "source": [
    "y_pred = model.predict(X_test,batch_size=1)\n",
    "X_test"
   ]
  },
  {
   "cell_type": "code",
   "execution_count": 184,
   "metadata": {},
   "outputs": [
    {
     "name": "stdout",
     "output_type": "stream",
     "text": [
      "[[ 1.33150899 -0.22033898 -1.01709402 -1.84210526 -0.6875      6.54285714]]\n",
      "[[ 1.0516386  -0.54237288 -0.23076923 -1.86639676 -1.7421875   0.37142857]]\n",
      "[[-0.15376028 -0.72881356 -0.55555556 -0.74898785 -1.765625   -3.48571429]]\n",
      "[[-0.45782259 -0.54237288 -0.74358974 -1.21052632 -0.6875     -3.57142857]]\n",
      "[[-0.36700934 -0.25988701 -0.55555556 -1.47773279 -1.1328125   0.37142857]]\n",
      "[[-0.94316846 -0.39548023 -0.27065527 -1.21052632 -1.390625   -1.25714286]]\n"
     ]
    },
    {
     "data": {
      "text/plain": [
       "array([[ 1.33150899, -0.22033898, -1.01709402, -1.84210526, -0.6875    ,\n",
       "         6.54285714],\n",
       "       [ 1.0516386 , -0.54237288, -0.23076923, -1.86639676, -1.7421875 ,\n",
       "         0.37142857],\n",
       "       [-0.15376028, -0.72881356, -0.55555556, -0.74898785, -1.765625  ,\n",
       "        -3.48571429],\n",
       "       [-0.45782259, -0.54237288, -0.74358974, -1.21052632, -0.6875    ,\n",
       "        -3.57142857],\n",
       "       [-0.36700934, -0.25988701, -0.55555556, -1.47773279, -1.1328125 ,\n",
       "         0.37142857],\n",
       "       [-0.94316846, -0.39548023, -0.27065527, -1.21052632, -1.390625  ,\n",
       "        -1.25714286]])"
      ]
     },
     "execution_count": 184,
     "metadata": {},
     "output_type": "execute_result"
    }
   ],
   "source": [
    "#reshape y_pred\n",
    "y_pred = y_pred.reshape(y_pred.shape[0], 1, y_pred.shape[1])\n",
    "#rebuild test set for inverse transform\n",
    "pred_test_set = []\n",
    "for index in range(0,len(y_pred)):\n",
    "    print(np.concatenate([y_pred[index],X_test[index]],axis=1))\n",
    "    pred_test_set.append(np.concatenate([y_pred[index],X_test[index]],axis=1))\n",
    "#reshape pred_test_set\n",
    "pred_test_set = np.array(pred_test_set)\n",
    "pred_test_set = pred_test_set.reshape(pred_test_set.shape[0], pred_test_set.shape[2])\n",
    "#inverse transform\n",
    "pred_test_set_inverted = scaler.inverse_transform(pred_test_set)\n",
    "pred_test_set\n"
   ]
  },
  {
   "cell_type": "code",
   "execution_count": 191,
   "metadata": {},
   "outputs": [
    {
     "data": {
      "text/plain": [
       "array([[  59.87412059,   37.        , -101.        ,  -98.        ,\n",
       "          37.        ,  253.        ],\n",
       "       [  40.56306362,  -20.        ,   37.        , -101.        ,\n",
       "         -98.        ,   37.        ],\n",
       "       [ -42.60945961,  -53.        ,  -20.        ,   37.        ,\n",
       "        -101.        ,  -98.        ],\n",
       "       [ -63.58975878,  -20.        ,  -53.        ,  -20.        ,\n",
       "          37.        , -101.        ],\n",
       "       [ -57.32364458,   30.        ,  -20.        ,  -53.        ,\n",
       "         -20.        ,   37.        ],\n",
       "       [ -97.07862383,    6.        ,   30.        ,  -20.        ,\n",
       "         -53.        ,  -20.        ]])"
      ]
     },
     "execution_count": 191,
     "metadata": {},
     "output_type": "execute_result"
    }
   ],
   "source": [
    "pred_test_set_inverted"
   ]
  },
  {
   "cell_type": "code",
   "execution_count": 186,
   "metadata": {},
   "outputs": [],
   "source": [
    "#create dataframe that shows the predicted sales\n",
    "result_list = []\n",
    "sales_dates = list(df[-7:].YYMM)\n",
    "act_sales = list(df[-7:].CNT)\n",
    "for index in range(0,len(pred_test_set_inverted)):\n",
    "    result_dict = {}\n",
    "    result_dict['pred_CNT'] = int(pred_test_set_inverted[index][0] + act_sales[index])\n",
    "    result_dict['YYMM'] = sales_dates[index+1]\n",
    "    result_list.append(result_dict)\n",
    "df_result = pd.DataFrame(result_list)\n",
    "#for multistep prediction, replace act_sales with the predicted sales"
   ]
  },
  {
   "cell_type": "code",
   "execution_count": 189,
   "metadata": {},
   "outputs": [
    {
     "data": {
      "text/html": [
       "<div>\n",
       "<style scoped>\n",
       "    .dataframe tbody tr th:only-of-type {\n",
       "        vertical-align: middle;\n",
       "    }\n",
       "\n",
       "    .dataframe tbody tr th {\n",
       "        vertical-align: top;\n",
       "    }\n",
       "\n",
       "    .dataframe thead th {\n",
       "        text-align: right;\n",
       "    }\n",
       "</style>\n",
       "<table border=\"1\" class=\"dataframe\">\n",
       "  <thead>\n",
       "    <tr style=\"text-align: right;\">\n",
       "      <th></th>\n",
       "      <th>pred_CNT</th>\n",
       "      <th>YYMM</th>\n",
       "    </tr>\n",
       "  </thead>\n",
       "  <tbody>\n",
       "    <tr>\n",
       "      <th>0</th>\n",
       "      <td>259</td>\n",
       "      <td>2021-07-01</td>\n",
       "    </tr>\n",
       "    <tr>\n",
       "      <th>1</th>\n",
       "      <td>220</td>\n",
       "      <td>2021-08-01</td>\n",
       "    </tr>\n",
       "    <tr>\n",
       "      <th>2</th>\n",
       "      <td>84</td>\n",
       "      <td>2021-09-01</td>\n",
       "    </tr>\n",
       "    <tr>\n",
       "      <th>3</th>\n",
       "      <td>43</td>\n",
       "      <td>2021-10-01</td>\n",
       "    </tr>\n",
       "    <tr>\n",
       "      <th>4</th>\n",
       "      <td>79</td>\n",
       "      <td>2021-11-01</td>\n",
       "    </tr>\n",
       "    <tr>\n",
       "      <th>5</th>\n",
       "      <td>45</td>\n",
       "      <td>2021-12-01</td>\n",
       "    </tr>\n",
       "  </tbody>\n",
       "</table>\n",
       "</div>"
      ],
      "text/plain": [
       "   pred_CNT       YYMM\n",
       "0       259 2021-07-01\n",
       "1       220 2021-08-01\n",
       "2        84 2021-09-01\n",
       "3        43 2021-10-01\n",
       "4        79 2021-11-01\n",
       "5        45 2021-12-01"
      ]
     },
     "execution_count": 189,
     "metadata": {},
     "output_type": "execute_result"
    }
   ],
   "source": [
    "df_result\n",
    "df_sales_pred = pd.merge(df,df_result,on='YYMM',how='left')\n",
    "df_result\n"
   ]
  },
  {
   "cell_type": "code",
   "execution_count": 188,
   "metadata": {},
   "outputs": [
    {
     "data": {
      "application/vnd.plotly.v1+json": {
       "config": {
        "linkText": "Export to plot.ly",
        "plotlyServerURL": "https://plot.ly",
        "showLink": false
       },
       "data": [
        {
         "name": "actual",
         "type": "scatter",
         "x": [
          "2013-05-01T00:00:00",
          "2013-06-01T00:00:00",
          "2013-07-01T00:00:00",
          "2013-08-01T00:00:00",
          "2013-09-01T00:00:00",
          "2013-10-01T00:00:00",
          "2013-11-01T00:00:00",
          "2013-12-01T00:00:00",
          "2014-01-01T00:00:00",
          "2014-02-01T00:00:00",
          "2014-03-01T00:00:00",
          "2014-04-01T00:00:00",
          "2014-05-01T00:00:00",
          "2014-06-01T00:00:00",
          "2014-07-01T00:00:00",
          "2014-08-01T00:00:00",
          "2014-09-01T00:00:00",
          "2014-10-01T00:00:00",
          "2014-11-01T00:00:00",
          "2014-12-01T00:00:00",
          "2015-01-01T00:00:00",
          "2015-02-01T00:00:00",
          "2015-03-01T00:00:00",
          "2015-04-01T00:00:00",
          "2015-05-01T00:00:00",
          "2015-06-01T00:00:00",
          "2015-07-01T00:00:00",
          "2015-08-01T00:00:00",
          "2015-09-01T00:00:00",
          "2015-10-01T00:00:00",
          "2015-11-01T00:00:00",
          "2015-12-01T00:00:00",
          "2016-01-01T00:00:00",
          "2016-02-01T00:00:00",
          "2016-03-01T00:00:00",
          "2016-04-01T00:00:00",
          "2016-05-01T00:00:00",
          "2016-06-01T00:00:00",
          "2016-07-01T00:00:00",
          "2016-08-01T00:00:00",
          "2016-09-01T00:00:00",
          "2016-10-01T00:00:00",
          "2016-11-01T00:00:00",
          "2016-12-01T00:00:00",
          "2017-01-01T00:00:00",
          "2017-02-01T00:00:00",
          "2017-03-01T00:00:00",
          "2017-04-01T00:00:00",
          "2017-05-01T00:00:00",
          "2017-06-01T00:00:00",
          "2017-07-01T00:00:00",
          "2017-08-01T00:00:00",
          "2017-09-01T00:00:00",
          "2017-10-01T00:00:00",
          "2017-11-01T00:00:00",
          "2017-12-01T00:00:00",
          "2018-01-01T00:00:00",
          "2018-02-01T00:00:00",
          "2018-03-01T00:00:00",
          "2018-04-01T00:00:00",
          "2018-05-01T00:00:00",
          "2018-06-01T00:00:00",
          "2018-07-01T00:00:00",
          "2018-08-01T00:00:00",
          "2018-09-01T00:00:00",
          "2018-10-01T00:00:00",
          "2018-11-01T00:00:00",
          "2018-12-01T00:00:00",
          "2019-01-01T00:00:00",
          "2019-02-01T00:00:00",
          "2019-03-01T00:00:00",
          "2019-04-01T00:00:00",
          "2019-05-01T00:00:00",
          "2019-06-01T00:00:00",
          "2019-07-01T00:00:00",
          "2019-08-01T00:00:00",
          "2019-09-01T00:00:00",
          "2019-10-01T00:00:00",
          "2019-11-01T00:00:00",
          "2019-12-01T00:00:00",
          "2020-01-01T00:00:00",
          "2020-02-01T00:00:00",
          "2020-03-01T00:00:00",
          "2020-04-01T00:00:00",
          "2020-05-01T00:00:00",
          "2020-06-01T00:00:00",
          "2020-07-01T00:00:00",
          "2020-08-01T00:00:00",
          "2020-09-01T00:00:00",
          "2020-10-01T00:00:00",
          "2020-11-01T00:00:00",
          "2020-12-01T00:00:00",
          "2021-01-01T00:00:00",
          "2021-02-01T00:00:00",
          "2021-03-01T00:00:00",
          "2021-04-01T00:00:00",
          "2021-05-01T00:00:00",
          "2021-06-01T00:00:00",
          "2021-07-01T00:00:00",
          "2021-08-01T00:00:00",
          "2021-09-01T00:00:00",
          "2021-10-01T00:00:00",
          "2021-11-01T00:00:00",
          "2021-12-01T00:00:00"
         ],
         "y": [
          14,
          70,
          25,
          15,
          13,
          19,
          19,
          40,
          126,
          82,
          82,
          82,
          74,
          83,
          74,
          58,
          57,
          44,
          64,
          70,
          87,
          72,
          129,
          98,
          41,
          104,
          77,
          72,
          65,
          91,
          67,
          59,
          124,
          75,
          85,
          80,
          101,
          79,
          60,
          50,
          70,
          65,
          45,
          42,
          105,
          94,
          76,
          74,
          60,
          88,
          78,
          62,
          73,
          40,
          98,
          52,
          112,
          46,
          37,
          17,
          21,
          19,
          11,
          24,
          17,
          25,
          39,
          41,
          75,
          41,
          37,
          50,
          68,
          47,
          49,
          37,
          48,
          81,
          55,
          26,
          32,
          35,
          25,
          22,
          17,
          14,
          13,
          13,
          21,
          10,
          7,
          13,
          72,
          325,
          362,
          264,
          163,
          200,
          180,
          127,
          107,
          137,
          143,
          144
         ]
        },
        {
         "name": "predicted",
         "type": "scatter",
         "x": [
          "2013-05-01T00:00:00",
          "2013-06-01T00:00:00",
          "2013-07-01T00:00:00",
          "2013-08-01T00:00:00",
          "2013-09-01T00:00:00",
          "2013-10-01T00:00:00",
          "2013-11-01T00:00:00",
          "2013-12-01T00:00:00",
          "2014-01-01T00:00:00",
          "2014-02-01T00:00:00",
          "2014-03-01T00:00:00",
          "2014-04-01T00:00:00",
          "2014-05-01T00:00:00",
          "2014-06-01T00:00:00",
          "2014-07-01T00:00:00",
          "2014-08-01T00:00:00",
          "2014-09-01T00:00:00",
          "2014-10-01T00:00:00",
          "2014-11-01T00:00:00",
          "2014-12-01T00:00:00",
          "2015-01-01T00:00:00",
          "2015-02-01T00:00:00",
          "2015-03-01T00:00:00",
          "2015-04-01T00:00:00",
          "2015-05-01T00:00:00",
          "2015-06-01T00:00:00",
          "2015-07-01T00:00:00",
          "2015-08-01T00:00:00",
          "2015-09-01T00:00:00",
          "2015-10-01T00:00:00",
          "2015-11-01T00:00:00",
          "2015-12-01T00:00:00",
          "2016-01-01T00:00:00",
          "2016-02-01T00:00:00",
          "2016-03-01T00:00:00",
          "2016-04-01T00:00:00",
          "2016-05-01T00:00:00",
          "2016-06-01T00:00:00",
          "2016-07-01T00:00:00",
          "2016-08-01T00:00:00",
          "2016-09-01T00:00:00",
          "2016-10-01T00:00:00",
          "2016-11-01T00:00:00",
          "2016-12-01T00:00:00",
          "2017-01-01T00:00:00",
          "2017-02-01T00:00:00",
          "2017-03-01T00:00:00",
          "2017-04-01T00:00:00",
          "2017-05-01T00:00:00",
          "2017-06-01T00:00:00",
          "2017-07-01T00:00:00",
          "2017-08-01T00:00:00",
          "2017-09-01T00:00:00",
          "2017-10-01T00:00:00",
          "2017-11-01T00:00:00",
          "2017-12-01T00:00:00",
          "2018-01-01T00:00:00",
          "2018-02-01T00:00:00",
          "2018-03-01T00:00:00",
          "2018-04-01T00:00:00",
          "2018-05-01T00:00:00",
          "2018-06-01T00:00:00",
          "2018-07-01T00:00:00",
          "2018-08-01T00:00:00",
          "2018-09-01T00:00:00",
          "2018-10-01T00:00:00",
          "2018-11-01T00:00:00",
          "2018-12-01T00:00:00",
          "2019-01-01T00:00:00",
          "2019-02-01T00:00:00",
          "2019-03-01T00:00:00",
          "2019-04-01T00:00:00",
          "2019-05-01T00:00:00",
          "2019-06-01T00:00:00",
          "2019-07-01T00:00:00",
          "2019-08-01T00:00:00",
          "2019-09-01T00:00:00",
          "2019-10-01T00:00:00",
          "2019-11-01T00:00:00",
          "2019-12-01T00:00:00",
          "2020-01-01T00:00:00",
          "2020-02-01T00:00:00",
          "2020-03-01T00:00:00",
          "2020-04-01T00:00:00",
          "2020-05-01T00:00:00",
          "2020-06-01T00:00:00",
          "2020-07-01T00:00:00",
          "2020-08-01T00:00:00",
          "2020-09-01T00:00:00",
          "2020-10-01T00:00:00",
          "2020-11-01T00:00:00",
          "2020-12-01T00:00:00",
          "2021-01-01T00:00:00",
          "2021-02-01T00:00:00",
          "2021-03-01T00:00:00",
          "2021-04-01T00:00:00",
          "2021-05-01T00:00:00",
          "2021-06-01T00:00:00",
          "2021-07-01T00:00:00",
          "2021-08-01T00:00:00",
          "2021-09-01T00:00:00",
          "2021-10-01T00:00:00",
          "2021-11-01T00:00:00",
          "2021-12-01T00:00:00"
         ],
         "y": [
          null,
          null,
          null,
          null,
          null,
          null,
          null,
          null,
          null,
          null,
          null,
          null,
          null,
          null,
          null,
          null,
          null,
          null,
          null,
          null,
          null,
          null,
          null,
          null,
          null,
          null,
          null,
          null,
          null,
          null,
          null,
          null,
          null,
          null,
          null,
          null,
          null,
          null,
          null,
          null,
          null,
          null,
          null,
          null,
          null,
          null,
          null,
          null,
          null,
          null,
          null,
          null,
          null,
          null,
          null,
          null,
          null,
          null,
          null,
          null,
          null,
          null,
          null,
          null,
          null,
          null,
          null,
          null,
          null,
          null,
          null,
          null,
          null,
          null,
          null,
          null,
          null,
          null,
          null,
          null,
          null,
          null,
          null,
          null,
          null,
          null,
          null,
          null,
          null,
          null,
          null,
          null,
          null,
          null,
          null,
          null,
          null,
          null,
          259,
          220,
          84,
          43,
          79,
          45
         ]
        }
       ],
       "layout": {
        "template": {
         "data": {
          "bar": [
           {
            "error_x": {
             "color": "#2a3f5f"
            },
            "error_y": {
             "color": "#2a3f5f"
            },
            "marker": {
             "line": {
              "color": "#E5ECF6",
              "width": 0.5
             },
             "pattern": {
              "fillmode": "overlay",
              "size": 10,
              "solidity": 0.2
             }
            },
            "type": "bar"
           }
          ],
          "barpolar": [
           {
            "marker": {
             "line": {
              "color": "#E5ECF6",
              "width": 0.5
             },
             "pattern": {
              "fillmode": "overlay",
              "size": 10,
              "solidity": 0.2
             }
            },
            "type": "barpolar"
           }
          ],
          "carpet": [
           {
            "aaxis": {
             "endlinecolor": "#2a3f5f",
             "gridcolor": "white",
             "linecolor": "white",
             "minorgridcolor": "white",
             "startlinecolor": "#2a3f5f"
            },
            "baxis": {
             "endlinecolor": "#2a3f5f",
             "gridcolor": "white",
             "linecolor": "white",
             "minorgridcolor": "white",
             "startlinecolor": "#2a3f5f"
            },
            "type": "carpet"
           }
          ],
          "choropleth": [
           {
            "colorbar": {
             "outlinewidth": 0,
             "ticks": ""
            },
            "type": "choropleth"
           }
          ],
          "contour": [
           {
            "colorbar": {
             "outlinewidth": 0,
             "ticks": ""
            },
            "colorscale": [
             [
              0,
              "#0d0887"
             ],
             [
              0.1111111111111111,
              "#46039f"
             ],
             [
              0.2222222222222222,
              "#7201a8"
             ],
             [
              0.3333333333333333,
              "#9c179e"
             ],
             [
              0.4444444444444444,
              "#bd3786"
             ],
             [
              0.5555555555555556,
              "#d8576b"
             ],
             [
              0.6666666666666666,
              "#ed7953"
             ],
             [
              0.7777777777777778,
              "#fb9f3a"
             ],
             [
              0.8888888888888888,
              "#fdca26"
             ],
             [
              1,
              "#f0f921"
             ]
            ],
            "type": "contour"
           }
          ],
          "contourcarpet": [
           {
            "colorbar": {
             "outlinewidth": 0,
             "ticks": ""
            },
            "type": "contourcarpet"
           }
          ],
          "heatmap": [
           {
            "colorbar": {
             "outlinewidth": 0,
             "ticks": ""
            },
            "colorscale": [
             [
              0,
              "#0d0887"
             ],
             [
              0.1111111111111111,
              "#46039f"
             ],
             [
              0.2222222222222222,
              "#7201a8"
             ],
             [
              0.3333333333333333,
              "#9c179e"
             ],
             [
              0.4444444444444444,
              "#bd3786"
             ],
             [
              0.5555555555555556,
              "#d8576b"
             ],
             [
              0.6666666666666666,
              "#ed7953"
             ],
             [
              0.7777777777777778,
              "#fb9f3a"
             ],
             [
              0.8888888888888888,
              "#fdca26"
             ],
             [
              1,
              "#f0f921"
             ]
            ],
            "type": "heatmap"
           }
          ],
          "heatmapgl": [
           {
            "colorbar": {
             "outlinewidth": 0,
             "ticks": ""
            },
            "colorscale": [
             [
              0,
              "#0d0887"
             ],
             [
              0.1111111111111111,
              "#46039f"
             ],
             [
              0.2222222222222222,
              "#7201a8"
             ],
             [
              0.3333333333333333,
              "#9c179e"
             ],
             [
              0.4444444444444444,
              "#bd3786"
             ],
             [
              0.5555555555555556,
              "#d8576b"
             ],
             [
              0.6666666666666666,
              "#ed7953"
             ],
             [
              0.7777777777777778,
              "#fb9f3a"
             ],
             [
              0.8888888888888888,
              "#fdca26"
             ],
             [
              1,
              "#f0f921"
             ]
            ],
            "type": "heatmapgl"
           }
          ],
          "histogram": [
           {
            "marker": {
             "pattern": {
              "fillmode": "overlay",
              "size": 10,
              "solidity": 0.2
             }
            },
            "type": "histogram"
           }
          ],
          "histogram2d": [
           {
            "colorbar": {
             "outlinewidth": 0,
             "ticks": ""
            },
            "colorscale": [
             [
              0,
              "#0d0887"
             ],
             [
              0.1111111111111111,
              "#46039f"
             ],
             [
              0.2222222222222222,
              "#7201a8"
             ],
             [
              0.3333333333333333,
              "#9c179e"
             ],
             [
              0.4444444444444444,
              "#bd3786"
             ],
             [
              0.5555555555555556,
              "#d8576b"
             ],
             [
              0.6666666666666666,
              "#ed7953"
             ],
             [
              0.7777777777777778,
              "#fb9f3a"
             ],
             [
              0.8888888888888888,
              "#fdca26"
             ],
             [
              1,
              "#f0f921"
             ]
            ],
            "type": "histogram2d"
           }
          ],
          "histogram2dcontour": [
           {
            "colorbar": {
             "outlinewidth": 0,
             "ticks": ""
            },
            "colorscale": [
             [
              0,
              "#0d0887"
             ],
             [
              0.1111111111111111,
              "#46039f"
             ],
             [
              0.2222222222222222,
              "#7201a8"
             ],
             [
              0.3333333333333333,
              "#9c179e"
             ],
             [
              0.4444444444444444,
              "#bd3786"
             ],
             [
              0.5555555555555556,
              "#d8576b"
             ],
             [
              0.6666666666666666,
              "#ed7953"
             ],
             [
              0.7777777777777778,
              "#fb9f3a"
             ],
             [
              0.8888888888888888,
              "#fdca26"
             ],
             [
              1,
              "#f0f921"
             ]
            ],
            "type": "histogram2dcontour"
           }
          ],
          "mesh3d": [
           {
            "colorbar": {
             "outlinewidth": 0,
             "ticks": ""
            },
            "type": "mesh3d"
           }
          ],
          "parcoords": [
           {
            "line": {
             "colorbar": {
              "outlinewidth": 0,
              "ticks": ""
             }
            },
            "type": "parcoords"
           }
          ],
          "pie": [
           {
            "automargin": true,
            "type": "pie"
           }
          ],
          "scatter": [
           {
            "marker": {
             "colorbar": {
              "outlinewidth": 0,
              "ticks": ""
             }
            },
            "type": "scatter"
           }
          ],
          "scatter3d": [
           {
            "line": {
             "colorbar": {
              "outlinewidth": 0,
              "ticks": ""
             }
            },
            "marker": {
             "colorbar": {
              "outlinewidth": 0,
              "ticks": ""
             }
            },
            "type": "scatter3d"
           }
          ],
          "scattercarpet": [
           {
            "marker": {
             "colorbar": {
              "outlinewidth": 0,
              "ticks": ""
             }
            },
            "type": "scattercarpet"
           }
          ],
          "scattergeo": [
           {
            "marker": {
             "colorbar": {
              "outlinewidth": 0,
              "ticks": ""
             }
            },
            "type": "scattergeo"
           }
          ],
          "scattergl": [
           {
            "marker": {
             "colorbar": {
              "outlinewidth": 0,
              "ticks": ""
             }
            },
            "type": "scattergl"
           }
          ],
          "scattermapbox": [
           {
            "marker": {
             "colorbar": {
              "outlinewidth": 0,
              "ticks": ""
             }
            },
            "type": "scattermapbox"
           }
          ],
          "scatterpolar": [
           {
            "marker": {
             "colorbar": {
              "outlinewidth": 0,
              "ticks": ""
             }
            },
            "type": "scatterpolar"
           }
          ],
          "scatterpolargl": [
           {
            "marker": {
             "colorbar": {
              "outlinewidth": 0,
              "ticks": ""
             }
            },
            "type": "scatterpolargl"
           }
          ],
          "scatterternary": [
           {
            "marker": {
             "colorbar": {
              "outlinewidth": 0,
              "ticks": ""
             }
            },
            "type": "scatterternary"
           }
          ],
          "surface": [
           {
            "colorbar": {
             "outlinewidth": 0,
             "ticks": ""
            },
            "colorscale": [
             [
              0,
              "#0d0887"
             ],
             [
              0.1111111111111111,
              "#46039f"
             ],
             [
              0.2222222222222222,
              "#7201a8"
             ],
             [
              0.3333333333333333,
              "#9c179e"
             ],
             [
              0.4444444444444444,
              "#bd3786"
             ],
             [
              0.5555555555555556,
              "#d8576b"
             ],
             [
              0.6666666666666666,
              "#ed7953"
             ],
             [
              0.7777777777777778,
              "#fb9f3a"
             ],
             [
              0.8888888888888888,
              "#fdca26"
             ],
             [
              1,
              "#f0f921"
             ]
            ],
            "type": "surface"
           }
          ],
          "table": [
           {
            "cells": {
             "fill": {
              "color": "#EBF0F8"
             },
             "line": {
              "color": "white"
             }
            },
            "header": {
             "fill": {
              "color": "#C8D4E3"
             },
             "line": {
              "color": "white"
             }
            },
            "type": "table"
           }
          ]
         },
         "layout": {
          "annotationdefaults": {
           "arrowcolor": "#2a3f5f",
           "arrowhead": 0,
           "arrowwidth": 1
          },
          "autotypenumbers": "strict",
          "coloraxis": {
           "colorbar": {
            "outlinewidth": 0,
            "ticks": ""
           }
          },
          "colorscale": {
           "diverging": [
            [
             0,
             "#8e0152"
            ],
            [
             0.1,
             "#c51b7d"
            ],
            [
             0.2,
             "#de77ae"
            ],
            [
             0.3,
             "#f1b6da"
            ],
            [
             0.4,
             "#fde0ef"
            ],
            [
             0.5,
             "#f7f7f7"
            ],
            [
             0.6,
             "#e6f5d0"
            ],
            [
             0.7,
             "#b8e186"
            ],
            [
             0.8,
             "#7fbc41"
            ],
            [
             0.9,
             "#4d9221"
            ],
            [
             1,
             "#276419"
            ]
           ],
           "sequential": [
            [
             0,
             "#0d0887"
            ],
            [
             0.1111111111111111,
             "#46039f"
            ],
            [
             0.2222222222222222,
             "#7201a8"
            ],
            [
             0.3333333333333333,
             "#9c179e"
            ],
            [
             0.4444444444444444,
             "#bd3786"
            ],
            [
             0.5555555555555556,
             "#d8576b"
            ],
            [
             0.6666666666666666,
             "#ed7953"
            ],
            [
             0.7777777777777778,
             "#fb9f3a"
            ],
            [
             0.8888888888888888,
             "#fdca26"
            ],
            [
             1,
             "#f0f921"
            ]
           ],
           "sequentialminus": [
            [
             0,
             "#0d0887"
            ],
            [
             0.1111111111111111,
             "#46039f"
            ],
            [
             0.2222222222222222,
             "#7201a8"
            ],
            [
             0.3333333333333333,
             "#9c179e"
            ],
            [
             0.4444444444444444,
             "#bd3786"
            ],
            [
             0.5555555555555556,
             "#d8576b"
            ],
            [
             0.6666666666666666,
             "#ed7953"
            ],
            [
             0.7777777777777778,
             "#fb9f3a"
            ],
            [
             0.8888888888888888,
             "#fdca26"
            ],
            [
             1,
             "#f0f921"
            ]
           ]
          },
          "colorway": [
           "#636efa",
           "#EF553B",
           "#00cc96",
           "#ab63fa",
           "#FFA15A",
           "#19d3f3",
           "#FF6692",
           "#B6E880",
           "#FF97FF",
           "#FECB52"
          ],
          "font": {
           "color": "#2a3f5f"
          },
          "geo": {
           "bgcolor": "white",
           "lakecolor": "white",
           "landcolor": "#E5ECF6",
           "showlakes": true,
           "showland": true,
           "subunitcolor": "white"
          },
          "hoverlabel": {
           "align": "left"
          },
          "hovermode": "closest",
          "mapbox": {
           "style": "light"
          },
          "paper_bgcolor": "white",
          "plot_bgcolor": "#E5ECF6",
          "polar": {
           "angularaxis": {
            "gridcolor": "white",
            "linecolor": "white",
            "ticks": ""
           },
           "bgcolor": "#E5ECF6",
           "radialaxis": {
            "gridcolor": "white",
            "linecolor": "white",
            "ticks": ""
           }
          },
          "scene": {
           "xaxis": {
            "backgroundcolor": "#E5ECF6",
            "gridcolor": "white",
            "gridwidth": 2,
            "linecolor": "white",
            "showbackground": true,
            "ticks": "",
            "zerolinecolor": "white"
           },
           "yaxis": {
            "backgroundcolor": "#E5ECF6",
            "gridcolor": "white",
            "gridwidth": 2,
            "linecolor": "white",
            "showbackground": true,
            "ticks": "",
            "zerolinecolor": "white"
           },
           "zaxis": {
            "backgroundcolor": "#E5ECF6",
            "gridcolor": "white",
            "gridwidth": 2,
            "linecolor": "white",
            "showbackground": true,
            "ticks": "",
            "zerolinecolor": "white"
           }
          },
          "shapedefaults": {
           "line": {
            "color": "#2a3f5f"
           }
          },
          "ternary": {
           "aaxis": {
            "gridcolor": "white",
            "linecolor": "white",
            "ticks": ""
           },
           "baxis": {
            "gridcolor": "white",
            "linecolor": "white",
            "ticks": ""
           },
           "bgcolor": "#E5ECF6",
           "caxis": {
            "gridcolor": "white",
            "linecolor": "white",
            "ticks": ""
           }
          },
          "title": {
           "x": 0.05
          },
          "xaxis": {
           "automargin": true,
           "gridcolor": "white",
           "linecolor": "white",
           "ticks": "",
           "title": {
            "standoff": 15
           },
           "zerolinecolor": "white",
           "zerolinewidth": 2
          },
          "yaxis": {
           "automargin": true,
           "gridcolor": "white",
           "linecolor": "white",
           "ticks": "",
           "title": {
            "standoff": 15
           },
           "zerolinecolor": "white",
           "zerolinewidth": 2
          }
         }
        },
        "title": {
         "text": "Sales Prediction"
        }
       }
      }
     },
     "metadata": {},
     "output_type": "display_data"
    }
   ],
   "source": [
    "#merge with actual sales dataframe\n",
    "df_sales_pred = pd.merge(df,df_result,on='YYMM',how='left')\n",
    "#plot actual and predicted\n",
    "plot_data = [\n",
    "    go.Scatter(\n",
    "        x=df_sales_pred['YYMM'],\n",
    "        y=df_sales_pred['CNT'],\n",
    "        name='actual'\n",
    "    ),\n",
    "        go.Scatter(\n",
    "        x=df_sales_pred['YYMM'],\n",
    "        y=df_sales_pred['pred_CNT'],\n",
    "        name='predicted'\n",
    "    )\n",
    "    \n",
    "]\n",
    "plot_layout = go.Layout(\n",
    "        title='Sales Prediction'\n",
    "    )\n",
    "fig = go.Figure(data=plot_data, layout=plot_layout)\n",
    "pyoff.iplot(fig)"
   ]
  }
 ],
 "metadata": {
  "interpreter": {
   "hash": "e26550a99b8cdaeca938eba5dfe93bbe201b1984deb8af224ca0d45a986faa87"
  },
  "kernelspec": {
   "display_name": "Python 3.9.10 64-bit (windows store)",
   "language": "python",
   "name": "python3"
  },
  "language_info": {
   "codemirror_mode": {
    "name": "ipython",
    "version": 3
   },
   "file_extension": ".py",
   "mimetype": "text/x-python",
   "name": "python",
   "nbconvert_exporter": "python",
   "pygments_lexer": "ipython3",
   "version": "3.9.10"
  },
  "orig_nbformat": 4
 },
 "nbformat": 4,
 "nbformat_minor": 2
}
