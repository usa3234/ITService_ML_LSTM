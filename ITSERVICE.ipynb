{
 "cells": [
  {
   "cell_type": "code",
   "execution_count": 152,
   "metadata": {},
   "outputs": [],
   "source": [
    "import tensorflow as tf\n",
    "\n",
    "from tensorflow.keras.models import Sequential\n",
    "from tensorflow.keras.layers import Flatten, Dense\n",
    "from tensorflow.keras.optimizers import SGD, Adam\n",
    "\n",
    "import numpy as np\n",
    "import pandas as pd"
   ]
  },
  {
   "cell_type": "code",
   "execution_count": 153,
   "metadata": {},
   "outputs": [
    {
     "name": "stdout",
     "output_type": "stream",
     "text": [
      "(104, 2)\n",
      "(104,)\n"
     ]
    }
   ],
   "source": [
    "df = pd.read_excel('itService.xlsx')\n",
    "\n",
    "x_data = df[['YY','MM']]\n",
    "t_data = df['CNT']\n",
    "\n",
    "print(x_data.shape)\n",
    "print(t_data.shape)\n"
   ]
  },
  {
   "cell_type": "code",
   "execution_count": 154,
   "metadata": {},
   "outputs": [],
   "source": [
    "# 모델 구축\n",
    "model = Sequential()\n",
    "model.add(Dense(32, input_shape=(2,), activation='linear'))"
   ]
  },
  {
   "cell_type": "code",
   "execution_count": 155,
   "metadata": {},
   "outputs": [
    {
     "name": "stdout",
     "output_type": "stream",
     "text": [
      "Model: \"sequential_13\"\n",
      "_________________________________________________________________\n",
      " Layer (type)                Output Shape              Param #   \n",
      "=================================================================\n",
      " dense_14 (Dense)            (None, 32)                96        \n",
      "                                                                 \n",
      "=================================================================\n",
      "Total params: 96\n",
      "Trainable params: 96\n",
      "Non-trainable params: 0\n",
      "_________________________________________________________________\n"
     ]
    }
   ],
   "source": [
    "# 모델 컴파일\n",
    "model.compile(optimizer=SGD(learning_rate=1e-2), loss='mse')\n",
    "model.summary()"
   ]
  },
  {
   "cell_type": "code",
   "execution_count": 156,
   "metadata": {},
   "outputs": [
    {
     "name": "stdout",
     "output_type": "stream",
     "text": [
      "Epoch 1/100\n",
      "4/4 [==============================] - 0s 1ms/step - loss: 4727789825627315821871104.0000\n",
      "Epoch 2/100\n",
      "4/4 [==============================] - 0s 668us/step - loss: inf                             \n",
      "Epoch 3/100\n",
      "4/4 [==============================] - 0s 667us/step - loss: inf\n",
      "Epoch 4/100\n",
      "4/4 [==============================] - 0s 668us/step - loss: nan\n",
      "Epoch 5/100\n",
      "4/4 [==============================] - 0s 667us/step - loss: nan\n",
      "Epoch 6/100\n",
      "4/4 [==============================] - 0s 667us/step - loss: nan\n",
      "Epoch 7/100\n",
      "4/4 [==============================] - 0s 667us/step - loss: nan\n",
      "Epoch 8/100\n",
      "4/4 [==============================] - 0s 667us/step - loss: nan\n",
      "Epoch 9/100\n",
      "4/4 [==============================] - 0s 667us/step - loss: nan\n",
      "Epoch 10/100\n",
      "4/4 [==============================] - 0s 667us/step - loss: nan\n",
      "Epoch 11/100\n",
      "4/4 [==============================] - 0s 667us/step - loss: nan\n",
      "Epoch 12/100\n",
      "4/4 [==============================] - 0s 667us/step - loss: nan\n",
      "Epoch 13/100\n",
      "4/4 [==============================] - 0s 667us/step - loss: nan\n",
      "Epoch 14/100\n",
      "4/4 [==============================] - 0s 667us/step - loss: nan\n",
      "Epoch 15/100\n",
      "4/4 [==============================] - 0s 334us/step - loss: nan\n",
      "Epoch 16/100\n",
      "4/4 [==============================] - 0s 667us/step - loss: nan\n",
      "Epoch 17/100\n",
      "4/4 [==============================] - 0s 668us/step - loss: nan\n",
      "Epoch 18/100\n",
      "4/4 [==============================] - 0s 667us/step - loss: nan\n",
      "Epoch 19/100\n",
      "4/4 [==============================] - 0s 667us/step - loss: nan\n",
      "Epoch 20/100\n",
      "4/4 [==============================] - 0s 667us/step - loss: nan\n",
      "Epoch 21/100\n",
      "4/4 [==============================] - 0s 667us/step - loss: nan\n",
      "Epoch 22/100\n",
      "4/4 [==============================] - 0s 668us/step - loss: nan\n",
      "Epoch 23/100\n",
      "4/4 [==============================] - 0s 667us/step - loss: nan\n",
      "Epoch 24/100\n",
      "4/4 [==============================] - 0s 1ms/step - loss: nan\n",
      "Epoch 25/100\n",
      "4/4 [==============================] - 0s 667us/step - loss: nan\n",
      "Epoch 26/100\n",
      "4/4 [==============================] - 0s 667us/step - loss: nan\n",
      "Epoch 27/100\n",
      "4/4 [==============================] - 0s 1ms/step - loss: nan\n",
      "Epoch 28/100\n",
      "4/4 [==============================] - 0s 1ms/step - loss: nan\n",
      "Epoch 29/100\n",
      "4/4 [==============================] - 0s 667us/step - loss: nan\n",
      "Epoch 30/100\n",
      "4/4 [==============================] - 0s 668us/step - loss: nan\n",
      "Epoch 31/100\n",
      "4/4 [==============================] - 0s 334us/step - loss: nan\n",
      "Epoch 32/100\n",
      "4/4 [==============================] - 0s 667us/step - loss: nan\n",
      "Epoch 33/100\n",
      "4/4 [==============================] - 0s 667us/step - loss: nan\n",
      "Epoch 34/100\n",
      "4/4 [==============================] - 0s 667us/step - loss: nan\n",
      "Epoch 35/100\n",
      "4/4 [==============================] - 0s 667us/step - loss: nan\n",
      "Epoch 36/100\n",
      "4/4 [==============================] - 0s 667us/step - loss: nan\n",
      "Epoch 37/100\n",
      "4/4 [==============================] - 0s 1ms/step - loss: nan\n",
      "Epoch 38/100\n",
      "4/4 [==============================] - 0s 667us/step - loss: nan\n",
      "Epoch 39/100\n",
      "4/4 [==============================] - 0s 667us/step - loss: nan\n",
      "Epoch 40/100\n",
      "4/4 [==============================] - 0s 667us/step - loss: nan\n",
      "Epoch 41/100\n",
      "4/4 [==============================] - 0s 668us/step - loss: nan\n",
      "Epoch 42/100\n",
      "4/4 [==============================] - 0s 667us/step - loss: nan\n",
      "Epoch 43/100\n",
      "4/4 [==============================] - 0s 667us/step - loss: nan\n",
      "Epoch 44/100\n",
      "4/4 [==============================] - 0s 667us/step - loss: nan\n",
      "Epoch 45/100\n",
      "4/4 [==============================] - 0s 667us/step - loss: nan\n",
      "Epoch 46/100\n",
      "4/4 [==============================] - 0s 668us/step - loss: nan\n",
      "Epoch 47/100\n",
      "4/4 [==============================] - 0s 667us/step - loss: nan\n",
      "Epoch 48/100\n",
      "4/4 [==============================] - 0s 667us/step - loss: nan\n",
      "Epoch 49/100\n",
      "4/4 [==============================] - 0s 333us/step - loss: nan\n",
      "Epoch 50/100\n",
      "4/4 [==============================] - 0s 667us/step - loss: nan\n",
      "Epoch 51/100\n",
      "4/4 [==============================] - 0s 667us/step - loss: nan\n",
      "Epoch 52/100\n",
      "4/4 [==============================] - 0s 667us/step - loss: nan\n",
      "Epoch 53/100\n",
      "4/4 [==============================] - 0s 333us/step - loss: nan\n",
      "Epoch 54/100\n",
      "4/4 [==============================] - 0s 667us/step - loss: nan\n",
      "Epoch 55/100\n",
      "4/4 [==============================] - 0s 667us/step - loss: nan\n",
      "Epoch 56/100\n",
      "4/4 [==============================] - 0s 667us/step - loss: nan\n",
      "Epoch 57/100\n",
      "4/4 [==============================] - 0s 667us/step - loss: nan\n",
      "Epoch 58/100\n",
      "4/4 [==============================] - 0s 334us/step - loss: nan\n",
      "Epoch 59/100\n",
      "4/4 [==============================] - 0s 333us/step - loss: nan\n",
      "Epoch 60/100\n",
      "4/4 [==============================] - 0s 668us/step - loss: nan\n",
      "Epoch 61/100\n",
      "4/4 [==============================] - 0s 1ms/step - loss: nan\n",
      "Epoch 62/100\n",
      "4/4 [==============================] - 0s 667us/step - loss: nan\n",
      "Epoch 63/100\n",
      "4/4 [==============================] - 0s 667us/step - loss: nan\n",
      "Epoch 64/100\n",
      "4/4 [==============================] - 0s 668us/step - loss: nan\n",
      "Epoch 65/100\n",
      "4/4 [==============================] - 0s 667us/step - loss: nan\n",
      "Epoch 66/100\n",
      "4/4 [==============================] - 0s 667us/step - loss: nan\n",
      "Epoch 67/100\n",
      "4/4 [==============================] - 0s 667us/step - loss: nan\n",
      "Epoch 68/100\n",
      "4/4 [==============================] - 0s 667us/step - loss: nan\n",
      "Epoch 69/100\n",
      "4/4 [==============================] - 0s 668us/step - loss: nan\n",
      "Epoch 70/100\n",
      "4/4 [==============================] - 0s 667us/step - loss: nan\n",
      "Epoch 71/100\n",
      "4/4 [==============================] - 0s 1ms/step - loss: nan\n",
      "Epoch 72/100\n",
      "4/4 [==============================] - 0s 667us/step - loss: nan\n",
      "Epoch 73/100\n",
      "4/4 [==============================] - 0s 334us/step - loss: nan\n",
      "Epoch 74/100\n",
      "4/4 [==============================] - 0s 667us/step - loss: nan\n",
      "Epoch 75/100\n",
      "4/4 [==============================] - 0s 1ms/step - loss: nan\n",
      "Epoch 76/100\n",
      "4/4 [==============================] - 0s 667us/step - loss: nan\n",
      "Epoch 77/100\n",
      "4/4 [==============================] - 0s 668us/step - loss: nan\n",
      "Epoch 78/100\n",
      "4/4 [==============================] - 0s 333us/step - loss: nan\n",
      "Epoch 79/100\n",
      "4/4 [==============================] - 0s 1ms/step - loss: nan\n",
      "Epoch 80/100\n",
      "4/4 [==============================] - 0s 667us/step - loss: nan\n",
      "Epoch 81/100\n",
      "4/4 [==============================] - 0s 1ms/step - loss: nan\n",
      "Epoch 82/100\n",
      "4/4 [==============================] - 0s 667us/step - loss: nan\n",
      "Epoch 83/100\n",
      "4/4 [==============================] - 0s 667us/step - loss: nan\n",
      "Epoch 84/100\n",
      "4/4 [==============================] - 0s 334us/step - loss: nan\n",
      "Epoch 85/100\n",
      "4/4 [==============================] - 0s 667us/step - loss: nan\n",
      "Epoch 86/100\n",
      "4/4 [==============================] - 0s 667us/step - loss: nan\n",
      "Epoch 87/100\n",
      "4/4 [==============================] - 0s 667us/step - loss: nan\n",
      "Epoch 88/100\n",
      "4/4 [==============================] - 0s 334us/step - loss: nan\n",
      "Epoch 89/100\n",
      "4/4 [==============================] - 0s 1ms/step - loss: nan\n",
      "Epoch 90/100\n",
      "4/4 [==============================] - 0s 667us/step - loss: nan\n",
      "Epoch 91/100\n",
      "4/4 [==============================] - 0s 668us/step - loss: nan\n",
      "Epoch 92/100\n",
      "4/4 [==============================] - 0s 667us/step - loss: nan\n",
      "Epoch 93/100\n",
      "4/4 [==============================] - 0s 333us/step - loss: nan\n",
      "Epoch 94/100\n",
      "4/4 [==============================] - 0s 334us/step - loss: nan\n",
      "Epoch 95/100\n",
      "4/4 [==============================] - 0s 667us/step - loss: nan\n",
      "Epoch 96/100\n",
      "4/4 [==============================] - 0s 667us/step - loss: nan\n",
      "Epoch 97/100\n",
      "4/4 [==============================] - 0s 667us/step - loss: nan\n",
      "Epoch 98/100\n",
      "4/4 [==============================] - 0s 667us/step - loss: nan\n",
      "Epoch 99/100\n",
      "4/4 [==============================] - 0s 334us/step - loss: nan\n",
      "Epoch 100/100\n",
      "4/4 [==============================] - 0s 334us/step - loss: nan\n"
     ]
    }
   ],
   "source": [
    "#모델 학습\n",
    "hist = model.fit(x_data, t_data, epochs=100)"
   ]
  },
  {
   "cell_type": "code",
   "execution_count": 157,
   "metadata": {},
   "outputs": [
    {
     "data": {
      "text/html": [
       "<div>\n",
       "<style scoped>\n",
       "    .dataframe tbody tr th:only-of-type {\n",
       "        vertical-align: middle;\n",
       "    }\n",
       "\n",
       "    .dataframe tbody tr th {\n",
       "        vertical-align: top;\n",
       "    }\n",
       "\n",
       "    .dataframe thead th {\n",
       "        text-align: right;\n",
       "    }\n",
       "</style>\n",
       "<table border=\"1\" class=\"dataframe\">\n",
       "  <thead>\n",
       "    <tr style=\"text-align: right;\">\n",
       "      <th></th>\n",
       "      <th>YY</th>\n",
       "      <th>MM</th>\n",
       "    </tr>\n",
       "  </thead>\n",
       "  <tbody>\n",
       "    <tr>\n",
       "      <th>0</th>\n",
       "      <td>2022</td>\n",
       "      <td>1</td>\n",
       "    </tr>\n",
       "  </tbody>\n",
       "</table>\n",
       "</div>"
      ],
      "text/plain": [
       "     YY  MM\n",
       "0  2022   1"
      ]
     },
     "execution_count": 157,
     "metadata": {},
     "output_type": "execute_result"
    }
   ],
   "source": [
    "df_pred = pd.DataFrame({'YY':[2022],\n",
    "                             'MM':[1],\n",
    "                            })\n",
    "df_pred"
   ]
  },
  {
   "cell_type": "code",
   "execution_count": 158,
   "metadata": {},
   "outputs": [
    {
     "data": {
      "text/plain": [
       "array([[nan, nan, nan, nan, nan, nan, nan, nan, nan, nan, nan, nan, nan,\n",
       "        nan, nan, nan, nan, nan, nan, nan, nan, nan, nan, nan, nan, nan,\n",
       "        nan, nan, nan, nan, nan, nan]], dtype=float32)"
      ]
     },
     "execution_count": 158,
     "metadata": {},
     "output_type": "execute_result"
    }
   ],
   "source": [
    "prediction_val = model.predict(df_pred)\n",
    "prediction_val"
   ]
  },
  {
   "cell_type": "code",
   "execution_count": 159,
   "metadata": {},
   "outputs": [
    {
     "name": "stdout",
     "output_type": "stream",
     "text": [
      "KerasTensor(type_spec=TensorSpec(shape=(None, 2), dtype=tf.float32, name='dense_14_input'), name='dense_14_input', description=\"created by layer 'dense_14_input'\")\n",
      "KerasTensor(type_spec=TensorSpec(shape=(None, 32), dtype=tf.float32, name=None), name='dense_14/BiasAdd:0', description=\"created by layer 'dense_14'\")\n",
      "[<tf.Variable 'dense_14/kernel:0' shape=(2, 32) dtype=float32, numpy=\n",
      "array([[nan, nan, nan, nan, nan, nan, nan, nan, nan, nan, nan, nan, nan,\n",
      "        nan, nan, nan, nan, nan, nan, nan, nan, nan, nan, nan, nan, nan,\n",
      "        nan, nan, nan, nan, nan, nan],\n",
      "       [nan, nan, nan, nan, nan, nan, nan, nan, nan, nan, nan, nan, nan,\n",
      "        nan, nan, nan, nan, nan, nan, nan, nan, nan, nan, nan, nan, nan,\n",
      "        nan, nan, nan, nan, nan, nan]], dtype=float32)>, <tf.Variable 'dense_14/bias:0' shape=(32,) dtype=float32, numpy=\n",
      "array([nan, nan, nan, nan, nan, nan, nan, nan, nan, nan, nan, nan, nan,\n",
      "       nan, nan, nan, nan, nan, nan, nan, nan, nan, nan, nan, nan, nan,\n",
      "       nan, nan, nan, nan, nan, nan], dtype=float32)>]\n"
     ]
    }
   ],
   "source": [
    "print(model.input)\n",
    "print(model.output)\n",
    "print(model.weights)"
   ]
  },
  {
   "cell_type": "code",
   "execution_count": 160,
   "metadata": {},
   "outputs": [
    {
     "data": {
      "image/png": "[encoded data removed]",
      "text/plain": [
       "<Figure size 432x288 with 1 Axes>"
      ]
     },
     "metadata": {
      "needs_background": "light"
     },
     "output_type": "display_data"
    }
   ],
   "source": [
    "import matplotlib.pyplot as plt\n",
    "\n",
    "plt.title(\"Loss Trend\")\n",
    "plt.xlabel(\"epochs\")\n",
    "plt.ylabel(\"loss\")\n",
    "plt.grid()\n",
    "##  hist.history[\"loss\"] 자동 저장\n",
    "plt.plot(hist.history[\"loss\"], label=\"train loss\")\n",
    "plt.legend(loc=\"best\")\n",
    "\n",
    "plt.show()"
   ]
  }
 ],
 "metadata": {
  "interpreter": {
   "hash": "e26550a99b8cdaeca938eba5dfe93bbe201b1984deb8af224ca0d45a986faa87"
  },
  "kernelspec": {
   "display_name": "Python 3.9.10 64-bit (windows store)",
   "language": "python",
   "name": "python3"
  },
  "language_info": {
   "name": "python",
   "version": "3.9.10"
  },
  "orig_nbformat": 4
 },
 "nbformat": 4,
 "nbformat_minor": 2
}
