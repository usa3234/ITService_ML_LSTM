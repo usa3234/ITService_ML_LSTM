{
 "cells": [
  {
   "cell_type": "code",
   "execution_count": 339,
   "metadata": {},
   "outputs": [],
   "source": [
    "import tensorflow as tf\n",
    "import numpy as np\n",
    "import pandas as pd\n",
    "import matplotlib.pyplot as plt\n",
    "from tensorflow.keras.models import Sequential\n",
    "from tensorflow.keras.layers import LSTM, Dense, Dropout\n",
    "\n",
    "import plotly.graph_objs as go\n",
    "import plotly.offline as pyoff\n",
    "import statsmodels.formula.api as smf"
   ]
  },
  {
   "cell_type": "code",
   "execution_count": 340,
   "metadata": {},
   "outputs": [
    {
     "data": {
      "text/html": [
       "<div>\n",
       "<style scoped>\n",
       "    .dataframe tbody tr th:only-of-type {\n",
       "        vertical-align: middle;\n",
       "    }\n",
       "\n",
       "    .dataframe tbody tr th {\n",
       "        vertical-align: top;\n",
       "    }\n",
       "\n",
       "    .dataframe thead th {\n",
       "        text-align: right;\n",
       "    }\n",
       "</style>\n",
       "<table border=\"1\" class=\"dataframe\">\n",
       "  <thead>\n",
       "    <tr style=\"text-align: right;\">\n",
       "      <th></th>\n",
       "      <th>RQST_DT</th>\n",
       "      <th>CNT</th>\n",
       "    </tr>\n",
       "  </thead>\n",
       "  <tbody>\n",
       "    <tr>\n",
       "      <th>0</th>\n",
       "      <td>2014-01-02</td>\n",
       "      <td>5</td>\n",
       "    </tr>\n",
       "    <tr>\n",
       "      <th>1</th>\n",
       "      <td>2014-01-03</td>\n",
       "      <td>4</td>\n",
       "    </tr>\n",
       "    <tr>\n",
       "      <th>2</th>\n",
       "      <td>2014-01-06</td>\n",
       "      <td>8</td>\n",
       "    </tr>\n",
       "    <tr>\n",
       "      <th>3</th>\n",
       "      <td>2014-01-07</td>\n",
       "      <td>6</td>\n",
       "    </tr>\n",
       "    <tr>\n",
       "      <th>4</th>\n",
       "      <td>2014-01-08</td>\n",
       "      <td>2</td>\n",
       "    </tr>\n",
       "    <tr>\n",
       "      <th>...</th>\n",
       "      <td>...</td>\n",
       "      <td>...</td>\n",
       "    </tr>\n",
       "    <tr>\n",
       "      <th>1731</th>\n",
       "      <td>2021-12-24</td>\n",
       "      <td>2</td>\n",
       "    </tr>\n",
       "    <tr>\n",
       "      <th>1732</th>\n",
       "      <td>2021-12-28</td>\n",
       "      <td>6</td>\n",
       "    </tr>\n",
       "    <tr>\n",
       "      <th>1733</th>\n",
       "      <td>2021-12-29</td>\n",
       "      <td>3</td>\n",
       "    </tr>\n",
       "    <tr>\n",
       "      <th>1734</th>\n",
       "      <td>2021-12-30</td>\n",
       "      <td>5</td>\n",
       "    </tr>\n",
       "    <tr>\n",
       "      <th>1735</th>\n",
       "      <td>2021-12-31</td>\n",
       "      <td>3</td>\n",
       "    </tr>\n",
       "  </tbody>\n",
       "</table>\n",
       "<p>1736 rows × 2 columns</p>\n",
       "</div>"
      ],
      "text/plain": [
       "        RQST_DT  CNT\n",
       "0    2014-01-02    5\n",
       "1    2014-01-03    4\n",
       "2    2014-01-06    8\n",
       "3    2014-01-07    6\n",
       "4    2014-01-08    2\n",
       "...         ...  ...\n",
       "1731 2021-12-24    2\n",
       "1732 2021-12-28    6\n",
       "1733 2021-12-29    3\n",
       "1734 2021-12-30    5\n",
       "1735 2021-12-31    3\n",
       "\n",
       "[1736 rows x 2 columns]"
      ]
     },
     "execution_count": 340,
     "metadata": {},
     "output_type": "execute_result"
    }
   ],
   "source": [
    "#df = pd.read_csv(\"data/train.csv\")\n",
    "df = pd.read_excel('itService_day.xlsx')\n",
    "df['RQST_DT'] = df['RQST_DT'].astype(str)\n",
    "df['RQST_DT'] = pd.to_datetime(df['RQST_DT'])\n",
    "df"
   ]
  },
  {
   "cell_type": "code",
   "execution_count": 341,
   "metadata": {},
   "outputs": [
    {
     "data": {
      "text/html": [
       "<div>\n",
       "<style scoped>\n",
       "    .dataframe tbody tr th:only-of-type {\n",
       "        vertical-align: middle;\n",
       "    }\n",
       "\n",
       "    .dataframe tbody tr th {\n",
       "        vertical-align: top;\n",
       "    }\n",
       "\n",
       "    .dataframe thead th {\n",
       "        text-align: right;\n",
       "    }\n",
       "</style>\n",
       "<table border=\"1\" class=\"dataframe\">\n",
       "  <thead>\n",
       "    <tr style=\"text-align: right;\">\n",
       "      <th></th>\n",
       "      <th>RQST_DT</th>\n",
       "      <th>CNT</th>\n",
       "      <th>prev_CNT</th>\n",
       "      <th>diff</th>\n",
       "    </tr>\n",
       "  </thead>\n",
       "  <tbody>\n",
       "    <tr>\n",
       "      <th>1</th>\n",
       "      <td>2014-01-03</td>\n",
       "      <td>4</td>\n",
       "      <td>5.0</td>\n",
       "      <td>-1.0</td>\n",
       "    </tr>\n",
       "    <tr>\n",
       "      <th>2</th>\n",
       "      <td>2014-01-06</td>\n",
       "      <td>8</td>\n",
       "      <td>4.0</td>\n",
       "      <td>4.0</td>\n",
       "    </tr>\n",
       "    <tr>\n",
       "      <th>3</th>\n",
       "      <td>2014-01-07</td>\n",
       "      <td>6</td>\n",
       "      <td>8.0</td>\n",
       "      <td>-2.0</td>\n",
       "    </tr>\n",
       "    <tr>\n",
       "      <th>4</th>\n",
       "      <td>2014-01-08</td>\n",
       "      <td>2</td>\n",
       "      <td>6.0</td>\n",
       "      <td>-4.0</td>\n",
       "    </tr>\n",
       "    <tr>\n",
       "      <th>5</th>\n",
       "      <td>2014-01-09</td>\n",
       "      <td>2</td>\n",
       "      <td>2.0</td>\n",
       "      <td>0.0</td>\n",
       "    </tr>\n",
       "    <tr>\n",
       "      <th>6</th>\n",
       "      <td>2014-01-10</td>\n",
       "      <td>9</td>\n",
       "      <td>2.0</td>\n",
       "      <td>7.0</td>\n",
       "    </tr>\n",
       "    <tr>\n",
       "      <th>7</th>\n",
       "      <td>2014-01-13</td>\n",
       "      <td>7</td>\n",
       "      <td>9.0</td>\n",
       "      <td>-2.0</td>\n",
       "    </tr>\n",
       "    <tr>\n",
       "      <th>8</th>\n",
       "      <td>2014-01-14</td>\n",
       "      <td>3</td>\n",
       "      <td>7.0</td>\n",
       "      <td>-4.0</td>\n",
       "    </tr>\n",
       "    <tr>\n",
       "      <th>9</th>\n",
       "      <td>2014-01-15</td>\n",
       "      <td>4</td>\n",
       "      <td>3.0</td>\n",
       "      <td>1.0</td>\n",
       "    </tr>\n",
       "    <tr>\n",
       "      <th>10</th>\n",
       "      <td>2014-01-16</td>\n",
       "      <td>8</td>\n",
       "      <td>4.0</td>\n",
       "      <td>4.0</td>\n",
       "    </tr>\n",
       "  </tbody>\n",
       "</table>\n",
       "</div>"
      ],
      "text/plain": [
       "      RQST_DT  CNT  prev_CNT  diff\n",
       "1  2014-01-03    4       5.0  -1.0\n",
       "2  2014-01-06    8       4.0   4.0\n",
       "3  2014-01-07    6       8.0  -2.0\n",
       "4  2014-01-08    2       6.0  -4.0\n",
       "5  2014-01-09    2       2.0   0.0\n",
       "6  2014-01-10    9       2.0   7.0\n",
       "7  2014-01-13    7       9.0  -2.0\n",
       "8  2014-01-14    3       7.0  -4.0\n",
       "9  2014-01-15    4       3.0   1.0\n",
       "10 2014-01-16    8       4.0   4.0"
      ]
     },
     "execution_count": 341,
     "metadata": {},
     "output_type": "execute_result"
    }
   ],
   "source": [
    "#create a new dataframe to model the difference\n",
    "df_diff = df.copy()\n",
    "#add previous sales to the next row\n",
    "df_diff['prev_CNT'] = df_diff['CNT'].shift(1)\n",
    "#drop the null values and calculate the difference\n",
    "df_diff = df_diff.dropna()\n",
    "df_diff['diff'] = (df_diff['CNT'] - df_diff['prev_CNT'])\n",
    "df_diff.head(10)\n"
   ]
  },
  {
   "cell_type": "code",
   "execution_count": 342,
   "metadata": {},
   "outputs": [
    {
     "name": "stderr",
     "output_type": "stream",
     "text": [
      "C:\\Users\\admin\\AppData\\Local\\Temp/ipykernel_9736/1483239927.py:1: UserWarning:\n",
      "\n",
      "Boolean Series key will be reindexed to match DataFrame index.\n",
      "\n"
     ]
    }
   ],
   "source": [
    "df_diff = df_diff[df['RQST_DT'].between('2021-01-01', '2021-12-31')]"
   ]
  },
  {
   "cell_type": "code",
   "execution_count": 343,
   "metadata": {},
   "outputs": [
    {
     "data": {
      "application/vnd.plotly.v1+json": {
       "config": {
        "linkText": "Export to plot.ly",
        "plotlyServerURL": "https://plot.ly",
        "showLink": false
       },
       "data": [
        {
         "type": "scatter",
         "x": [
          "2021-01-04T00:00:00",
          "2021-01-05T00:00:00",
          "2021-01-06T00:00:00",
          "2021-01-07T00:00:00",
          "2021-01-08T00:00:00",
          "2021-01-11T00:00:00",
          "2021-01-12T00:00:00",
          "2021-01-13T00:00:00",
          "2021-01-14T00:00:00",
          "2021-01-15T00:00:00",
          "2021-01-18T00:00:00",
          "2021-01-19T00:00:00",
          "2021-01-20T00:00:00",
          "2021-01-21T00:00:00",
          "2021-01-22T00:00:00",
          "2021-01-23T00:00:00",
          "2021-01-25T00:00:00",
          "2021-01-26T00:00:00",
          "2021-01-27T00:00:00",
          "2021-01-28T00:00:00",
          "2021-01-29T00:00:00",
          "2021-02-01T00:00:00",
          "2021-02-02T00:00:00",
          "2021-02-03T00:00:00",
          "2021-02-04T00:00:00",
          "2021-02-05T00:00:00",
          "2021-02-08T00:00:00",
          "2021-02-09T00:00:00",
          "2021-02-10T00:00:00",
          "2021-02-15T00:00:00",
          "2021-02-16T00:00:00",
          "2021-02-17T00:00:00",
          "2021-02-18T00:00:00",
          "2021-02-19T00:00:00",
          "2021-02-22T00:00:00",
          "2021-02-23T00:00:00",
          "2021-02-24T00:00:00",
          "2021-02-25T00:00:00",
          "2021-02-26T00:00:00",
          "2021-02-28T00:00:00",
          "2021-03-01T00:00:00",
          "2021-03-02T00:00:00",
          "2021-03-03T00:00:00",
          "2021-03-04T00:00:00",
          "2021-03-05T00:00:00",
          "2021-03-08T00:00:00",
          "2021-03-09T00:00:00",
          "2021-03-10T00:00:00",
          "2021-03-11T00:00:00",
          "2021-03-12T00:00:00",
          "2021-03-15T00:00:00",
          "2021-03-16T00:00:00",
          "2021-03-17T00:00:00",
          "2021-03-18T00:00:00",
          "2021-03-19T00:00:00",
          "2021-03-22T00:00:00",
          "2021-03-23T00:00:00",
          "2021-03-24T00:00:00",
          "2021-03-25T00:00:00",
          "2021-03-26T00:00:00",
          "2021-03-29T00:00:00",
          "2021-03-30T00:00:00",
          "2021-03-31T00:00:00",
          "2021-04-01T00:00:00",
          "2021-04-02T00:00:00",
          "2021-04-05T00:00:00",
          "2021-04-06T00:00:00",
          "2021-04-07T00:00:00",
          "2021-04-08T00:00:00",
          "2021-04-09T00:00:00",
          "2021-04-12T00:00:00",
          "2021-04-13T00:00:00",
          "2021-04-14T00:00:00",
          "2021-04-15T00:00:00",
          "2021-04-16T00:00:00",
          "2021-04-19T00:00:00",
          "2021-04-20T00:00:00",
          "2021-04-21T00:00:00",
          "2021-04-22T00:00:00",
          "2021-04-23T00:00:00",
          "2021-04-26T00:00:00",
          "2021-04-27T00:00:00",
          "2021-04-28T00:00:00",
          "2021-04-29T00:00:00",
          "2021-04-30T00:00:00",
          "2021-05-03T00:00:00",
          "2021-05-04T00:00:00",
          "2021-05-06T00:00:00",
          "2021-05-07T00:00:00",
          "2021-05-10T00:00:00",
          "2021-05-11T00:00:00",
          "2021-05-12T00:00:00",
          "2021-05-13T00:00:00",
          "2021-05-14T00:00:00",
          "2021-05-17T00:00:00",
          "2021-05-18T00:00:00",
          "2021-05-20T00:00:00",
          "2021-05-21T00:00:00",
          "2021-05-24T00:00:00",
          "2021-05-25T00:00:00",
          "2021-05-26T00:00:00",
          "2021-05-27T00:00:00",
          "2021-05-28T00:00:00",
          "2021-05-31T00:00:00",
          "2021-06-01T00:00:00",
          "2021-06-02T00:00:00",
          "2021-06-03T00:00:00",
          "2021-06-04T00:00:00",
          "2021-06-07T00:00:00",
          "2021-06-08T00:00:00",
          "2021-06-09T00:00:00",
          "2021-06-10T00:00:00",
          "2021-06-11T00:00:00",
          "2021-06-14T00:00:00",
          "2021-06-15T00:00:00",
          "2021-06-16T00:00:00",
          "2021-06-17T00:00:00",
          "2021-06-18T00:00:00",
          "2021-06-21T00:00:00",
          "2021-06-22T00:00:00",
          "2021-06-23T00:00:00",
          "2021-06-24T00:00:00",
          "2021-06-25T00:00:00",
          "2021-06-28T00:00:00",
          "2021-06-29T00:00:00",
          "2021-06-30T00:00:00",
          "2021-07-01T00:00:00",
          "2021-07-02T00:00:00",
          "2021-07-05T00:00:00",
          "2021-07-06T00:00:00",
          "2021-07-07T00:00:00",
          "2021-07-08T00:00:00",
          "2021-07-09T00:00:00",
          "2021-07-12T00:00:00",
          "2021-07-13T00:00:00",
          "2021-07-14T00:00:00",
          "2021-07-15T00:00:00",
          "2021-07-16T00:00:00",
          "2021-07-19T00:00:00",
          "2021-07-20T00:00:00",
          "2021-07-21T00:00:00",
          "2021-07-22T00:00:00",
          "2021-07-23T00:00:00",
          "2021-07-26T00:00:00",
          "2021-07-27T00:00:00",
          "2021-07-28T00:00:00",
          "2021-07-29T00:00:00",
          "2021-07-30T00:00:00",
          "2021-08-02T00:00:00",
          "2021-08-03T00:00:00",
          "2021-08-04T00:00:00",
          "2021-08-05T00:00:00",
          "2021-08-06T00:00:00",
          "2021-08-08T00:00:00",
          "2021-08-09T00:00:00",
          "2021-08-10T00:00:00",
          "2021-08-11T00:00:00",
          "2021-08-12T00:00:00",
          "2021-08-13T00:00:00",
          "2021-08-17T00:00:00",
          "2021-08-18T00:00:00",
          "2021-08-19T00:00:00",
          "2021-08-20T00:00:00",
          "2021-08-23T00:00:00",
          "2021-08-24T00:00:00",
          "2021-08-25T00:00:00",
          "2021-08-26T00:00:00",
          "2021-08-27T00:00:00",
          "2021-08-30T00:00:00",
          "2021-08-31T00:00:00",
          "2021-09-01T00:00:00",
          "2021-09-02T00:00:00",
          "2021-09-03T00:00:00",
          "2021-09-06T00:00:00",
          "2021-09-07T00:00:00",
          "2021-09-08T00:00:00",
          "2021-09-09T00:00:00",
          "2021-09-10T00:00:00",
          "2021-09-12T00:00:00",
          "2021-09-13T00:00:00",
          "2021-09-14T00:00:00",
          "2021-09-15T00:00:00",
          "2021-09-16T00:00:00",
          "2021-09-17T00:00:00",
          "2021-09-23T00:00:00",
          "2021-09-24T00:00:00",
          "2021-09-27T00:00:00",
          "2021-09-28T00:00:00",
          "2021-09-29T00:00:00",
          "2021-09-30T00:00:00",
          "2021-10-01T00:00:00",
          "2021-10-04T00:00:00",
          "2021-10-05T00:00:00",
          "2021-10-06T00:00:00",
          "2021-10-07T00:00:00",
          "2021-10-08T00:00:00",
          "2021-10-12T00:00:00",
          "2021-10-13T00:00:00",
          "2021-10-14T00:00:00",
          "2021-10-15T00:00:00",
          "2021-10-18T00:00:00",
          "2021-10-19T00:00:00",
          "2021-10-20T00:00:00",
          "2021-10-21T00:00:00",
          "2021-10-22T00:00:00",
          "2021-10-25T00:00:00",
          "2021-10-26T00:00:00",
          "2021-10-27T00:00:00",
          "2021-10-28T00:00:00",
          "2021-10-29T00:00:00",
          "2021-11-01T00:00:00",
          "2021-11-02T00:00:00",
          "2021-11-03T00:00:00",
          "2021-11-04T00:00:00",
          "2021-11-05T00:00:00",
          "2021-11-08T00:00:00",
          "2021-11-09T00:00:00",
          "2021-11-10T00:00:00",
          "2021-11-11T00:00:00",
          "2021-11-12T00:00:00",
          "2021-11-15T00:00:00",
          "2021-11-16T00:00:00",
          "2021-11-17T00:00:00",
          "2021-11-18T00:00:00",
          "2021-11-19T00:00:00",
          "2021-11-22T00:00:00",
          "2021-11-23T00:00:00",
          "2021-11-24T00:00:00",
          "2021-11-25T00:00:00",
          "2021-11-26T00:00:00",
          "2021-11-29T00:00:00",
          "2021-11-30T00:00:00",
          "2021-12-01T00:00:00",
          "2021-12-02T00:00:00",
          "2021-12-03T00:00:00",
          "2021-12-06T00:00:00",
          "2021-12-07T00:00:00",
          "2021-12-08T00:00:00",
          "2021-12-09T00:00:00",
          "2021-12-10T00:00:00",
          "2021-12-13T00:00:00",
          "2021-12-14T00:00:00",
          "2021-12-15T00:00:00",
          "2021-12-16T00:00:00",
          "2021-12-17T00:00:00",
          "2021-12-18T00:00:00",
          "2021-12-20T00:00:00",
          "2021-12-21T00:00:00",
          "2021-12-22T00:00:00",
          "2021-12-23T00:00:00",
          "2021-12-24T00:00:00",
          "2021-12-28T00:00:00",
          "2021-12-29T00:00:00",
          "2021-12-30T00:00:00",
          "2021-12-31T00:00:00"
         ],
         "y": [
          4,
          11,
          6,
          6,
          1,
          5,
          5,
          3,
          1,
          5,
          3,
          2,
          2,
          3,
          3,
          1,
          1,
          6,
          2,
          1,
          1,
          15,
          5,
          11,
          5,
          10,
          26,
          21,
          20,
          20,
          15,
          21,
          24,
          15,
          31,
          15,
          29,
          20,
          21,
          1,
          1,
          23,
          19,
          35,
          14,
          19,
          26,
          15,
          10,
          17,
          15,
          29,
          19,
          17,
          12,
          8,
          10,
          16,
          20,
          6,
          14,
          6,
          11,
          12,
          14,
          15,
          19,
          22,
          22,
          5,
          10,
          7,
          13,
          18,
          11,
          13,
          12,
          8,
          11,
          6,
          10,
          16,
          11,
          6,
          3,
          7,
          9,
          7,
          4,
          11,
          12,
          6,
          12,
          4,
          5,
          5,
          11,
          6,
          16,
          7,
          19,
          9,
          10,
          3,
          19,
          15,
          6,
          4,
          10,
          12,
          7,
          8,
          6,
          11,
          12,
          6,
          13,
          6,
          8,
          12,
          8,
          7,
          6,
          5,
          11,
          8,
          11,
          8,
          12,
          7,
          7,
          10,
          7,
          10,
          15,
          7,
          10,
          7,
          9,
          6,
          8,
          7,
          5,
          7,
          14,
          5,
          3,
          5,
          13,
          4,
          7,
          5,
          3,
          1,
          10,
          10,
          4,
          7,
          2,
          8,
          6,
          8,
          5,
          4,
          5,
          3,
          6,
          2,
          8,
          6,
          6,
          8,
          5,
          2,
          7,
          5,
          7,
          4,
          2,
          8,
          15,
          5,
          6,
          2,
          3,
          2,
          1,
          10,
          6,
          3,
          7,
          1,
          6,
          9,
          7,
          7,
          12,
          7,
          8,
          6,
          10,
          7,
          7,
          5,
          5,
          7,
          5,
          7,
          9,
          5,
          11,
          11,
          5,
          9,
          5,
          9,
          10,
          9,
          2,
          6,
          5,
          6,
          5,
          5,
          5,
          8,
          6,
          9,
          3,
          4,
          8,
          2,
          9,
          10,
          6,
          6,
          8,
          6,
          11,
          4,
          8,
          6,
          8,
          9,
          4,
          1,
          4,
          8,
          6,
          10,
          2,
          6,
          3,
          5,
          3
         ]
        }
       ],
       "layout": {
        "template": {
         "data": {
          "bar": [
           {
            "error_x": {
             "color": "#2a3f5f"
            },
            "error_y": {
             "color": "#2a3f5f"
            },
            "marker": {
             "line": {
              "color": "#E5ECF6",
              "width": 0.5
             },
             "pattern": {
              "fillmode": "overlay",
              "size": 10,
              "solidity": 0.2
             }
            },
            "type": "bar"
           }
          ],
          "barpolar": [
           {
            "marker": {
             "line": {
              "color": "#E5ECF6",
              "width": 0.5
             },
             "pattern": {
              "fillmode": "overlay",
              "size": 10,
              "solidity": 0.2
             }
            },
            "type": "barpolar"
           }
          ],
          "carpet": [
           {
            "aaxis": {
             "endlinecolor": "#2a3f5f",
             "gridcolor": "white",
             "linecolor": "white",
             "minorgridcolor": "white",
             "startlinecolor": "#2a3f5f"
            },
            "baxis": {
             "endlinecolor": "#2a3f5f",
             "gridcolor": "white",
             "linecolor": "white",
             "minorgridcolor": "white",
             "startlinecolor": "#2a3f5f"
            },
            "type": "carpet"
           }
          ],
          "choropleth": [
           {
            "colorbar": {
             "outlinewidth": 0,
             "ticks": ""
            },
            "type": "choropleth"
           }
          ],
          "contour": [
           {
            "colorbar": {
             "outlinewidth": 0,
             "ticks": ""
            },
            "colorscale": [
             [
              0,
              "#0d0887"
             ],
             [
              0.1111111111111111,
              "#46039f"
             ],
             [
              0.2222222222222222,
              "#7201a8"
             ],
             [
              0.3333333333333333,
              "#9c179e"
             ],
             [
              0.4444444444444444,
              "#bd3786"
             ],
             [
              0.5555555555555556,
              "#d8576b"
             ],
             [
              0.6666666666666666,
              "#ed7953"
             ],
             [
              0.7777777777777778,
              "#fb9f3a"
             ],
             [
              0.8888888888888888,
              "#fdca26"
             ],
             [
              1,
              "#f0f921"
             ]
            ],
            "type": "contour"
           }
          ],
          "contourcarpet": [
           {
            "colorbar": {
             "outlinewidth": 0,
             "ticks": ""
            },
            "type": "contourcarpet"
           }
          ],
          "heatmap": [
           {
            "colorbar": {
             "outlinewidth": 0,
             "ticks": ""
            },
            "colorscale": [
             [
              0,
              "#0d0887"
             ],
             [
              0.1111111111111111,
              "#46039f"
             ],
             [
              0.2222222222222222,
              "#7201a8"
             ],
             [
              0.3333333333333333,
              "#9c179e"
             ],
             [
              0.4444444444444444,
              "#bd3786"
             ],
             [
              0.5555555555555556,
              "#d8576b"
             ],
             [
              0.6666666666666666,
              "#ed7953"
             ],
             [
              0.7777777777777778,
              "#fb9f3a"
             ],
             [
              0.8888888888888888,
              "#fdca26"
             ],
             [
              1,
              "#f0f921"
             ]
            ],
            "type": "heatmap"
           }
          ],
          "heatmapgl": [
           {
            "colorbar": {
             "outlinewidth": 0,
             "ticks": ""
            },
            "colorscale": [
             [
              0,
              "#0d0887"
             ],
             [
              0.1111111111111111,
              "#46039f"
             ],
             [
              0.2222222222222222,
              "#7201a8"
             ],
             [
              0.3333333333333333,
              "#9c179e"
             ],
             [
              0.4444444444444444,
              "#bd3786"
             ],
             [
              0.5555555555555556,
              "#d8576b"
             ],
             [
              0.6666666666666666,
              "#ed7953"
             ],
             [
              0.7777777777777778,
              "#fb9f3a"
             ],
             [
              0.8888888888888888,
              "#fdca26"
             ],
             [
              1,
              "#f0f921"
             ]
            ],
            "type": "heatmapgl"
           }
          ],
          "histogram": [
           {
            "marker": {
             "pattern": {
              "fillmode": "overlay",
              "size": 10,
              "solidity": 0.2
             }
            },
            "type": "histogram"
           }
          ],
          "histogram2d": [
           {
            "colorbar": {
             "outlinewidth": 0,
             "ticks": ""
            },
            "colorscale": [
             [
              0,
              "#0d0887"
             ],
             [
              0.1111111111111111,
              "#46039f"
             ],
             [
              0.2222222222222222,
              "#7201a8"
             ],
             [
              0.3333333333333333,
              "#9c179e"
             ],
             [
              0.4444444444444444,
              "#bd3786"
             ],
             [
              0.5555555555555556,
              "#d8576b"
             ],
             [
              0.6666666666666666,
              "#ed7953"
             ],
             [
              0.7777777777777778,
              "#fb9f3a"
             ],
             [
              0.8888888888888888,
              "#fdca26"
             ],
             [
              1,
              "#f0f921"
             ]
            ],
            "type": "histogram2d"
           }
          ],
          "histogram2dcontour": [
           {
            "colorbar": {
             "outlinewidth": 0,
             "ticks": ""
            },
            "colorscale": [
             [
              0,
              "#0d0887"
             ],
             [
              0.1111111111111111,
              "#46039f"
             ],
             [
              0.2222222222222222,
              "#7201a8"
             ],
             [
              0.3333333333333333,
              "#9c179e"
             ],
             [
              0.4444444444444444,
              "#bd3786"
             ],
             [
              0.5555555555555556,
              "#d8576b"
             ],
             [
              0.6666666666666666,
              "#ed7953"
             ],
             [
              0.7777777777777778,
              "#fb9f3a"
             ],
             [
              0.8888888888888888,
              "#fdca26"
             ],
             [
              1,
              "#f0f921"
             ]
            ],
            "type": "histogram2dcontour"
           }
          ],
          "mesh3d": [
           {
            "colorbar": {
             "outlinewidth": 0,
             "ticks": ""
            },
            "type": "mesh3d"
           }
          ],
          "parcoords": [
           {
            "line": {
             "colorbar": {
              "outlinewidth": 0,
              "ticks": ""
             }
            },
            "type": "parcoords"
           }
          ],
          "pie": [
           {
            "automargin": true,
            "type": "pie"
           }
          ],
          "scatter": [
           {
            "marker": {
             "colorbar": {
              "outlinewidth": 0,
              "ticks": ""
             }
            },
            "type": "scatter"
           }
          ],
          "scatter3d": [
           {
            "line": {
             "colorbar": {
              "outlinewidth": 0,
              "ticks": ""
             }
            },
            "marker": {
             "colorbar": {
              "outlinewidth": 0,
              "ticks": ""
             }
            },
            "type": "scatter3d"
           }
          ],
          "scattercarpet": [
           {
            "marker": {
             "colorbar": {
              "outlinewidth": 0,
              "ticks": ""
             }
            },
            "type": "scattercarpet"
           }
          ],
          "scattergeo": [
           {
            "marker": {
             "colorbar": {
              "outlinewidth": 0,
              "ticks": ""
             }
            },
            "type": "scattergeo"
           }
          ],
          "scattergl": [
           {
            "marker": {
             "colorbar": {
              "outlinewidth": 0,
              "ticks": ""
             }
            },
            "type": "scattergl"
           }
          ],
          "scattermapbox": [
           {
            "marker": {
             "colorbar": {
              "outlinewidth": 0,
              "ticks": ""
             }
            },
            "type": "scattermapbox"
           }
          ],
          "scatterpolar": [
           {
            "marker": {
             "colorbar": {
              "outlinewidth": 0,
              "ticks": ""
             }
            },
            "type": "scatterpolar"
           }
          ],
          "scatterpolargl": [
           {
            "marker": {
             "colorbar": {
              "outlinewidth": 0,
              "ticks": ""
             }
            },
            "type": "scatterpolargl"
           }
          ],
          "scatterternary": [
           {
            "marker": {
             "colorbar": {
              "outlinewidth": 0,
              "ticks": ""
             }
            },
            "type": "scatterternary"
           }
          ],
          "surface": [
           {
            "colorbar": {
             "outlinewidth": 0,
             "ticks": ""
            },
            "colorscale": [
             [
              0,
              "#0d0887"
             ],
             [
              0.1111111111111111,
              "#46039f"
             ],
             [
              0.2222222222222222,
              "#7201a8"
             ],
             [
              0.3333333333333333,
              "#9c179e"
             ],
             [
              0.4444444444444444,
              "#bd3786"
             ],
             [
              0.5555555555555556,
              "#d8576b"
             ],
             [
              0.6666666666666666,
              "#ed7953"
             ],
             [
              0.7777777777777778,
              "#fb9f3a"
             ],
             [
              0.8888888888888888,
              "#fdca26"
             ],
             [
              1,
              "#f0f921"
             ]
            ],
            "type": "surface"
           }
          ],
          "table": [
           {
            "cells": {
             "fill": {
              "color": "#EBF0F8"
             },
             "line": {
              "color": "white"
             }
            },
            "header": {
             "fill": {
              "color": "#C8D4E3"
             },
             "line": {
              "color": "white"
             }
            },
            "type": "table"
           }
          ]
         },
         "layout": {
          "annotationdefaults": {
           "arrowcolor": "#2a3f5f",
           "arrowhead": 0,
           "arrowwidth": 1
          },
          "autotypenumbers": "strict",
          "coloraxis": {
           "colorbar": {
            "outlinewidth": 0,
            "ticks": ""
           }
          },
          "colorscale": {
           "diverging": [
            [
             0,
             "#8e0152"
            ],
            [
             0.1,
             "#c51b7d"
            ],
            [
             0.2,
             "#de77ae"
            ],
            [
             0.3,
             "#f1b6da"
            ],
            [
             0.4,
             "#fde0ef"
            ],
            [
             0.5,
             "#f7f7f7"
            ],
            [
             0.6,
             "#e6f5d0"
            ],
            [
             0.7,
             "#b8e186"
            ],
            [
             0.8,
             "#7fbc41"
            ],
            [
             0.9,
             "#4d9221"
            ],
            [
             1,
             "#276419"
            ]
           ],
           "sequential": [
            [
             0,
             "#0d0887"
            ],
            [
             0.1111111111111111,
             "#46039f"
            ],
            [
             0.2222222222222222,
             "#7201a8"
            ],
            [
             0.3333333333333333,
             "#9c179e"
            ],
            [
             0.4444444444444444,
             "#bd3786"
            ],
            [
             0.5555555555555556,
             "#d8576b"
            ],
            [
             0.6666666666666666,
             "#ed7953"
            ],
            [
             0.7777777777777778,
             "#fb9f3a"
            ],
            [
             0.8888888888888888,
             "#fdca26"
            ],
            [
             1,
             "#f0f921"
            ]
           ],
           "sequentialminus": [
            [
             0,
             "#0d0887"
            ],
            [
             0.1111111111111111,
             "#46039f"
            ],
            [
             0.2222222222222222,
             "#7201a8"
            ],
            [
             0.3333333333333333,
             "#9c179e"
            ],
            [
             0.4444444444444444,
             "#bd3786"
            ],
            [
             0.5555555555555556,
             "#d8576b"
            ],
            [
             0.6666666666666666,
             "#ed7953"
            ],
            [
             0.7777777777777778,
             "#fb9f3a"
            ],
            [
             0.8888888888888888,
             "#fdca26"
            ],
            [
             1,
             "#f0f921"
            ]
           ]
          },
          "colorway": [
           "#636efa",
           "#EF553B",
           "#00cc96",
           "#ab63fa",
           "#FFA15A",
           "#19d3f3",
           "#FF6692",
           "#B6E880",
           "#FF97FF",
           "#FECB52"
          ],
          "font": {
           "color": "#2a3f5f"
          },
          "geo": {
           "bgcolor": "white",
           "lakecolor": "white",
           "landcolor": "#E5ECF6",
           "showlakes": true,
           "showland": true,
           "subunitcolor": "white"
          },
          "hoverlabel": {
           "align": "left"
          },
          "hovermode": "closest",
          "mapbox": {
           "style": "light"
          },
          "paper_bgcolor": "white",
          "plot_bgcolor": "#E5ECF6",
          "polar": {
           "angularaxis": {
            "gridcolor": "white",
            "linecolor": "white",
            "ticks": ""
           },
           "bgcolor": "#E5ECF6",
           "radialaxis": {
            "gridcolor": "white",
            "linecolor": "white",
            "ticks": ""
           }
          },
          "scene": {
           "xaxis": {
            "backgroundcolor": "#E5ECF6",
            "gridcolor": "white",
            "gridwidth": 2,
            "linecolor": "white",
            "showbackground": true,
            "ticks": "",
            "zerolinecolor": "white"
           },
           "yaxis": {
            "backgroundcolor": "#E5ECF6",
            "gridcolor": "white",
            "gridwidth": 2,
            "linecolor": "white",
            "showbackground": true,
            "ticks": "",
            "zerolinecolor": "white"
           },
           "zaxis": {
            "backgroundcolor": "#E5ECF6",
            "gridcolor": "white",
            "gridwidth": 2,
            "linecolor": "white",
            "showbackground": true,
            "ticks": "",
            "zerolinecolor": "white"
           }
          },
          "shapedefaults": {
           "line": {
            "color": "#2a3f5f"
           }
          },
          "ternary": {
           "aaxis": {
            "gridcolor": "white",
            "linecolor": "white",
            "ticks": ""
           },
           "baxis": {
            "gridcolor": "white",
            "linecolor": "white",
            "ticks": ""
           },
           "bgcolor": "#E5ECF6",
           "caxis": {
            "gridcolor": "white",
            "linecolor": "white",
            "ticks": ""
           }
          },
          "title": {
           "x": 0.05
          },
          "xaxis": {
           "automargin": true,
           "gridcolor": "white",
           "linecolor": "white",
           "ticks": "",
           "title": {
            "standoff": 15
           },
           "zerolinecolor": "white",
           "zerolinewidth": 2
          },
          "yaxis": {
           "automargin": true,
           "gridcolor": "white",
           "linecolor": "white",
           "ticks": "",
           "title": {
            "standoff": 15
           },
           "zerolinecolor": "white",
           "zerolinewidth": 2
          }
         }
        },
        "title": {
         "text": "ITService Count"
        }
       }
      }
     },
     "metadata": {},
     "output_type": "display_data"
    }
   ],
   "source": [
    "#plot sales diff\n",
    "plot_data = [\n",
    "    go.Scatter(\n",
    "        x=df_diff['RQST_DT'],\n",
    "        y=df_diff['CNT'],\n",
    "    )\n",
    "]\n",
    "plot_layout = go.Layout(\n",
    "        title='ITService Count'\n",
    "    )\n",
    "fig = go.Figure(data=plot_data, layout=plot_layout)\n",
    "pyoff.iplot(fig)"
   ]
  },
  {
   "cell_type": "code",
   "execution_count": 344,
   "metadata": {},
   "outputs": [
    {
     "data": {
      "application/vnd.plotly.v1+json": {
       "config": {
        "linkText": "Export to plot.ly",
        "plotlyServerURL": "https://plot.ly",
        "showLink": false
       },
       "data": [
        {
         "type": "scatter",
         "x": [
          "2021-01-04T00:00:00",
          "2021-01-05T00:00:00",
          "2021-01-06T00:00:00",
          "2021-01-07T00:00:00",
          "2021-01-08T00:00:00",
          "2021-01-11T00:00:00",
          "2021-01-12T00:00:00",
          "2021-01-13T00:00:00",
          "2021-01-14T00:00:00",
          "2021-01-15T00:00:00",
          "2021-01-18T00:00:00",
          "2021-01-19T00:00:00",
          "2021-01-20T00:00:00",
          "2021-01-21T00:00:00",
          "2021-01-22T00:00:00",
          "2021-01-23T00:00:00",
          "2021-01-25T00:00:00",
          "2021-01-26T00:00:00",
          "2021-01-27T00:00:00",
          "2021-01-28T00:00:00",
          "2021-01-29T00:00:00",
          "2021-02-01T00:00:00",
          "2021-02-02T00:00:00",
          "2021-02-03T00:00:00",
          "2021-02-04T00:00:00",
          "2021-02-05T00:00:00",
          "2021-02-08T00:00:00",
          "2021-02-09T00:00:00",
          "2021-02-10T00:00:00",
          "2021-02-15T00:00:00",
          "2021-02-16T00:00:00",
          "2021-02-17T00:00:00",
          "2021-02-18T00:00:00",
          "2021-02-19T00:00:00",
          "2021-02-22T00:00:00",
          "2021-02-23T00:00:00",
          "2021-02-24T00:00:00",
          "2021-02-25T00:00:00",
          "2021-02-26T00:00:00",
          "2021-02-28T00:00:00",
          "2021-03-01T00:00:00",
          "2021-03-02T00:00:00",
          "2021-03-03T00:00:00",
          "2021-03-04T00:00:00",
          "2021-03-05T00:00:00",
          "2021-03-08T00:00:00",
          "2021-03-09T00:00:00",
          "2021-03-10T00:00:00",
          "2021-03-11T00:00:00",
          "2021-03-12T00:00:00",
          "2021-03-15T00:00:00",
          "2021-03-16T00:00:00",
          "2021-03-17T00:00:00",
          "2021-03-18T00:00:00",
          "2021-03-19T00:00:00",
          "2021-03-22T00:00:00",
          "2021-03-23T00:00:00",
          "2021-03-24T00:00:00",
          "2021-03-25T00:00:00",
          "2021-03-26T00:00:00",
          "2021-03-29T00:00:00",
          "2021-03-30T00:00:00",
          "2021-03-31T00:00:00",
          "2021-04-01T00:00:00",
          "2021-04-02T00:00:00",
          "2021-04-05T00:00:00",
          "2021-04-06T00:00:00",
          "2021-04-07T00:00:00",
          "2021-04-08T00:00:00",
          "2021-04-09T00:00:00",
          "2021-04-12T00:00:00",
          "2021-04-13T00:00:00",
          "2021-04-14T00:00:00",
          "2021-04-15T00:00:00",
          "2021-04-16T00:00:00",
          "2021-04-19T00:00:00",
          "2021-04-20T00:00:00",
          "2021-04-21T00:00:00",
          "2021-04-22T00:00:00",
          "2021-04-23T00:00:00",
          "2021-04-26T00:00:00",
          "2021-04-27T00:00:00",
          "2021-04-28T00:00:00",
          "2021-04-29T00:00:00",
          "2021-04-30T00:00:00",
          "2021-05-03T00:00:00",
          "2021-05-04T00:00:00",
          "2021-05-06T00:00:00",
          "2021-05-07T00:00:00",
          "2021-05-10T00:00:00",
          "2021-05-11T00:00:00",
          "2021-05-12T00:00:00",
          "2021-05-13T00:00:00",
          "2021-05-14T00:00:00",
          "2021-05-17T00:00:00",
          "2021-05-18T00:00:00",
          "2021-05-20T00:00:00",
          "2021-05-21T00:00:00",
          "2021-05-24T00:00:00",
          "2021-05-25T00:00:00",
          "2021-05-26T00:00:00",
          "2021-05-27T00:00:00",
          "2021-05-28T00:00:00",
          "2021-05-31T00:00:00",
          "2021-06-01T00:00:00",
          "2021-06-02T00:00:00",
          "2021-06-03T00:00:00",
          "2021-06-04T00:00:00",
          "2021-06-07T00:00:00",
          "2021-06-08T00:00:00",
          "2021-06-09T00:00:00",
          "2021-06-10T00:00:00",
          "2021-06-11T00:00:00",
          "2021-06-14T00:00:00",
          "2021-06-15T00:00:00",
          "2021-06-16T00:00:00",
          "2021-06-17T00:00:00",
          "2021-06-18T00:00:00",
          "2021-06-21T00:00:00",
          "2021-06-22T00:00:00",
          "2021-06-23T00:00:00",
          "2021-06-24T00:00:00",
          "2021-06-25T00:00:00",
          "2021-06-28T00:00:00",
          "2021-06-29T00:00:00",
          "2021-06-30T00:00:00",
          "2021-07-01T00:00:00",
          "2021-07-02T00:00:00",
          "2021-07-05T00:00:00",
          "2021-07-06T00:00:00",
          "2021-07-07T00:00:00",
          "2021-07-08T00:00:00",
          "2021-07-09T00:00:00",
          "2021-07-12T00:00:00",
          "2021-07-13T00:00:00",
          "2021-07-14T00:00:00",
          "2021-07-15T00:00:00",
          "2021-07-16T00:00:00",
          "2021-07-19T00:00:00",
          "2021-07-20T00:00:00",
          "2021-07-21T00:00:00",
          "2021-07-22T00:00:00",
          "2021-07-23T00:00:00",
          "2021-07-26T00:00:00",
          "2021-07-27T00:00:00",
          "2021-07-28T00:00:00",
          "2021-07-29T00:00:00",
          "2021-07-30T00:00:00",
          "2021-08-02T00:00:00",
          "2021-08-03T00:00:00",
          "2021-08-04T00:00:00",
          "2021-08-05T00:00:00",
          "2021-08-06T00:00:00",
          "2021-08-08T00:00:00",
          "2021-08-09T00:00:00",
          "2021-08-10T00:00:00",
          "2021-08-11T00:00:00",
          "2021-08-12T00:00:00",
          "2021-08-13T00:00:00",
          "2021-08-17T00:00:00",
          "2021-08-18T00:00:00",
          "2021-08-19T00:00:00",
          "2021-08-20T00:00:00",
          "2021-08-23T00:00:00",
          "2021-08-24T00:00:00",
          "2021-08-25T00:00:00",
          "2021-08-26T00:00:00",
          "2021-08-27T00:00:00",
          "2021-08-30T00:00:00",
          "2021-08-31T00:00:00",
          "2021-09-01T00:00:00",
          "2021-09-02T00:00:00",
          "2021-09-03T00:00:00",
          "2021-09-06T00:00:00",
          "2021-09-07T00:00:00",
          "2021-09-08T00:00:00",
          "2021-09-09T00:00:00",
          "2021-09-10T00:00:00",
          "2021-09-12T00:00:00",
          "2021-09-13T00:00:00",
          "2021-09-14T00:00:00",
          "2021-09-15T00:00:00",
          "2021-09-16T00:00:00",
          "2021-09-17T00:00:00",
          "2021-09-23T00:00:00",
          "2021-09-24T00:00:00",
          "2021-09-27T00:00:00",
          "2021-09-28T00:00:00",
          "2021-09-29T00:00:00",
          "2021-09-30T00:00:00",
          "2021-10-01T00:00:00",
          "2021-10-04T00:00:00",
          "2021-10-05T00:00:00",
          "2021-10-06T00:00:00",
          "2021-10-07T00:00:00",
          "2021-10-08T00:00:00",
          "2021-10-12T00:00:00",
          "2021-10-13T00:00:00",
          "2021-10-14T00:00:00",
          "2021-10-15T00:00:00",
          "2021-10-18T00:00:00",
          "2021-10-19T00:00:00",
          "2021-10-20T00:00:00",
          "2021-10-21T00:00:00",
          "2021-10-22T00:00:00",
          "2021-10-25T00:00:00",
          "2021-10-26T00:00:00",
          "2021-10-27T00:00:00",
          "2021-10-28T00:00:00",
          "2021-10-29T00:00:00",
          "2021-11-01T00:00:00",
          "2021-11-02T00:00:00",
          "2021-11-03T00:00:00",
          "2021-11-04T00:00:00",
          "2021-11-05T00:00:00",
          "2021-11-08T00:00:00",
          "2021-11-09T00:00:00",
          "2021-11-10T00:00:00",
          "2021-11-11T00:00:00",
          "2021-11-12T00:00:00",
          "2021-11-15T00:00:00",
          "2021-11-16T00:00:00",
          "2021-11-17T00:00:00",
          "2021-11-18T00:00:00",
          "2021-11-19T00:00:00",
          "2021-11-22T00:00:00",
          "2021-11-23T00:00:00",
          "2021-11-24T00:00:00",
          "2021-11-25T00:00:00",
          "2021-11-26T00:00:00",
          "2021-11-29T00:00:00",
          "2021-11-30T00:00:00",
          "2021-12-01T00:00:00",
          "2021-12-02T00:00:00",
          "2021-12-03T00:00:00",
          "2021-12-06T00:00:00",
          "2021-12-07T00:00:00",
          "2021-12-08T00:00:00",
          "2021-12-09T00:00:00",
          "2021-12-10T00:00:00",
          "2021-12-13T00:00:00",
          "2021-12-14T00:00:00",
          "2021-12-15T00:00:00",
          "2021-12-16T00:00:00",
          "2021-12-17T00:00:00",
          "2021-12-18T00:00:00",
          "2021-12-20T00:00:00",
          "2021-12-21T00:00:00",
          "2021-12-22T00:00:00",
          "2021-12-23T00:00:00",
          "2021-12-24T00:00:00",
          "2021-12-28T00:00:00",
          "2021-12-29T00:00:00",
          "2021-12-30T00:00:00",
          "2021-12-31T00:00:00"
         ],
         "y": [
          2,
          7,
          -5,
          0,
          -5,
          4,
          0,
          -2,
          -2,
          4,
          -2,
          -1,
          0,
          1,
          0,
          -2,
          0,
          5,
          -4,
          -1,
          0,
          14,
          -10,
          6,
          -6,
          5,
          16,
          -5,
          -1,
          0,
          -5,
          6,
          3,
          -9,
          16,
          -16,
          14,
          -9,
          1,
          -20,
          0,
          22,
          -4,
          16,
          -21,
          5,
          7,
          -11,
          -5,
          7,
          -2,
          14,
          -10,
          -2,
          -5,
          -4,
          2,
          6,
          4,
          -14,
          8,
          -8,
          5,
          1,
          2,
          1,
          4,
          3,
          0,
          -17,
          5,
          -3,
          6,
          5,
          -7,
          2,
          -1,
          -4,
          3,
          -5,
          4,
          6,
          -5,
          -5,
          -3,
          4,
          2,
          -2,
          -3,
          7,
          1,
          -6,
          6,
          -8,
          1,
          0,
          6,
          -5,
          10,
          -9,
          12,
          -10,
          1,
          -7,
          16,
          -4,
          -9,
          -2,
          6,
          2,
          -5,
          1,
          -2,
          5,
          1,
          -6,
          7,
          -7,
          2,
          4,
          -4,
          -1,
          -1,
          -1,
          6,
          -3,
          3,
          -3,
          4,
          -5,
          0,
          3,
          -3,
          3,
          5,
          -8,
          3,
          -3,
          2,
          -3,
          2,
          -1,
          -2,
          2,
          7,
          -9,
          -2,
          2,
          8,
          -9,
          3,
          -2,
          -2,
          -2,
          9,
          0,
          -6,
          3,
          -5,
          6,
          -2,
          2,
          -3,
          -1,
          1,
          -2,
          3,
          -4,
          6,
          -2,
          0,
          2,
          -3,
          -3,
          5,
          -2,
          2,
          -3,
          -2,
          6,
          7,
          -10,
          1,
          -4,
          1,
          -1,
          -1,
          9,
          -4,
          -3,
          4,
          -6,
          5,
          3,
          -2,
          0,
          5,
          -5,
          1,
          -2,
          4,
          -3,
          0,
          -2,
          0,
          2,
          -2,
          2,
          2,
          -4,
          6,
          0,
          -6,
          4,
          -4,
          4,
          1,
          -1,
          -7,
          4,
          -1,
          1,
          -1,
          0,
          0,
          3,
          -2,
          3,
          -6,
          1,
          4,
          -6,
          7,
          1,
          -4,
          0,
          2,
          -2,
          5,
          -7,
          4,
          -2,
          2,
          1,
          -5,
          -3,
          3,
          4,
          -2,
          4,
          -8,
          4,
          -3,
          2,
          -2
         ]
        }
       ],
       "layout": {
        "template": {
         "data": {
          "bar": [
           {
            "error_x": {
             "color": "#2a3f5f"
            },
            "error_y": {
             "color": "#2a3f5f"
            },
            "marker": {
             "line": {
              "color": "#E5ECF6",
              "width": 0.5
             },
             "pattern": {
              "fillmode": "overlay",
              "size": 10,
              "solidity": 0.2
             }
            },
            "type": "bar"
           }
          ],
          "barpolar": [
           {
            "marker": {
             "line": {
              "color": "#E5ECF6",
              "width": 0.5
             },
             "pattern": {
              "fillmode": "overlay",
              "size": 10,
              "solidity": 0.2
             }
            },
            "type": "barpolar"
           }
          ],
          "carpet": [
           {
            "aaxis": {
             "endlinecolor": "#2a3f5f",
             "gridcolor": "white",
             "linecolor": "white",
             "minorgridcolor": "white",
             "startlinecolor": "#2a3f5f"
            },
            "baxis": {
             "endlinecolor": "#2a3f5f",
             "gridcolor": "white",
             "linecolor": "white",
             "minorgridcolor": "white",
             "startlinecolor": "#2a3f5f"
            },
            "type": "carpet"
           }
          ],
          "choropleth": [
           {
            "colorbar": {
             "outlinewidth": 0,
             "ticks": ""
            },
            "type": "choropleth"
           }
          ],
          "contour": [
           {
            "colorbar": {
             "outlinewidth": 0,
             "ticks": ""
            },
            "colorscale": [
             [
              0,
              "#0d0887"
             ],
             [
              0.1111111111111111,
              "#46039f"
             ],
             [
              0.2222222222222222,
              "#7201a8"
             ],
             [
              0.3333333333333333,
              "#9c179e"
             ],
             [
              0.4444444444444444,
              "#bd3786"
             ],
             [
              0.5555555555555556,
              "#d8576b"
             ],
             [
              0.6666666666666666,
              "#ed7953"
             ],
             [
              0.7777777777777778,
              "#fb9f3a"
             ],
             [
              0.8888888888888888,
              "#fdca26"
             ],
             [
              1,
              "#f0f921"
             ]
            ],
            "type": "contour"
           }
          ],
          "contourcarpet": [
           {
            "colorbar": {
             "outlinewidth": 0,
             "ticks": ""
            },
            "type": "contourcarpet"
           }
          ],
          "heatmap": [
           {
            "colorbar": {
             "outlinewidth": 0,
             "ticks": ""
            },
            "colorscale": [
             [
              0,
              "#0d0887"
             ],
             [
              0.1111111111111111,
              "#46039f"
             ],
             [
              0.2222222222222222,
              "#7201a8"
             ],
             [
              0.3333333333333333,
              "#9c179e"
             ],
             [
              0.4444444444444444,
              "#bd3786"
             ],
             [
              0.5555555555555556,
              "#d8576b"
             ],
             [
              0.6666666666666666,
              "#ed7953"
             ],
             [
              0.7777777777777778,
              "#fb9f3a"
             ],
             [
              0.8888888888888888,
              "#fdca26"
             ],
             [
              1,
              "#f0f921"
             ]
            ],
            "type": "heatmap"
           }
          ],
          "heatmapgl": [
           {
            "colorbar": {
             "outlinewidth": 0,
             "ticks": ""
            },
            "colorscale": [
             [
              0,
              "#0d0887"
             ],
             [
              0.1111111111111111,
              "#46039f"
             ],
             [
              0.2222222222222222,
              "#7201a8"
             ],
             [
              0.3333333333333333,
              "#9c179e"
             ],
             [
              0.4444444444444444,
              "#bd3786"
             ],
             [
              0.5555555555555556,
              "#d8576b"
             ],
             [
              0.6666666666666666,
              "#ed7953"
             ],
             [
              0.7777777777777778,
              "#fb9f3a"
             ],
             [
              0.8888888888888888,
              "#fdca26"
             ],
             [
              1,
              "#f0f921"
             ]
            ],
            "type": "heatmapgl"
           }
          ],
          "histogram": [
           {
            "marker": {
             "pattern": {
              "fillmode": "overlay",
              "size": 10,
              "solidity": 0.2
             }
            },
            "type": "histogram"
           }
          ],
          "histogram2d": [
           {
            "colorbar": {
             "outlinewidth": 0,
             "ticks": ""
            },
            "colorscale": [
             [
              0,
              "#0d0887"
             ],
             [
              0.1111111111111111,
              "#46039f"
             ],
             [
              0.2222222222222222,
              "#7201a8"
             ],
             [
              0.3333333333333333,
              "#9c179e"
             ],
             [
              0.4444444444444444,
              "#bd3786"
             ],
             [
              0.5555555555555556,
              "#d8576b"
             ],
             [
              0.6666666666666666,
              "#ed7953"
             ],
             [
              0.7777777777777778,
              "#fb9f3a"
             ],
             [
              0.8888888888888888,
              "#fdca26"
             ],
             [
              1,
              "#f0f921"
             ]
            ],
            "type": "histogram2d"
           }
          ],
          "histogram2dcontour": [
           {
            "colorbar": {
             "outlinewidth": 0,
             "ticks": ""
            },
            "colorscale": [
             [
              0,
              "#0d0887"
             ],
             [
              0.1111111111111111,
              "#46039f"
             ],
             [
              0.2222222222222222,
              "#7201a8"
             ],
             [
              0.3333333333333333,
              "#9c179e"
             ],
             [
              0.4444444444444444,
              "#bd3786"
             ],
             [
              0.5555555555555556,
              "#d8576b"
             ],
             [
              0.6666666666666666,
              "#ed7953"
             ],
             [
              0.7777777777777778,
              "#fb9f3a"
             ],
             [
              0.8888888888888888,
              "#fdca26"
             ],
             [
              1,
              "#f0f921"
             ]
            ],
            "type": "histogram2dcontour"
           }
          ],
          "mesh3d": [
           {
            "colorbar": {
             "outlinewidth": 0,
             "ticks": ""
            },
            "type": "mesh3d"
           }
          ],
          "parcoords": [
           {
            "line": {
             "colorbar": {
              "outlinewidth": 0,
              "ticks": ""
             }
            },
            "type": "parcoords"
           }
          ],
          "pie": [
           {
            "automargin": true,
            "type": "pie"
           }
          ],
          "scatter": [
           {
            "marker": {
             "colorbar": {
              "outlinewidth": 0,
              "ticks": ""
             }
            },
            "type": "scatter"
           }
          ],
          "scatter3d": [
           {
            "line": {
             "colorbar": {
              "outlinewidth": 0,
              "ticks": ""
             }
            },
            "marker": {
             "colorbar": {
              "outlinewidth": 0,
              "ticks": ""
             }
            },
            "type": "scatter3d"
           }
          ],
          "scattercarpet": [
           {
            "marker": {
             "colorbar": {
              "outlinewidth": 0,
              "ticks": ""
             }
            },
            "type": "scattercarpet"
           }
          ],
          "scattergeo": [
           {
            "marker": {
             "colorbar": {
              "outlinewidth": 0,
              "ticks": ""
             }
            },
            "type": "scattergeo"
           }
          ],
          "scattergl": [
           {
            "marker": {
             "colorbar": {
              "outlinewidth": 0,
              "ticks": ""
             }
            },
            "type": "scattergl"
           }
          ],
          "scattermapbox": [
           {
            "marker": {
             "colorbar": {
              "outlinewidth": 0,
              "ticks": ""
             }
            },
            "type": "scattermapbox"
           }
          ],
          "scatterpolar": [
           {
            "marker": {
             "colorbar": {
              "outlinewidth": 0,
              "ticks": ""
             }
            },
            "type": "scatterpolar"
           }
          ],
          "scatterpolargl": [
           {
            "marker": {
             "colorbar": {
              "outlinewidth": 0,
              "ticks": ""
             }
            },
            "type": "scatterpolargl"
           }
          ],
          "scatterternary": [
           {
            "marker": {
             "colorbar": {
              "outlinewidth": 0,
              "ticks": ""
             }
            },
            "type": "scatterternary"
           }
          ],
          "surface": [
           {
            "colorbar": {
             "outlinewidth": 0,
             "ticks": ""
            },
            "colorscale": [
             [
              0,
              "#0d0887"
             ],
             [
              0.1111111111111111,
              "#46039f"
             ],
             [
              0.2222222222222222,
              "#7201a8"
             ],
             [
              0.3333333333333333,
              "#9c179e"
             ],
             [
              0.4444444444444444,
              "#bd3786"
             ],
             [
              0.5555555555555556,
              "#d8576b"
             ],
             [
              0.6666666666666666,
              "#ed7953"
             ],
             [
              0.7777777777777778,
              "#fb9f3a"
             ],
             [
              0.8888888888888888,
              "#fdca26"
             ],
             [
              1,
              "#f0f921"
             ]
            ],
            "type": "surface"
           }
          ],
          "table": [
           {
            "cells": {
             "fill": {
              "color": "#EBF0F8"
             },
             "line": {
              "color": "white"
             }
            },
            "header": {
             "fill": {
              "color": "#C8D4E3"
             },
             "line": {
              "color": "white"
             }
            },
            "type": "table"
           }
          ]
         },
         "layout": {
          "annotationdefaults": {
           "arrowcolor": "#2a3f5f",
           "arrowhead": 0,
           "arrowwidth": 1
          },
          "autotypenumbers": "strict",
          "coloraxis": {
           "colorbar": {
            "outlinewidth": 0,
            "ticks": ""
           }
          },
          "colorscale": {
           "diverging": [
            [
             0,
             "#8e0152"
            ],
            [
             0.1,
             "#c51b7d"
            ],
            [
             0.2,
             "#de77ae"
            ],
            [
             0.3,
             "#f1b6da"
            ],
            [
             0.4,
             "#fde0ef"
            ],
            [
             0.5,
             "#f7f7f7"
            ],
            [
             0.6,
             "#e6f5d0"
            ],
            [
             0.7,
             "#b8e186"
            ],
            [
             0.8,
             "#7fbc41"
            ],
            [
             0.9,
             "#4d9221"
            ],
            [
             1,
             "#276419"
            ]
           ],
           "sequential": [
            [
             0,
             "#0d0887"
            ],
            [
             0.1111111111111111,
             "#46039f"
            ],
            [
             0.2222222222222222,
             "#7201a8"
            ],
            [
             0.3333333333333333,
             "#9c179e"
            ],
            [
             0.4444444444444444,
             "#bd3786"
            ],
            [
             0.5555555555555556,
             "#d8576b"
            ],
            [
             0.6666666666666666,
             "#ed7953"
            ],
            [
             0.7777777777777778,
             "#fb9f3a"
            ],
            [
             0.8888888888888888,
             "#fdca26"
            ],
            [
             1,
             "#f0f921"
            ]
           ],
           "sequentialminus": [
            [
             0,
             "#0d0887"
            ],
            [
             0.1111111111111111,
             "#46039f"
            ],
            [
             0.2222222222222222,
             "#7201a8"
            ],
            [
             0.3333333333333333,
             "#9c179e"
            ],
            [
             0.4444444444444444,
             "#bd3786"
            ],
            [
             0.5555555555555556,
             "#d8576b"
            ],
            [
             0.6666666666666666,
             "#ed7953"
            ],
            [
             0.7777777777777778,
             "#fb9f3a"
            ],
            [
             0.8888888888888888,
             "#fdca26"
            ],
            [
             1,
             "#f0f921"
            ]
           ]
          },
          "colorway": [
           "#636efa",
           "#EF553B",
           "#00cc96",
           "#ab63fa",
           "#FFA15A",
           "#19d3f3",
           "#FF6692",
           "#B6E880",
           "#FF97FF",
           "#FECB52"
          ],
          "font": {
           "color": "#2a3f5f"
          },
          "geo": {
           "bgcolor": "white",
           "lakecolor": "white",
           "landcolor": "#E5ECF6",
           "showlakes": true,
           "showland": true,
           "subunitcolor": "white"
          },
          "hoverlabel": {
           "align": "left"
          },
          "hovermode": "closest",
          "mapbox": {
           "style": "light"
          },
          "paper_bgcolor": "white",
          "plot_bgcolor": "#E5ECF6",
          "polar": {
           "angularaxis": {
            "gridcolor": "white",
            "linecolor": "white",
            "ticks": ""
           },
           "bgcolor": "#E5ECF6",
           "radialaxis": {
            "gridcolor": "white",
            "linecolor": "white",
            "ticks": ""
           }
          },
          "scene": {
           "xaxis": {
            "backgroundcolor": "#E5ECF6",
            "gridcolor": "white",
            "gridwidth": 2,
            "linecolor": "white",
            "showbackground": true,
            "ticks": "",
            "zerolinecolor": "white"
           },
           "yaxis": {
            "backgroundcolor": "#E5ECF6",
            "gridcolor": "white",
            "gridwidth": 2,
            "linecolor": "white",
            "showbackground": true,
            "ticks": "",
            "zerolinecolor": "white"
           },
           "zaxis": {
            "backgroundcolor": "#E5ECF6",
            "gridcolor": "white",
            "gridwidth": 2,
            "linecolor": "white",
            "showbackground": true,
            "ticks": "",
            "zerolinecolor": "white"
           }
          },
          "shapedefaults": {
           "line": {
            "color": "#2a3f5f"
           }
          },
          "ternary": {
           "aaxis": {
            "gridcolor": "white",
            "linecolor": "white",
            "ticks": ""
           },
           "baxis": {
            "gridcolor": "white",
            "linecolor": "white",
            "ticks": ""
           },
           "bgcolor": "#E5ECF6",
           "caxis": {
            "gridcolor": "white",
            "linecolor": "white",
            "ticks": ""
           }
          },
          "title": {
           "x": 0.05
          },
          "xaxis": {
           "automargin": true,
           "gridcolor": "white",
           "linecolor": "white",
           "ticks": "",
           "title": {
            "standoff": 15
           },
           "zerolinecolor": "white",
           "zerolinewidth": 2
          },
          "yaxis": {
           "automargin": true,
           "gridcolor": "white",
           "linecolor": "white",
           "ticks": "",
           "title": {
            "standoff": 15
           },
           "zerolinecolor": "white",
           "zerolinewidth": 2
          }
         }
        },
        "title": {
         "text": "ITService Diff"
        }
       }
      }
     },
     "metadata": {},
     "output_type": "display_data"
    }
   ],
   "source": [
    "#plot sales diff\n",
    "plot_data = [\n",
    "    go.Scatter(\n",
    "        x=df_diff['RQST_DT'],\n",
    "        y=df_diff['diff'],\n",
    "    )\n",
    "]\n",
    "plot_layout = go.Layout(\n",
    "        title='ITService Diff'\n",
    "    )\n",
    "fig = go.Figure(data=plot_data, layout=plot_layout)\n",
    "pyoff.iplot(fig)"
   ]
  },
  {
   "cell_type": "code",
   "execution_count": 345,
   "metadata": {},
   "outputs": [],
   "source": [
    "def fn_regression_adj_rsq(cols):\n",
    "    model = smf.ols(formula=cols, data=df_supervised)\n",
    "    # Fit the regression\n",
    "    model_fit = model.fit()\n",
    "    # Extract the adjusted r-squared\n",
    "    regression_adj_rsq = model_fit.rsquared_adj\n",
    "    \n",
    "    return regression_adj_rsq"
   ]
  },
  {
   "cell_type": "code",
   "execution_count": 346,
   "metadata": {},
   "outputs": [
    {
     "name": "stdout",
     "output_type": "stream",
     "text": [
      "1 0.3791745880944519\n",
      "2 0.4876679746059025\n",
      "3 0.450355422700926\n",
      "4 0.4290307076058869\n",
      "5 0.39630819205514844\n",
      "6 nan\n"
     ]
    },
    {
     "name": "stderr",
     "output_type": "stream",
     "text": [
      "C:\\Users\\admin\\AppData\\Local\\Packages\\PythonSoftwareFoundation.Python.3.9_qbz5n2kfra8p0\\LocalCache\\local-packages\\Python39\\site-packages\\statsmodels\\regression\\linear_model.py:1751: RuntimeWarning:\n",
      "\n",
      "divide by zero encountered in true_divide\n",
      "\n",
      "C:\\Users\\admin\\AppData\\Local\\Packages\\PythonSoftwareFoundation.Python.3.9_qbz5n2kfra8p0\\LocalCache\\local-packages\\Python39\\site-packages\\statsmodels\\regression\\linear_model.py:1751: RuntimeWarning:\n",
      "\n",
      "invalid value encountered in double_scalars\n",
      "\n"
     ]
    },
    {
     "ename": "ValueError",
     "evalue": "zero-size array to reduction operation maximum which has no identity",
     "output_type": "error",
     "traceback": [
      "\u001b[1;31m---------------------------------------------------------------------------\u001b[0m",
      "\u001b[1;31mValueError\u001b[0m                                Traceback (most recent call last)",
      "\u001b[1;32m~\\AppData\\Local\\Temp/ipykernel_9736/3535056176.py\u001b[0m in \u001b[0;36m<module>\u001b[1;34m\u001b[0m\n\u001b[0;32m     14\u001b[0m     \u001b[1;31m#drop null values\u001b[0m\u001b[1;33m\u001b[0m\u001b[1;33m\u001b[0m\u001b[0m\n\u001b[0;32m     15\u001b[0m     \u001b[0mdf_supervised\u001b[0m \u001b[1;33m=\u001b[0m \u001b[0mdf_supervised\u001b[0m\u001b[1;33m.\u001b[0m\u001b[0mdropna\u001b[0m\u001b[1;33m(\u001b[0m\u001b[1;33m)\u001b[0m\u001b[1;33m.\u001b[0m\u001b[0mreset_index\u001b[0m\u001b[1;33m(\u001b[0m\u001b[0mdrop\u001b[0m\u001b[1;33m=\u001b[0m\u001b[1;32mTrue\u001b[0m\u001b[1;33m)\u001b[0m\u001b[1;33m\u001b[0m\u001b[1;33m\u001b[0m\u001b[0m\n\u001b[1;32m---> 16\u001b[1;33m     \u001b[0mval\u001b[0m \u001b[1;33m=\u001b[0m \u001b[0mfn_regression_adj_rsq\u001b[0m\u001b[1;33m(\u001b[0m\u001b[0mcols\u001b[0m\u001b[1;33m)\u001b[0m\u001b[1;33m\u001b[0m\u001b[1;33m\u001b[0m\u001b[0m\n\u001b[0m\u001b[0;32m     17\u001b[0m     \u001b[0mprint\u001b[0m\u001b[1;33m(\u001b[0m\u001b[0mstr\u001b[0m\u001b[1;33m(\u001b[0m\u001b[0midx\u001b[0m\u001b[1;33m)\u001b[0m \u001b[1;33m+\u001b[0m \u001b[1;34m' '\u001b[0m \u001b[1;33m+\u001b[0m \u001b[0mstr\u001b[0m\u001b[1;33m(\u001b[0m\u001b[0mval\u001b[0m\u001b[1;33m)\u001b[0m\u001b[1;33m)\u001b[0m\u001b[1;33m\u001b[0m\u001b[1;33m\u001b[0m\u001b[0m\n",
      "\u001b[1;32m~\\AppData\\Local\\Temp/ipykernel_9736/2197804482.py\u001b[0m in \u001b[0;36mfn_regression_adj_rsq\u001b[1;34m(cols)\u001b[0m\n\u001b[0;32m      1\u001b[0m \u001b[1;32mdef\u001b[0m \u001b[0mfn_regression_adj_rsq\u001b[0m\u001b[1;33m(\u001b[0m\u001b[0mcols\u001b[0m\u001b[1;33m)\u001b[0m\u001b[1;33m:\u001b[0m\u001b[1;33m\u001b[0m\u001b[1;33m\u001b[0m\u001b[0m\n\u001b[1;32m----> 2\u001b[1;33m     \u001b[0mmodel\u001b[0m \u001b[1;33m=\u001b[0m \u001b[0msmf\u001b[0m\u001b[1;33m.\u001b[0m\u001b[0mols\u001b[0m\u001b[1;33m(\u001b[0m\u001b[0mformula\u001b[0m\u001b[1;33m=\u001b[0m\u001b[0mcols\u001b[0m\u001b[1;33m,\u001b[0m \u001b[0mdata\u001b[0m\u001b[1;33m=\u001b[0m\u001b[0mdf_supervised\u001b[0m\u001b[1;33m)\u001b[0m\u001b[1;33m\u001b[0m\u001b[1;33m\u001b[0m\u001b[0m\n\u001b[0m\u001b[0;32m      3\u001b[0m     \u001b[1;31m# Fit the regression\u001b[0m\u001b[1;33m\u001b[0m\u001b[1;33m\u001b[0m\u001b[0m\n\u001b[0;32m      4\u001b[0m     \u001b[0mmodel_fit\u001b[0m \u001b[1;33m=\u001b[0m \u001b[0mmodel\u001b[0m\u001b[1;33m.\u001b[0m\u001b[0mfit\u001b[0m\u001b[1;33m(\u001b[0m\u001b[1;33m)\u001b[0m\u001b[1;33m\u001b[0m\u001b[1;33m\u001b[0m\u001b[0m\n\u001b[0;32m      5\u001b[0m     \u001b[1;31m# Extract the adjusted r-squared\u001b[0m\u001b[1;33m\u001b[0m\u001b[1;33m\u001b[0m\u001b[0m\n",
      "\u001b[1;32m~\\AppData\\Local\\Packages\\PythonSoftwareFoundation.Python.3.9_qbz5n2kfra8p0\\LocalCache\\local-packages\\Python39\\site-packages\\statsmodels\\base\\model.py\u001b[0m in \u001b[0;36mfrom_formula\u001b[1;34m(cls, formula, data, subset, drop_cols, *args, **kwargs)\u001b[0m\n\u001b[0;32m    224\u001b[0m                        \u001b[1;34m'formula'\u001b[0m\u001b[1;33m:\u001b[0m \u001b[0mformula\u001b[0m\u001b[1;33m,\u001b[0m  \u001b[1;31m# attach formula for unpckling\u001b[0m\u001b[1;33m\u001b[0m\u001b[1;33m\u001b[0m\u001b[0m\n\u001b[0;32m    225\u001b[0m                        'design_info': design_info})\n\u001b[1;32m--> 226\u001b[1;33m         \u001b[0mmod\u001b[0m \u001b[1;33m=\u001b[0m \u001b[0mcls\u001b[0m\u001b[1;33m(\u001b[0m\u001b[0mendog\u001b[0m\u001b[1;33m,\u001b[0m \u001b[0mexog\u001b[0m\u001b[1;33m,\u001b[0m \u001b[1;33m*\u001b[0m\u001b[0margs\u001b[0m\u001b[1;33m,\u001b[0m \u001b[1;33m**\u001b[0m\u001b[0mkwargs\u001b[0m\u001b[1;33m)\u001b[0m\u001b[1;33m\u001b[0m\u001b[1;33m\u001b[0m\u001b[0m\n\u001b[0m\u001b[0;32m    227\u001b[0m         \u001b[0mmod\u001b[0m\u001b[1;33m.\u001b[0m\u001b[0mformula\u001b[0m \u001b[1;33m=\u001b[0m \u001b[0mformula\u001b[0m\u001b[1;33m\u001b[0m\u001b[1;33m\u001b[0m\u001b[0m\n\u001b[0;32m    228\u001b[0m         \u001b[1;31m# since we got a dataframe, attach the original\u001b[0m\u001b[1;33m\u001b[0m\u001b[1;33m\u001b[0m\u001b[0m\n",
      "\u001b[1;32m~\\AppData\\Local\\Packages\\PythonSoftwareFoundation.Python.3.9_qbz5n2kfra8p0\\LocalCache\\local-packages\\Python39\\site-packages\\statsmodels\\regression\\linear_model.py\u001b[0m in \u001b[0;36m__init__\u001b[1;34m(self, endog, exog, missing, hasconst, **kwargs)\u001b[0m\n\u001b[0;32m    890\u001b[0m                    \"An exception will be raised in the next version.\")\n\u001b[0;32m    891\u001b[0m             \u001b[0mwarnings\u001b[0m\u001b[1;33m.\u001b[0m\u001b[0mwarn\u001b[0m\u001b[1;33m(\u001b[0m\u001b[0mmsg\u001b[0m\u001b[1;33m,\u001b[0m \u001b[0mValueWarning\u001b[0m\u001b[1;33m)\u001b[0m\u001b[1;33m\u001b[0m\u001b[1;33m\u001b[0m\u001b[0m\n\u001b[1;32m--> 892\u001b[1;33m         super(OLS, self).__init__(endog, exog, missing=missing,\n\u001b[0m\u001b[0;32m    893\u001b[0m                                   hasconst=hasconst, **kwargs)\n\u001b[0;32m    894\u001b[0m         \u001b[1;32mif\u001b[0m \u001b[1;34m\"weights\"\u001b[0m \u001b[1;32min\u001b[0m \u001b[0mself\u001b[0m\u001b[1;33m.\u001b[0m\u001b[0m_init_keys\u001b[0m\u001b[1;33m:\u001b[0m\u001b[1;33m\u001b[0m\u001b[1;33m\u001b[0m\u001b[0m\n",
      "\u001b[1;32m~\\AppData\\Local\\Packages\\PythonSoftwareFoundation.Python.3.9_qbz5n2kfra8p0\\LocalCache\\local-packages\\Python39\\site-packages\\statsmodels\\regression\\linear_model.py\u001b[0m in \u001b[0;36m__init__\u001b[1;34m(self, endog, exog, weights, missing, hasconst, **kwargs)\u001b[0m\n\u001b[0;32m    717\u001b[0m         \u001b[1;32melse\u001b[0m\u001b[1;33m:\u001b[0m\u001b[1;33m\u001b[0m\u001b[1;33m\u001b[0m\u001b[0m\n\u001b[0;32m    718\u001b[0m             \u001b[0mweights\u001b[0m \u001b[1;33m=\u001b[0m \u001b[0mweights\u001b[0m\u001b[1;33m.\u001b[0m\u001b[0msqueeze\u001b[0m\u001b[1;33m(\u001b[0m\u001b[1;33m)\u001b[0m\u001b[1;33m\u001b[0m\u001b[1;33m\u001b[0m\u001b[0m\n\u001b[1;32m--> 719\u001b[1;33m         super(WLS, self).__init__(endog, exog, missing=missing,\n\u001b[0m\u001b[0;32m    720\u001b[0m                                   weights=weights, hasconst=hasconst, **kwargs)\n\u001b[0;32m    721\u001b[0m         \u001b[0mnobs\u001b[0m \u001b[1;33m=\u001b[0m \u001b[0mself\u001b[0m\u001b[1;33m.\u001b[0m\u001b[0mexog\u001b[0m\u001b[1;33m.\u001b[0m\u001b[0mshape\u001b[0m\u001b[1;33m[\u001b[0m\u001b[1;36m0\u001b[0m\u001b[1;33m]\u001b[0m\u001b[1;33m\u001b[0m\u001b[1;33m\u001b[0m\u001b[0m\n",
      "\u001b[1;32m~\\AppData\\Local\\Packages\\PythonSoftwareFoundation.Python.3.9_qbz5n2kfra8p0\\LocalCache\\local-packages\\Python39\\site-packages\\statsmodels\\regression\\linear_model.py\u001b[0m in \u001b[0;36m__init__\u001b[1;34m(self, endog, exog, **kwargs)\u001b[0m\n\u001b[0;32m    191\u001b[0m     \"\"\"\n\u001b[0;32m    192\u001b[0m     \u001b[1;32mdef\u001b[0m \u001b[0m__init__\u001b[0m\u001b[1;33m(\u001b[0m\u001b[0mself\u001b[0m\u001b[1;33m,\u001b[0m \u001b[0mendog\u001b[0m\u001b[1;33m,\u001b[0m \u001b[0mexog\u001b[0m\u001b[1;33m,\u001b[0m \u001b[1;33m**\u001b[0m\u001b[0mkwargs\u001b[0m\u001b[1;33m)\u001b[0m\u001b[1;33m:\u001b[0m\u001b[1;33m\u001b[0m\u001b[1;33m\u001b[0m\u001b[0m\n\u001b[1;32m--> 193\u001b[1;33m         \u001b[0msuper\u001b[0m\u001b[1;33m(\u001b[0m\u001b[0mRegressionModel\u001b[0m\u001b[1;33m,\u001b[0m \u001b[0mself\u001b[0m\u001b[1;33m)\u001b[0m\u001b[1;33m.\u001b[0m\u001b[0m__init__\u001b[0m\u001b[1;33m(\u001b[0m\u001b[0mendog\u001b[0m\u001b[1;33m,\u001b[0m \u001b[0mexog\u001b[0m\u001b[1;33m,\u001b[0m \u001b[1;33m**\u001b[0m\u001b[0mkwargs\u001b[0m\u001b[1;33m)\u001b[0m\u001b[1;33m\u001b[0m\u001b[1;33m\u001b[0m\u001b[0m\n\u001b[0m\u001b[0;32m    194\u001b[0m         \u001b[0mself\u001b[0m\u001b[1;33m.\u001b[0m\u001b[0m_data_attr\u001b[0m\u001b[1;33m.\u001b[0m\u001b[0mextend\u001b[0m\u001b[1;33m(\u001b[0m\u001b[1;33m[\u001b[0m\u001b[1;34m'pinv_wexog'\u001b[0m\u001b[1;33m,\u001b[0m \u001b[1;34m'wendog'\u001b[0m\u001b[1;33m,\u001b[0m \u001b[1;34m'wexog'\u001b[0m\u001b[1;33m,\u001b[0m \u001b[1;34m'weights'\u001b[0m\u001b[1;33m]\u001b[0m\u001b[1;33m)\u001b[0m\u001b[1;33m\u001b[0m\u001b[1;33m\u001b[0m\u001b[0m\n\u001b[0;32m    195\u001b[0m \u001b[1;33m\u001b[0m\u001b[0m\n",
      "\u001b[1;32m~\\AppData\\Local\\Packages\\PythonSoftwareFoundation.Python.3.9_qbz5n2kfra8p0\\LocalCache\\local-packages\\Python39\\site-packages\\statsmodels\\base\\model.py\u001b[0m in \u001b[0;36m__init__\u001b[1;34m(self, endog, exog, **kwargs)\u001b[0m\n\u001b[0;32m    265\u001b[0m \u001b[1;33m\u001b[0m\u001b[0m\n\u001b[0;32m    266\u001b[0m     \u001b[1;32mdef\u001b[0m \u001b[0m__init__\u001b[0m\u001b[1;33m(\u001b[0m\u001b[0mself\u001b[0m\u001b[1;33m,\u001b[0m \u001b[0mendog\u001b[0m\u001b[1;33m,\u001b[0m \u001b[0mexog\u001b[0m\u001b[1;33m=\u001b[0m\u001b[1;32mNone\u001b[0m\u001b[1;33m,\u001b[0m \u001b[1;33m**\u001b[0m\u001b[0mkwargs\u001b[0m\u001b[1;33m)\u001b[0m\u001b[1;33m:\u001b[0m\u001b[1;33m\u001b[0m\u001b[1;33m\u001b[0m\u001b[0m\n\u001b[1;32m--> 267\u001b[1;33m         \u001b[0msuper\u001b[0m\u001b[1;33m(\u001b[0m\u001b[1;33m)\u001b[0m\u001b[1;33m.\u001b[0m\u001b[0m__init__\u001b[0m\u001b[1;33m(\u001b[0m\u001b[0mendog\u001b[0m\u001b[1;33m,\u001b[0m \u001b[0mexog\u001b[0m\u001b[1;33m,\u001b[0m \u001b[1;33m**\u001b[0m\u001b[0mkwargs\u001b[0m\u001b[1;33m)\u001b[0m\u001b[1;33m\u001b[0m\u001b[1;33m\u001b[0m\u001b[0m\n\u001b[0m\u001b[0;32m    268\u001b[0m         \u001b[0mself\u001b[0m\u001b[1;33m.\u001b[0m\u001b[0minitialize\u001b[0m\u001b[1;33m(\u001b[0m\u001b[1;33m)\u001b[0m\u001b[1;33m\u001b[0m\u001b[1;33m\u001b[0m\u001b[0m\n\u001b[0;32m    269\u001b[0m \u001b[1;33m\u001b[0m\u001b[0m\n",
      "\u001b[1;32m~\\AppData\\Local\\Packages\\PythonSoftwareFoundation.Python.3.9_qbz5n2kfra8p0\\LocalCache\\local-packages\\Python39\\site-packages\\statsmodels\\base\\model.py\u001b[0m in \u001b[0;36m__init__\u001b[1;34m(self, endog, exog, **kwargs)\u001b[0m\n\u001b[0;32m     90\u001b[0m         \u001b[0mmissing\u001b[0m \u001b[1;33m=\u001b[0m \u001b[0mkwargs\u001b[0m\u001b[1;33m.\u001b[0m\u001b[0mpop\u001b[0m\u001b[1;33m(\u001b[0m\u001b[1;34m'missing'\u001b[0m\u001b[1;33m,\u001b[0m \u001b[1;34m'none'\u001b[0m\u001b[1;33m)\u001b[0m\u001b[1;33m\u001b[0m\u001b[1;33m\u001b[0m\u001b[0m\n\u001b[0;32m     91\u001b[0m         \u001b[0mhasconst\u001b[0m \u001b[1;33m=\u001b[0m \u001b[0mkwargs\u001b[0m\u001b[1;33m.\u001b[0m\u001b[0mpop\u001b[0m\u001b[1;33m(\u001b[0m\u001b[1;34m'hasconst'\u001b[0m\u001b[1;33m,\u001b[0m \u001b[1;32mNone\u001b[0m\u001b[1;33m)\u001b[0m\u001b[1;33m\u001b[0m\u001b[1;33m\u001b[0m\u001b[0m\n\u001b[1;32m---> 92\u001b[1;33m         self.data = self._handle_data(endog, exog, missing, hasconst,\n\u001b[0m\u001b[0;32m     93\u001b[0m                                       **kwargs)\n\u001b[0;32m     94\u001b[0m         \u001b[0mself\u001b[0m\u001b[1;33m.\u001b[0m\u001b[0mk_constant\u001b[0m \u001b[1;33m=\u001b[0m \u001b[0mself\u001b[0m\u001b[1;33m.\u001b[0m\u001b[0mdata\u001b[0m\u001b[1;33m.\u001b[0m\u001b[0mk_constant\u001b[0m\u001b[1;33m\u001b[0m\u001b[1;33m\u001b[0m\u001b[0m\n",
      "\u001b[1;32m~\\AppData\\Local\\Packages\\PythonSoftwareFoundation.Python.3.9_qbz5n2kfra8p0\\LocalCache\\local-packages\\Python39\\site-packages\\statsmodels\\base\\model.py\u001b[0m in \u001b[0;36m_handle_data\u001b[1;34m(self, endog, exog, missing, hasconst, **kwargs)\u001b[0m\n\u001b[0;32m    130\u001b[0m \u001b[1;33m\u001b[0m\u001b[0m\n\u001b[0;32m    131\u001b[0m     \u001b[1;32mdef\u001b[0m \u001b[0m_handle_data\u001b[0m\u001b[1;33m(\u001b[0m\u001b[0mself\u001b[0m\u001b[1;33m,\u001b[0m \u001b[0mendog\u001b[0m\u001b[1;33m,\u001b[0m \u001b[0mexog\u001b[0m\u001b[1;33m,\u001b[0m \u001b[0mmissing\u001b[0m\u001b[1;33m,\u001b[0m \u001b[0mhasconst\u001b[0m\u001b[1;33m,\u001b[0m \u001b[1;33m**\u001b[0m\u001b[0mkwargs\u001b[0m\u001b[1;33m)\u001b[0m\u001b[1;33m:\u001b[0m\u001b[1;33m\u001b[0m\u001b[1;33m\u001b[0m\u001b[0m\n\u001b[1;32m--> 132\u001b[1;33m         \u001b[0mdata\u001b[0m \u001b[1;33m=\u001b[0m \u001b[0mhandle_data\u001b[0m\u001b[1;33m(\u001b[0m\u001b[0mendog\u001b[0m\u001b[1;33m,\u001b[0m \u001b[0mexog\u001b[0m\u001b[1;33m,\u001b[0m \u001b[0mmissing\u001b[0m\u001b[1;33m,\u001b[0m \u001b[0mhasconst\u001b[0m\u001b[1;33m,\u001b[0m \u001b[1;33m**\u001b[0m\u001b[0mkwargs\u001b[0m\u001b[1;33m)\u001b[0m\u001b[1;33m\u001b[0m\u001b[1;33m\u001b[0m\u001b[0m\n\u001b[0m\u001b[0;32m    133\u001b[0m         \u001b[1;31m# kwargs arrays could have changed, easier to just attach here\u001b[0m\u001b[1;33m\u001b[0m\u001b[1;33m\u001b[0m\u001b[0m\n\u001b[0;32m    134\u001b[0m         \u001b[1;32mfor\u001b[0m \u001b[0mkey\u001b[0m \u001b[1;32min\u001b[0m \u001b[0mkwargs\u001b[0m\u001b[1;33m:\u001b[0m\u001b[1;33m\u001b[0m\u001b[1;33m\u001b[0m\u001b[0m\n",
      "\u001b[1;32m~\\AppData\\Local\\Packages\\PythonSoftwareFoundation.Python.3.9_qbz5n2kfra8p0\\LocalCache\\local-packages\\Python39\\site-packages\\statsmodels\\base\\data.py\u001b[0m in \u001b[0;36mhandle_data\u001b[1;34m(endog, exog, missing, hasconst, **kwargs)\u001b[0m\n\u001b[0;32m    671\u001b[0m \u001b[1;33m\u001b[0m\u001b[0m\n\u001b[0;32m    672\u001b[0m     \u001b[0mklass\u001b[0m \u001b[1;33m=\u001b[0m \u001b[0mhandle_data_class_factory\u001b[0m\u001b[1;33m(\u001b[0m\u001b[0mendog\u001b[0m\u001b[1;33m,\u001b[0m \u001b[0mexog\u001b[0m\u001b[1;33m)\u001b[0m\u001b[1;33m\u001b[0m\u001b[1;33m\u001b[0m\u001b[0m\n\u001b[1;32m--> 673\u001b[1;33m     return klass(endog, exog=exog, missing=missing, hasconst=hasconst,\n\u001b[0m\u001b[0;32m    674\u001b[0m                  **kwargs)\n",
      "\u001b[1;32m~\\AppData\\Local\\Packages\\PythonSoftwareFoundation.Python.3.9_qbz5n2kfra8p0\\LocalCache\\local-packages\\Python39\\site-packages\\statsmodels\\base\\data.py\u001b[0m in \u001b[0;36m__init__\u001b[1;34m(self, endog, exog, missing, hasconst, **kwargs)\u001b[0m\n\u001b[0;32m     84\u001b[0m         \u001b[0mself\u001b[0m\u001b[1;33m.\u001b[0m\u001b[0mconst_idx\u001b[0m \u001b[1;33m=\u001b[0m \u001b[1;32mNone\u001b[0m\u001b[1;33m\u001b[0m\u001b[1;33m\u001b[0m\u001b[0m\n\u001b[0;32m     85\u001b[0m         \u001b[0mself\u001b[0m\u001b[1;33m.\u001b[0m\u001b[0mk_constant\u001b[0m \u001b[1;33m=\u001b[0m \u001b[1;36m0\u001b[0m\u001b[1;33m\u001b[0m\u001b[1;33m\u001b[0m\u001b[0m\n\u001b[1;32m---> 86\u001b[1;33m         \u001b[0mself\u001b[0m\u001b[1;33m.\u001b[0m\u001b[0m_handle_constant\u001b[0m\u001b[1;33m(\u001b[0m\u001b[0mhasconst\u001b[0m\u001b[1;33m)\u001b[0m\u001b[1;33m\u001b[0m\u001b[1;33m\u001b[0m\u001b[0m\n\u001b[0m\u001b[0;32m     87\u001b[0m         \u001b[0mself\u001b[0m\u001b[1;33m.\u001b[0m\u001b[0m_check_integrity\u001b[0m\u001b[1;33m(\u001b[0m\u001b[1;33m)\u001b[0m\u001b[1;33m\u001b[0m\u001b[1;33m\u001b[0m\u001b[0m\n\u001b[0;32m     88\u001b[0m         \u001b[0mself\u001b[0m\u001b[1;33m.\u001b[0m\u001b[0m_cache\u001b[0m \u001b[1;33m=\u001b[0m \u001b[1;33m{\u001b[0m\u001b[1;33m}\u001b[0m\u001b[1;33m\u001b[0m\u001b[1;33m\u001b[0m\u001b[0m\n",
      "\u001b[1;32m~\\AppData\\Local\\Packages\\PythonSoftwareFoundation.Python.3.9_qbz5n2kfra8p0\\LocalCache\\local-packages\\Python39\\site-packages\\statsmodels\\base\\data.py\u001b[0m in \u001b[0;36m_handle_constant\u001b[1;34m(self, hasconst)\u001b[0m\n\u001b[0;32m    128\u001b[0m             \u001b[1;31m# detect where the constant is\u001b[0m\u001b[1;33m\u001b[0m\u001b[1;33m\u001b[0m\u001b[0m\n\u001b[0;32m    129\u001b[0m             \u001b[0mcheck_implicit\u001b[0m \u001b[1;33m=\u001b[0m \u001b[1;32mFalse\u001b[0m\u001b[1;33m\u001b[0m\u001b[1;33m\u001b[0m\u001b[0m\n\u001b[1;32m--> 130\u001b[1;33m             \u001b[0mexog_max\u001b[0m \u001b[1;33m=\u001b[0m \u001b[0mnp\u001b[0m\u001b[1;33m.\u001b[0m\u001b[0mmax\u001b[0m\u001b[1;33m(\u001b[0m\u001b[0mself\u001b[0m\u001b[1;33m.\u001b[0m\u001b[0mexog\u001b[0m\u001b[1;33m,\u001b[0m \u001b[0maxis\u001b[0m\u001b[1;33m=\u001b[0m\u001b[1;36m0\u001b[0m\u001b[1;33m)\u001b[0m\u001b[1;33m\u001b[0m\u001b[1;33m\u001b[0m\u001b[0m\n\u001b[0m\u001b[0;32m    131\u001b[0m             \u001b[1;32mif\u001b[0m \u001b[1;32mnot\u001b[0m \u001b[0mnp\u001b[0m\u001b[1;33m.\u001b[0m\u001b[0misfinite\u001b[0m\u001b[1;33m(\u001b[0m\u001b[0mexog_max\u001b[0m\u001b[1;33m)\u001b[0m\u001b[1;33m.\u001b[0m\u001b[0mall\u001b[0m\u001b[1;33m(\u001b[0m\u001b[1;33m)\u001b[0m\u001b[1;33m:\u001b[0m\u001b[1;33m\u001b[0m\u001b[1;33m\u001b[0m\u001b[0m\n\u001b[0;32m    132\u001b[0m                 \u001b[1;32mraise\u001b[0m \u001b[0mMissingDataError\u001b[0m\u001b[1;33m(\u001b[0m\u001b[1;34m'exog contains inf or nans'\u001b[0m\u001b[1;33m)\u001b[0m\u001b[1;33m\u001b[0m\u001b[1;33m\u001b[0m\u001b[0m\n",
      "\u001b[1;32m<__array_function__ internals>\u001b[0m in \u001b[0;36mamax\u001b[1;34m(*args, **kwargs)\u001b[0m\n",
      "\u001b[1;32m~\\AppData\\Local\\Packages\\PythonSoftwareFoundation.Python.3.9_qbz5n2kfra8p0\\LocalCache\\local-packages\\Python39\\site-packages\\numpy\\core\\fromnumeric.py\u001b[0m in \u001b[0;36mamax\u001b[1;34m(a, axis, out, keepdims, initial, where)\u001b[0m\n\u001b[0;32m   2752\u001b[0m     \u001b[1;36m5\u001b[0m\u001b[1;33m\u001b[0m\u001b[1;33m\u001b[0m\u001b[0m\n\u001b[0;32m   2753\u001b[0m     \"\"\"\n\u001b[1;32m-> 2754\u001b[1;33m     return _wrapreduction(a, np.maximum, 'max', axis, None, out,\n\u001b[0m\u001b[0;32m   2755\u001b[0m                           keepdims=keepdims, initial=initial, where=where)\n\u001b[0;32m   2756\u001b[0m \u001b[1;33m\u001b[0m\u001b[0m\n",
      "\u001b[1;32m~\\AppData\\Local\\Packages\\PythonSoftwareFoundation.Python.3.9_qbz5n2kfra8p0\\LocalCache\\local-packages\\Python39\\site-packages\\numpy\\core\\fromnumeric.py\u001b[0m in \u001b[0;36m_wrapreduction\u001b[1;34m(obj, ufunc, method, axis, dtype, out, **kwargs)\u001b[0m\n\u001b[0;32m     84\u001b[0m                 \u001b[1;32mreturn\u001b[0m \u001b[0mreduction\u001b[0m\u001b[1;33m(\u001b[0m\u001b[0maxis\u001b[0m\u001b[1;33m=\u001b[0m\u001b[0maxis\u001b[0m\u001b[1;33m,\u001b[0m \u001b[0mout\u001b[0m\u001b[1;33m=\u001b[0m\u001b[0mout\u001b[0m\u001b[1;33m,\u001b[0m \u001b[1;33m**\u001b[0m\u001b[0mpasskwargs\u001b[0m\u001b[1;33m)\u001b[0m\u001b[1;33m\u001b[0m\u001b[1;33m\u001b[0m\u001b[0m\n\u001b[0;32m     85\u001b[0m \u001b[1;33m\u001b[0m\u001b[0m\n\u001b[1;32m---> 86\u001b[1;33m     \u001b[1;32mreturn\u001b[0m \u001b[0mufunc\u001b[0m\u001b[1;33m.\u001b[0m\u001b[0mreduce\u001b[0m\u001b[1;33m(\u001b[0m\u001b[0mobj\u001b[0m\u001b[1;33m,\u001b[0m \u001b[0maxis\u001b[0m\u001b[1;33m,\u001b[0m \u001b[0mdtype\u001b[0m\u001b[1;33m,\u001b[0m \u001b[0mout\u001b[0m\u001b[1;33m,\u001b[0m \u001b[1;33m**\u001b[0m\u001b[0mpasskwargs\u001b[0m\u001b[1;33m)\u001b[0m\u001b[1;33m\u001b[0m\u001b[1;33m\u001b[0m\u001b[0m\n\u001b[0m\u001b[0;32m     87\u001b[0m \u001b[1;33m\u001b[0m\u001b[0m\n\u001b[0;32m     88\u001b[0m \u001b[1;33m\u001b[0m\u001b[0m\n",
      "\u001b[1;31mValueError\u001b[0m: zero-size array to reduction operation maximum which has no identity"
     ]
    }
   ],
   "source": [
    "df_supervised = df_diff.drop(['prev_CNT'],axis=1)\n",
    "\n",
    "#adding lags\n",
    "for idx in range(1, 10):\n",
    "    lagNum = idx * 10 + 1\n",
    "    cols = 'diff~'\n",
    "    for inc in range(1,lagNum):\n",
    "        field_name = 'lag_' + str(inc)\n",
    "        df_supervised[field_name] = df_supervised['diff'].shift(inc)\n",
    "        if(inc == lagNum -1):\n",
    "            cols = cols + field_name\n",
    "        else:    \n",
    "            cols = cols + field_name + '+'\n",
    "    #drop null values\n",
    "    df_supervised = df_supervised.dropna().reset_index(drop=True)    \n",
    "    val = fn_regression_adj_rsq(cols)\n",
    "    print(str(idx) + ' ' + str(val))    "
   ]
  },
  {
   "cell_type": "code",
   "execution_count": 347,
   "metadata": {},
   "outputs": [],
   "source": [
    "#create dataframe for transformation from time series to supervised\n",
    "df_supervised = df_diff.drop(['prev_CNT'],axis=1)\n",
    "#adding lags\n",
    "for inc in range(1,3):\n",
    "    field_name = 'lag_' + str(inc)\n",
    "    df_supervised[field_name] = df_supervised['diff'].shift(inc)\n",
    "#drop null values\n",
    "df_supervised = df_supervised.dropna().reset_index(drop=True)"
   ]
  },
  {
   "cell_type": "code",
   "execution_count": 349,
   "metadata": {},
   "outputs": [
    {
     "name": "stdout",
     "output_type": "stream",
     "text": [
      "<class 'pandas.core.frame.DataFrame'>\n",
      "RangeIndex: 253 entries, 0 to 252\n",
      "Data columns (total 5 columns):\n",
      " #   Column   Non-Null Count  Dtype         \n",
      "---  ------   --------------  -----         \n",
      " 0   RQST_DT  253 non-null    datetime64[ns]\n",
      " 1   CNT      253 non-null    int64         \n",
      " 2   diff     253 non-null    float64       \n",
      " 3   lag_1    253 non-null    float64       \n",
      " 4   lag_2    253 non-null    float64       \n",
      "dtypes: datetime64[ns](1), float64(3), int64(1)\n",
      "memory usage: 10.0 KB\n"
     ]
    }
   ],
   "source": [
    "df_supervised.info()"
   ]
  },
  {
   "cell_type": "code",
   "execution_count": 350,
   "metadata": {},
   "outputs": [
    {
     "name": "stdout",
     "output_type": "stream",
     "text": [
      "<class 'numpy.ndarray'>\n",
      "          CNT      diff     lag_1     lag_2\n",
      "0    0.147059  0.372093  0.651163  0.534884\n",
      "1    0.147059  0.488372  0.372093  0.651163\n",
      "2    0.000000  0.372093  0.488372  0.372093\n",
      "3    0.117647  0.581395  0.372093  0.488372\n",
      "4    0.117647  0.488372  0.581395  0.372093\n",
      "..        ...       ...       ...       ...\n",
      "248  0.029412  0.302326  0.581395  0.441860\n",
      "249  0.147059  0.581395  0.302326  0.581395\n",
      "250  0.058824  0.418605  0.581395  0.302326\n",
      "251  0.117647  0.534884  0.418605  0.581395\n",
      "252  0.058824  0.441860  0.534884  0.418605\n",
      "\n",
      "[253 rows x 4 columns]\n"
     ]
    }
   ],
   "source": [
    "from sklearn.preprocessing import MinMaxScaler\n",
    "\n",
    "scaler = MinMaxScaler()\n",
    "\n",
    "# 날짜를 제외한 컬럼 가져오기\n",
    "scale_cols = df_supervised.columns.values.tolist()[1:]\n",
    "\n",
    "# 정규화 수행\n",
    "scaled_df = scaler.fit_transform(df_supervised[scale_cols]) \n",
    "\n",
    "# numpy 리턴\n",
    "print(type(scaled_df))\n",
    "\n",
    "# 정규화된 데이터 프레임 생성\n",
    "scaled_df = pd.DataFrame(scaled_df, columns=scale_cols)\n",
    "print(scaled_df)\n"
   ]
  },
  {
   "cell_type": "code",
   "execution_count": 351,
   "metadata": {},
   "outputs": [
    {
     "data": {
      "text/plain": [
       "['diff', 'lag_1', 'lag_2']"
      ]
     },
     "execution_count": 351,
     "metadata": {},
     "output_type": "execute_result"
    }
   ],
   "source": [
    "\n",
    "df_supervised.columns.values.tolist()[2:]"
   ]
  },
  {
   "cell_type": "code",
   "execution_count": 352,
   "metadata": {},
   "outputs": [
    {
     "name": "stdout",
     "output_type": "stream",
     "text": [
      "         diff     lag_1     lag_2\n",
      "0    0.372093  0.651163  0.534884\n",
      "1    0.488372  0.372093  0.651163\n",
      "2    0.372093  0.488372  0.372093\n",
      "3    0.581395  0.372093  0.488372\n",
      "4    0.488372  0.581395  0.372093\n",
      "..        ...       ...       ...\n",
      "248  0.302326  0.581395  0.441860\n",
      "249  0.581395  0.302326  0.581395\n",
      "250  0.418605  0.581395  0.302326\n",
      "251  0.534884  0.418605  0.581395\n",
      "252  0.441860  0.534884  0.418605\n",
      "\n",
      "[253 rows x 3 columns]           CNT\n",
      "0    0.147059\n",
      "1    0.147059\n",
      "2    0.000000\n",
      "3    0.117647\n",
      "4    0.117647\n",
      "..        ...\n",
      "248  0.029412\n",
      "249  0.147059\n",
      "250  0.058824\n",
      "251  0.117647\n",
      "252  0.058824\n",
      "\n",
      "[253 rows x 1 columns]\n"
     ]
    }
   ],
   "source": [
    "# 입력데이터\n",
    "feature_cols = df_supervised.columns.values.tolist()[2:]\n",
    "## 정답데이터\n",
    "label_cols = ['CNT']  \n",
    "\n",
    "feature_df = pd.DataFrame(scaled_df, columns=feature_cols)\n",
    "label_df = pd.DataFrame(scaled_df, columns=label_cols)\n",
    "\n",
    "print(feature_df, label_df)"
   ]
  },
  {
   "cell_type": "code",
   "execution_count": 353,
   "metadata": {},
   "outputs": [
    {
     "name": "stdout",
     "output_type": "stream",
     "text": [
      "(253, 3) (253, 1)\n"
     ]
    }
   ],
   "source": [
    "# 딥러닝 학습을 위한 넘파이로 변환\n",
    "feature_np = feature_df.to_numpy()\n",
    "label_np = label_df.to_numpy()\n",
    "\n",
    "print(feature_np.shape, label_np.shape)"
   ]
  },
  {
   "cell_type": "code",
   "execution_count": 354,
   "metadata": {},
   "outputs": [],
   "source": [
    "def make_sequence_dataset(feature, label, window_size):\n",
    "    \n",
    "    feature_list = [] \n",
    "    label_list = []\n",
    "    \n",
    "    for i in range(len(feature) - window_size):\n",
    "        \n",
    "        feature_list.append(feature[i:i+window_size])\n",
    "        label_list.append(label[i+window_size])\n",
    "           #3차원 텐서 변환 \n",
    "    return np.array(feature_list), np.array(label_list)"
   ]
  },
  {
   "cell_type": "code",
   "execution_count": 355,
   "metadata": {},
   "outputs": [
    {
     "name": "stdout",
     "output_type": "stream",
     "text": [
      "(223, 30, 3) (223, 1)\n"
     ]
    }
   ],
   "source": [
    "## 시계열 데이터 생성\n",
    "window_size = 30\n",
    "\n",
    "X, Y = make_sequence_dataset(feature_np, label_np, window_size)\n",
    "\n",
    "print(X.shape, Y.shape)"
   ]
  },
  {
   "cell_type": "code",
   "execution_count": 357,
   "metadata": {},
   "outputs": [
    {
     "name": "stdout",
     "output_type": "stream",
     "text": [
      "(173, 30, 3) (173, 1)\n",
      "(50, 30, 3) (50, 1)\n"
     ]
    }
   ],
   "source": [
    "## 데이터 나누기 \n",
    "split = -50\n",
    "\n",
    "x_train = X[0:split]\n",
    "y_train = Y[0:split]\n",
    "\n",
    "x_test = X[split:]\n",
    "y_test = Y[split:]\n",
    "\n",
    "print(x_train.shape, y_train.shape)\n",
    "print(x_test.shape, y_test.shape)"
   ]
  },
  {
   "cell_type": "code",
   "execution_count": 362,
   "metadata": {},
   "outputs": [
    {
     "name": "stdout",
     "output_type": "stream",
     "text": [
      "Epoch 1/260\n",
      "173/173 [==============================] - 1s 4ms/step - loss: 0.0336\n",
      "Epoch 2/260\n",
      "173/173 [==============================] - 1s 4ms/step - loss: 0.0270\n",
      "Epoch 3/260\n",
      "173/173 [==============================] - 1s 4ms/step - loss: 0.0281\n",
      "Epoch 4/260\n",
      "173/173 [==============================] - 1s 4ms/step - loss: 0.0281\n",
      "Epoch 5/260\n",
      "173/173 [==============================] - 1s 4ms/step - loss: 0.0292\n",
      "Epoch 6/260\n",
      "173/173 [==============================] - 1s 4ms/step - loss: 0.0298\n",
      "Epoch 7/260\n",
      "173/173 [==============================] - 1s 4ms/step - loss: 0.0300\n",
      "Epoch 8/260\n",
      "173/173 [==============================] - 1s 4ms/step - loss: 0.0309\n",
      "Epoch 9/260\n",
      "173/173 [==============================] - 1s 4ms/step - loss: 0.0325\n",
      "Epoch 10/260\n",
      "173/173 [==============================] - 1s 4ms/step - loss: 0.0327\n",
      "Epoch 11/260\n",
      "173/173 [==============================] - 1s 4ms/step - loss: 0.0330\n",
      "Epoch 12/260\n",
      "173/173 [==============================] - 1s 4ms/step - loss: 0.0331\n",
      "Epoch 13/260\n",
      "173/173 [==============================] - 1s 4ms/step - loss: 0.0328\n",
      "Epoch 14/260\n",
      "173/173 [==============================] - 1s 4ms/step - loss: 0.0323\n",
      "Epoch 15/260\n",
      "173/173 [==============================] - 1s 4ms/step - loss: 0.0322\n",
      "Epoch 16/260\n",
      "173/173 [==============================] - 1s 4ms/step - loss: 0.0330\n",
      "Epoch 17/260\n",
      "173/173 [==============================] - 1s 4ms/step - loss: 0.0333\n",
      "Epoch 18/260\n",
      "173/173 [==============================] - 1s 4ms/step - loss: 0.0330\n",
      "Epoch 19/260\n",
      "173/173 [==============================] - 1s 4ms/step - loss: 0.0331\n",
      "Epoch 20/260\n",
      "173/173 [==============================] - 1s 4ms/step - loss: 0.0334\n",
      "Epoch 21/260\n",
      "173/173 [==============================] - 1s 4ms/step - loss: 0.0334\n",
      "Epoch 22/260\n",
      "173/173 [==============================] - 1s 4ms/step - loss: 0.0334\n",
      "Epoch 23/260\n",
      "173/173 [==============================] - 1s 4ms/step - loss: 0.0330\n",
      "Epoch 24/260\n",
      "173/173 [==============================] - 1s 4ms/step - loss: 0.0326\n",
      "Epoch 25/260\n",
      "173/173 [==============================] - 1s 4ms/step - loss: 0.0336\n",
      "Epoch 26/260\n",
      "173/173 [==============================] - 1s 4ms/step - loss: 0.0335\n",
      "Epoch 27/260\n",
      "173/173 [==============================] - 1s 4ms/step - loss: 0.0333\n",
      "Epoch 28/260\n",
      "173/173 [==============================] - 1s 4ms/step - loss: 0.0334\n",
      "Epoch 29/260\n",
      "173/173 [==============================] - 1s 4ms/step - loss: 0.0336\n",
      "Epoch 30/260\n",
      "173/173 [==============================] - 1s 4ms/step - loss: 0.0334A: 0s - l\n",
      "Epoch 31/260\n",
      "173/173 [==============================] - 1s 4ms/step - loss: 0.0333\n",
      "Epoch 32/260\n",
      "173/173 [==============================] - 1s 4ms/step - loss: 0.0334\n",
      "Epoch 33/260\n",
      "173/173 [==============================] - 1s 4ms/step - loss: 0.0335\n",
      "Epoch 34/260\n",
      "173/173 [==============================] - 1s 4ms/step - loss: 0.0334\n",
      "Epoch 35/260\n",
      "173/173 [==============================] - 1s 4ms/step - loss: 0.0333\n",
      "Epoch 36/260\n",
      "173/173 [==============================] - 1s 4ms/step - loss: 0.0333\n",
      "Epoch 37/260\n",
      "173/173 [==============================] - 1s 4ms/step - loss: 0.0332\n",
      "Epoch 38/260\n",
      "173/173 [==============================] - 1s 4ms/step - loss: 0.0332\n",
      "Epoch 39/260\n",
      "173/173 [==============================] - 1s 4ms/step - loss: 0.0333\n",
      "Epoch 40/260\n",
      "173/173 [==============================] - 1s 4ms/step - loss: 0.0332\n",
      "Epoch 41/260\n",
      "173/173 [==============================] - 1s 4ms/step - loss: 0.0331\n",
      "Epoch 42/260\n",
      "173/173 [==============================] - 1s 4ms/step - loss: 0.0330\n",
      "Epoch 43/260\n",
      "173/173 [==============================] - 1s 4ms/step - loss: 0.0331\n",
      "Epoch 44/260\n",
      "173/173 [==============================] - 1s 4ms/step - loss: 0.0329\n",
      "Epoch 45/260\n",
      "173/173 [==============================] - 1s 4ms/step - loss: 0.0329\n",
      "Epoch 46/260\n",
      "173/173 [==============================] - 1s 4ms/step - loss: 0.0327\n",
      "Epoch 47/260\n",
      "173/173 [==============================] - 1s 4ms/step - loss: 0.0327\n",
      "Epoch 48/260\n",
      "173/173 [==============================] - 1s 4ms/step - loss: 0.0324\n",
      "Epoch 49/260\n",
      "173/173 [==============================] - 1s 4ms/step - loss: 0.0321\n",
      "Epoch 50/260\n",
      "173/173 [==============================] - 1s 4ms/step - loss: 0.0317\n",
      "Epoch 51/260\n",
      "173/173 [==============================] - 1s 4ms/step - loss: 0.0314\n",
      "Epoch 52/260\n",
      "173/173 [==============================] - 1s 4ms/step - loss: 0.0311\n",
      "Epoch 53/260\n",
      "173/173 [==============================] - 1s 4ms/step - loss: 0.0308\n",
      "Epoch 54/260\n",
      "173/173 [==============================] - 1s 4ms/step - loss: 0.0304A: 0s - loss: 0.03\n",
      "Epoch 55/260\n",
      "173/173 [==============================] - 1s 4ms/step - loss: 0.0300\n",
      "Epoch 56/260\n",
      "173/173 [==============================] - 1s 4ms/step - loss: 0.0297\n",
      "Epoch 57/260\n",
      "173/173 [==============================] - 1s 4ms/step - loss: 0.0293\n",
      "Epoch 58/260\n",
      "173/173 [==============================] - 1s 4ms/step - loss: 0.0290\n",
      "Epoch 59/260\n",
      "173/173 [==============================] - 1s 4ms/step - loss: 0.0287\n",
      "Epoch 60/260\n",
      "173/173 [==============================] - 1s 4ms/step - loss: 0.0284\n",
      "Epoch 61/260\n",
      "173/173 [==============================] - 1s 4ms/step - loss: 0.0280\n",
      "Epoch 62/260\n",
      "173/173 [==============================] - 1s 4ms/step - loss: 0.0277\n",
      "Epoch 63/260\n",
      "173/173 [==============================] - 1s 4ms/step - loss: 0.0274\n",
      "Epoch 64/260\n",
      "173/173 [==============================] - 1s 4ms/step - loss: 0.0270\n",
      "Epoch 65/260\n",
      "173/173 [==============================] - 1s 4ms/step - loss: 0.0267\n",
      "Epoch 66/260\n",
      "173/173 [==============================] - 1s 4ms/step - loss: 0.0263\n",
      "Epoch 67/260\n",
      "173/173 [==============================] - 1s 4ms/step - loss: 0.0259A: 0s - lo\n",
      "Epoch 68/260\n",
      "173/173 [==============================] - 1s 4ms/step - loss: 0.0255\n",
      "Epoch 69/260\n",
      "173/173 [==============================] - 1s 4ms/step - loss: 0.0251\n",
      "Epoch 70/260\n",
      "173/173 [==============================] - 1s 4ms/step - loss: 0.0247\n",
      "Epoch 71/260\n",
      "173/173 [==============================] - 1s 4ms/step - loss: 0.0244\n",
      "Epoch 72/260\n",
      "173/173 [==============================] - 1s 4ms/step - loss: 0.0240\n",
      "Epoch 73/260\n",
      "173/173 [==============================] - 1s 4ms/step - loss: 0.0237\n",
      "Epoch 74/260\n",
      "173/173 [==============================] - 1s 4ms/step - loss: 0.0233\n",
      "Epoch 75/260\n",
      "173/173 [==============================] - 1s 4ms/step - loss: 0.0229\n",
      "Epoch 76/260\n",
      "173/173 [==============================] - 1s 4ms/step - loss: 0.0226\n",
      "Epoch 77/260\n",
      "173/173 [==============================] - 1s 4ms/step - loss: 0.0223\n",
      "Epoch 78/260\n",
      "173/173 [==============================] - 1s 4ms/step - loss: 0.0221\n",
      "Epoch 79/260\n",
      "173/173 [==============================] - 1s 4ms/step - loss: 0.0219\n",
      "Epoch 80/260\n",
      "173/173 [==============================] - 1s 4ms/step - loss: 0.0217\n",
      "Epoch 81/260\n",
      "173/173 [==============================] - 1s 4ms/step - loss: 0.0215\n",
      "Epoch 82/260\n",
      "173/173 [==============================] - 1s 4ms/step - loss: 0.0214\n",
      "Epoch 83/260\n",
      "173/173 [==============================] - 1s 4ms/step - loss: 0.0208\n",
      "Epoch 84/260\n",
      "173/173 [==============================] - 1s 4ms/step - loss: 0.0213\n",
      "Epoch 85/260\n",
      "173/173 [==============================] - 1s 4ms/step - loss: 0.0213\n",
      "Epoch 86/260\n",
      "173/173 [==============================] - 1s 4ms/step - loss: 0.0213\n",
      "Epoch 87/260\n",
      "173/173 [==============================] - 1s 4ms/step - loss: 0.0212\n",
      "Epoch 88/260\n",
      "173/173 [==============================] - 1s 4ms/step - loss: 0.0205\n",
      "Epoch 89/260\n",
      "173/173 [==============================] - 1s 4ms/step - loss: 0.0198\n",
      "Epoch 90/260\n",
      "173/173 [==============================] - 1s 4ms/step - loss: 0.0197\n",
      "Epoch 91/260\n",
      "173/173 [==============================] - 1s 4ms/step - loss: 0.0201\n",
      "Epoch 92/260\n",
      "173/173 [==============================] - 1s 4ms/step - loss: 0.0194\n",
      "Epoch 93/260\n",
      "173/173 [==============================] - 1s 4ms/step - loss: 0.0194\n",
      "Epoch 94/260\n",
      "173/173 [==============================] - 1s 4ms/step - loss: 0.0193\n",
      "Epoch 95/260\n",
      "173/173 [==============================] - 1s 4ms/step - loss: 0.0191\n",
      "Epoch 96/260\n",
      "173/173 [==============================] - 1s 4ms/step - loss: 0.0189\n",
      "Epoch 97/260\n",
      "173/173 [==============================] - 1s 4ms/step - loss: 0.0190\n",
      "Epoch 98/260\n",
      "173/173 [==============================] - 1s 4ms/step - loss: 0.0211\n",
      "Epoch 99/260\n",
      "173/173 [==============================] - 1s 4ms/step - loss: 0.0208\n",
      "Epoch 100/260\n",
      "173/173 [==============================] - 1s 4ms/step - loss: 0.0185\n",
      "Epoch 101/260\n",
      "173/173 [==============================] - 1s 4ms/step - loss: 0.0183\n",
      "Epoch 102/260\n",
      "173/173 [==============================] - 1s 4ms/step - loss: 0.0177\n",
      "Epoch 103/260\n",
      "173/173 [==============================] - 1s 4ms/step - loss: 0.0174A: 0s - loss: \n",
      "Epoch 104/260\n",
      "173/173 [==============================] - 1s 4ms/step - loss: 0.0175\n",
      "Epoch 105/260\n",
      "173/173 [==============================] - 1s 4ms/step - loss: 0.0190\n",
      "Epoch 106/260\n",
      "173/173 [==============================] - 1s 4ms/step - loss: 0.0187\n",
      "Epoch 107/260\n",
      "173/173 [==============================] - 1s 4ms/step - loss: 0.0174\n",
      "Epoch 108/260\n",
      "173/173 [==============================] - 1s 4ms/step - loss: 0.0169\n",
      "Epoch 109/260\n",
      "173/173 [==============================] - 1s 4ms/step - loss: 0.0162\n",
      "Epoch 110/260\n",
      "173/173 [==============================] - 1s 4ms/step - loss: 0.0193\n",
      "Epoch 111/260\n",
      "173/173 [==============================] - 1s 4ms/step - loss: 0.0191\n",
      "Epoch 112/260\n",
      "173/173 [==============================] - 1s 4ms/step - loss: 0.0165\n",
      "Epoch 113/260\n",
      "173/173 [==============================] - 1s 4ms/step - loss: 0.0158\n",
      "Epoch 114/260\n",
      "173/173 [==============================] - 1s 4ms/step - loss: 0.0188\n",
      "Epoch 115/260\n",
      "173/173 [==============================] - 1s 4ms/step - loss: 0.0200\n",
      "Epoch 116/260\n",
      "173/173 [==============================] - 1s 4ms/step - loss: 0.0159\n",
      "Epoch 117/260\n",
      "173/173 [==============================] - 1s 4ms/step - loss: 0.0150\n",
      "Epoch 118/260\n",
      "173/173 [==============================] - 1s 4ms/step - loss: 0.0158\n",
      "Epoch 119/260\n",
      "173/173 [==============================] - 1s 4ms/step - loss: 0.0152\n",
      "Epoch 120/260\n",
      "173/173 [==============================] - 1s 4ms/step - loss: 0.0141\n",
      "Epoch 121/260\n",
      "173/173 [==============================] - 1s 4ms/step - loss: 0.0158\n",
      "Epoch 122/260\n",
      "173/173 [==============================] - 1s 4ms/step - loss: 0.0175\n",
      "Epoch 123/260\n",
      "173/173 [==============================] - 1s 4ms/step - loss: 0.0158\n",
      "Epoch 124/260\n",
      "173/173 [==============================] - 1s 4ms/step - loss: 0.0162\n",
      "Epoch 125/260\n",
      "173/173 [==============================] - 1s 4ms/step - loss: 0.0130\n",
      "Epoch 126/260\n",
      "173/173 [==============================] - 1s 4ms/step - loss: 0.0127\n",
      "Epoch 127/260\n",
      "173/173 [==============================] - 1s 4ms/step - loss: 0.0119\n",
      "Epoch 128/260\n",
      "173/173 [==============================] - 1s 4ms/step - loss: 0.0116A: 0s - loss: 0.\n",
      "Epoch 129/260\n",
      "173/173 [==============================] - 1s 4ms/step - loss: 0.0115\n",
      "Epoch 130/260\n",
      "173/173 [==============================] - 1s 4ms/step - loss: 0.0111\n",
      "Epoch 131/260\n",
      "173/173 [==============================] - 1s 4ms/step - loss: 0.0114\n",
      "Epoch 132/260\n",
      "173/173 [==============================] - 1s 4ms/step - loss: 0.0117\n",
      "Epoch 133/260\n",
      "173/173 [==============================] - 1s 4ms/step - loss: 0.0132\n",
      "Epoch 134/260\n",
      "173/173 [==============================] - 1s 4ms/step - loss: 0.0109\n",
      "Epoch 135/260\n",
      "173/173 [==============================] - 1s 4ms/step - loss: 0.0103\n",
      "Epoch 136/260\n",
      "173/173 [==============================] - 1s 4ms/step - loss: 0.0107\n",
      "Epoch 137/260\n",
      "173/173 [==============================] - 1s 4ms/step - loss: 0.0105\n",
      "Epoch 138/260\n",
      "173/173 [==============================] - 1s 4ms/step - loss: 0.0119\n",
      "Epoch 139/260\n",
      "173/173 [==============================] - 1s 4ms/step - loss: 0.0125\n",
      "Epoch 140/260\n",
      "173/173 [==============================] - 1s 4ms/step - loss: 0.0116\n",
      "Epoch 141/260\n",
      "173/173 [==============================] - 1s 4ms/step - loss: 0.0102\n",
      "Epoch 142/260\n",
      "173/173 [==============================] - 1s 4ms/step - loss: 0.0098\n",
      "Epoch 143/260\n",
      "173/173 [==============================] - 1s 4ms/step - loss: 0.0102\n",
      "Epoch 144/260\n",
      "173/173 [==============================] - 1s 4ms/step - loss: 0.0099\n",
      "Epoch 145/260\n",
      "173/173 [==============================] - 1s 4ms/step - loss: 0.0097\n",
      "Epoch 146/260\n",
      "173/173 [==============================] - 1s 4ms/step - loss: 0.0096\n",
      "Epoch 147/260\n",
      "173/173 [==============================] - 1s 4ms/step - loss: 0.0096\n",
      "Epoch 148/260\n",
      "173/173 [==============================] - 1s 4ms/step - loss: 0.0096\n",
      "Epoch 149/260\n",
      "173/173 [==============================] - 1s 4ms/step - loss: 0.0124\n",
      "Epoch 150/260\n",
      "173/173 [==============================] - 1s 4ms/step - loss: 0.0164\n",
      "Epoch 151/260\n",
      "173/173 [==============================] - 1s 4ms/step - loss: 0.0105\n",
      "Epoch 152/260\n",
      "173/173 [==============================] - 1s 4ms/step - loss: 0.0103\n",
      "Epoch 153/260\n",
      "173/173 [==============================] - 1s 4ms/step - loss: 0.0099\n",
      "Epoch 154/260\n",
      "173/173 [==============================] - 1s 4ms/step - loss: 0.0093\n",
      "Epoch 155/260\n",
      "173/173 [==============================] - 1s 4ms/step - loss: 0.0088\n",
      "Epoch 156/260\n",
      "173/173 [==============================] - 1s 4ms/step - loss: 0.0092\n",
      "Epoch 157/260\n",
      "173/173 [==============================] - 1s 4ms/step - loss: 0.0092\n",
      "Epoch 158/260\n",
      "173/173 [==============================] - 1s 4ms/step - loss: 0.0095\n",
      "Epoch 159/260\n",
      "173/173 [==============================] - 1s 4ms/step - loss: 0.0105\n",
      "Epoch 160/260\n",
      "173/173 [==============================] - 1s 4ms/step - loss: 0.0107\n",
      "Epoch 161/260\n",
      "173/173 [==============================] - 1s 4ms/step - loss: 0.0102\n",
      "Epoch 162/260\n",
      "173/173 [==============================] - 1s 4ms/step - loss: 0.0090\n",
      "Epoch 163/260\n",
      "173/173 [==============================] - 1s 4ms/step - loss: 0.0084\n",
      "Epoch 164/260\n",
      "173/173 [==============================] - 1s 4ms/step - loss: 0.0080\n",
      "Epoch 165/260\n",
      "173/173 [==============================] - 1s 4ms/step - loss: 0.0080\n",
      "Epoch 166/260\n",
      "173/173 [==============================] - 1s 4ms/step - loss: 0.0086\n",
      "Epoch 167/260\n",
      "173/173 [==============================] - 1s 4ms/step - loss: 0.0085\n",
      "Epoch 168/260\n",
      "173/173 [==============================] - 1s 4ms/step - loss: 0.0086\n",
      "Epoch 169/260\n",
      "173/173 [==============================] - 1s 4ms/step - loss: 0.0087\n",
      "Epoch 170/260\n",
      "173/173 [==============================] - 1s 4ms/step - loss: 0.0083\n",
      "Epoch 171/260\n",
      "173/173 [==============================] - 1s 4ms/step - loss: 0.0076\n",
      "Epoch 172/260\n",
      "173/173 [==============================] - 1s 4ms/step - loss: 0.0078\n",
      "Epoch 173/260\n",
      "173/173 [==============================] - 1s 4ms/step - loss: 0.0075\n",
      "Epoch 174/260\n",
      "173/173 [==============================] - 1s 4ms/step - loss: 0.0083\n",
      "Epoch 175/260\n",
      "173/173 [==============================] - 1s 4ms/step - loss: 0.0087\n",
      "Epoch 176/260\n",
      "173/173 [==============================] - 1s 4ms/step - loss: 0.0187\n",
      "Epoch 177/260\n",
      "173/173 [==============================] - 1s 4ms/step - loss: 0.0120\n",
      "Epoch 178/260\n",
      "173/173 [==============================] - 1s 4ms/step - loss: 0.0120\n",
      "Epoch 179/260\n",
      "173/173 [==============================] - 1s 4ms/step - loss: 0.0101\n",
      "Epoch 180/260\n",
      "173/173 [==============================] - 1s 4ms/step - loss: 0.0114\n",
      "Epoch 181/260\n",
      "173/173 [==============================] - 1s 4ms/step - loss: 0.0112\n",
      "Epoch 182/260\n",
      "173/173 [==============================] - 1s 4ms/step - loss: 0.0086\n",
      "Epoch 183/260\n",
      "173/173 [==============================] - 1s 4ms/step - loss: 0.0077\n",
      "Epoch 184/260\n",
      "173/173 [==============================] - 1s 4ms/step - loss: 0.0073\n",
      "Epoch 185/260\n",
      "173/173 [==============================] - 1s 4ms/step - loss: 0.0072\n",
      "Epoch 186/260\n",
      "173/173 [==============================] - 1s 4ms/step - loss: 0.0069\n",
      "Epoch 187/260\n",
      "173/173 [==============================] - 1s 4ms/step - loss: 0.0073\n",
      "Epoch 188/260\n",
      "173/173 [==============================] - 1s 4ms/step - loss: 0.0075\n",
      "Epoch 189/260\n",
      "173/173 [==============================] - 1s 4ms/step - loss: 0.0072\n",
      "Epoch 190/260\n",
      "173/173 [==============================] - 1s 4ms/step - loss: 0.0071\n",
      "Epoch 191/260\n",
      "173/173 [==============================] - 1s 4ms/step - loss: 0.0071\n",
      "Epoch 192/260\n",
      "173/173 [==============================] - 1s 4ms/step - loss: 0.0071\n",
      "Epoch 193/260\n",
      "173/173 [==============================] - 1s 4ms/step - loss: 0.0076\n",
      "Epoch 194/260\n",
      "173/173 [==============================] - 1s 4ms/step - loss: 0.0069\n",
      "Epoch 195/260\n",
      "173/173 [==============================] - 1s 4ms/step - loss: 0.0090\n",
      "Epoch 196/260\n",
      "173/173 [==============================] - 1s 4ms/step - loss: 0.0089\n",
      "Epoch 197/260\n",
      "173/173 [==============================] - 1s 4ms/step - loss: 0.0079\n",
      "Epoch 198/260\n",
      "173/173 [==============================] - 1s 4ms/step - loss: 0.0080\n",
      "Epoch 199/260\n",
      "173/173 [==============================] - 1s 4ms/step - loss: 0.0085\n",
      "Epoch 200/260\n",
      "173/173 [==============================] - 1s 4ms/step - loss: 0.0073\n",
      "Epoch 201/260\n",
      "173/173 [==============================] - 1s 4ms/step - loss: 0.0094\n",
      "Epoch 202/260\n",
      "173/173 [==============================] - 1s 4ms/step - loss: 0.0111\n",
      "Epoch 203/260\n",
      "173/173 [==============================] - 1s 4ms/step - loss: 0.0081\n",
      "Epoch 204/260\n",
      "173/173 [==============================] - 1s 4ms/step - loss: 0.0078\n",
      "Epoch 205/260\n",
      "173/173 [==============================] - 1s 4ms/step - loss: 0.0112\n",
      "Epoch 206/260\n",
      "173/173 [==============================] - 1s 4ms/step - loss: 0.0118\n",
      "Epoch 207/260\n",
      "173/173 [==============================] - 1s 4ms/step - loss: 0.0078\n",
      "Epoch 208/260\n",
      "173/173 [==============================] - 1s 4ms/step - loss: 0.0071\n",
      "Epoch 209/260\n",
      "173/173 [==============================] - 1s 4ms/step - loss: 0.0063\n",
      "Epoch 210/260\n",
      "173/173 [==============================] - 1s 4ms/step - loss: 0.0063\n",
      "Epoch 211/260\n",
      "173/173 [==============================] - 1s 4ms/step - loss: 0.0063\n",
      "Epoch 212/260\n",
      "173/173 [==============================] - 1s 4ms/step - loss: 0.0064\n",
      "Epoch 213/260\n",
      "173/173 [==============================] - 1s 4ms/step - loss: 0.0062\n",
      "Epoch 214/260\n",
      "173/173 [==============================] - 1s 4ms/step - loss: 0.0058\n",
      "Epoch 215/260\n",
      "173/173 [==============================] - 1s 4ms/step - loss: 0.0070\n",
      "Epoch 216/260\n",
      "173/173 [==============================] - 1s 4ms/step - loss: 0.0069\n",
      "Epoch 217/260\n",
      "173/173 [==============================] - 1s 4ms/step - loss: 0.0065\n",
      "Epoch 218/260\n",
      "173/173 [==============================] - 1s 4ms/step - loss: 0.0080\n",
      "Epoch 219/260\n",
      "173/173 [==============================] - 1s 4ms/step - loss: 0.0076\n",
      "Epoch 220/260\n",
      "173/173 [==============================] - 1s 4ms/step - loss: 0.0065\n",
      "Epoch 221/260\n",
      "173/173 [==============================] - 1s 4ms/step - loss: 0.0059\n",
      "Epoch 222/260\n",
      "173/173 [==============================] - 1s 4ms/step - loss: 0.0058\n",
      "Epoch 223/260\n",
      "173/173 [==============================] - 1s 4ms/step - loss: 0.0054\n",
      "Epoch 224/260\n",
      "173/173 [==============================] - 1s 4ms/step - loss: 0.0057\n",
      "Epoch 225/260\n",
      "173/173 [==============================] - 1s 4ms/step - loss: 0.0070\n",
      "Epoch 226/260\n",
      "173/173 [==============================] - 1s 4ms/step - loss: 0.0078\n",
      "Epoch 227/260\n",
      "173/173 [==============================] - 1s 4ms/step - loss: 0.0068\n",
      "Epoch 228/260\n",
      "173/173 [==============================] - 1s 4ms/step - loss: 0.0064\n",
      "Epoch 229/260\n",
      "173/173 [==============================] - 1s 4ms/step - loss: 0.0065\n",
      "Epoch 230/260\n",
      "173/173 [==============================] - 1s 4ms/step - loss: 0.0060\n",
      "Epoch 231/260\n",
      "173/173 [==============================] - 1s 4ms/step - loss: 0.0064\n",
      "Epoch 232/260\n",
      "173/173 [==============================] - 1s 4ms/step - loss: 0.0087\n",
      "Epoch 233/260\n",
      "173/173 [==============================] - 1s 4ms/step - loss: 0.0075\n",
      "Epoch 234/260\n",
      "173/173 [==============================] - 1s 4ms/step - loss: 0.0085\n",
      "Epoch 235/260\n",
      "173/173 [==============================] - 1s 4ms/step - loss: 0.0062\n",
      "Epoch 236/260\n",
      "173/173 [==============================] - 1s 4ms/step - loss: 0.0065\n",
      "Epoch 237/260\n",
      "173/173 [==============================] - 1s 4ms/step - loss: 0.0067\n",
      "Epoch 238/260\n",
      "173/173 [==============================] - 1s 4ms/step - loss: 0.0071\n",
      "Epoch 239/260\n",
      "173/173 [==============================] - 1s 4ms/step - loss: 0.0065\n",
      "Epoch 240/260\n",
      "173/173 [==============================] - 1s 4ms/step - loss: 0.0062\n",
      "Epoch 241/260\n",
      "173/173 [==============================] - 1s 4ms/step - loss: 0.0065A: 0s - loss: 0.0\n",
      "Epoch 242/260\n",
      "173/173 [==============================] - 1s 4ms/step - loss: 0.0062\n",
      "Epoch 243/260\n",
      "173/173 [==============================] - 1s 4ms/step - loss: 0.0064\n",
      "Epoch 244/260\n",
      "173/173 [==============================] - 1s 4ms/step - loss: 0.0063\n",
      "Epoch 245/260\n",
      "173/173 [==============================] - 1s 4ms/step - loss: 0.0064\n",
      "Epoch 246/260\n",
      "173/173 [==============================] - 1s 4ms/step - loss: 0.0063\n",
      "Epoch 247/260\n",
      "173/173 [==============================] - 1s 4ms/step - loss: 0.0049\n",
      "Epoch 248/260\n",
      "173/173 [==============================] - 1s 4ms/step - loss: 0.0049\n",
      "Epoch 249/260\n",
      "173/173 [==============================] - 1s 4ms/step - loss: 0.0049\n",
      "Epoch 250/260\n",
      "173/173 [==============================] - 1s 4ms/step - loss: 0.0049\n",
      "Epoch 251/260\n",
      "173/173 [==============================] - 1s 4ms/step - loss: 0.0082\n",
      "Epoch 252/260\n",
      "173/173 [==============================] - 1s 4ms/step - loss: 0.0074\n",
      "Epoch 253/260\n",
      "173/173 [==============================] - 1s 4ms/step - loss: 0.0068\n",
      "Epoch 254/260\n",
      "173/173 [==============================] - 1s 4ms/step - loss: 0.0056\n",
      "Epoch 255/260\n",
      "173/173 [==============================] - 1s 4ms/step - loss: 0.0057\n",
      "Epoch 256/260\n",
      "173/173 [==============================] - 1s 4ms/step - loss: 0.0047\n",
      "Epoch 257/260\n",
      "173/173 [==============================] - 1s 4ms/step - loss: 0.0046\n",
      "Epoch 258/260\n",
      "173/173 [==============================] - 1s 4ms/step - loss: 0.0051\n",
      "Epoch 259/260\n",
      "173/173 [==============================] - 1s 4ms/step - loss: 0.0045\n",
      "Epoch 260/260\n",
      "173/173 [==============================] - 1s 4ms/step - loss: 0.0045\n"
     ]
    },
    {
     "data": {
      "text/plain": [
       "<keras.callbacks.History at 0x1fa6760d880>"
      ]
     },
     "execution_count": 362,
     "metadata": {},
     "output_type": "execute_result"
    }
   ],
   "source": [
    "model = Sequential()\n",
    "model.add(LSTM(32, batch_input_shape=(1, x_train.shape[1], x_train.shape[2]), stateful=True))\n",
    "model.add(Dense(1))\n",
    "model.compile(loss='mean_squared_error', optimizer='adam')\n",
    "model.fit(x_train, y_train, epochs=260, batch_size=1, verbose=1, shuffle=False)"
   ]
  },
  {
   "cell_type": "code",
   "execution_count": 377,
   "metadata": {},
   "outputs": [
    {
     "data": {
      "text/plain": [
       "array([[0.21886219],\n",
       "       [0.12411024],\n",
       "       [0.1790084 ],\n",
       "       [0.12478296],\n",
       "       [0.12343342],\n",
       "       [0.10175511],\n",
       "       [0.11781973],\n",
       "       [0.10494059],\n",
       "       [0.09281541],\n",
       "       [0.12863001],\n",
       "       [0.12428443],\n",
       "       [0.10904795],\n",
       "       [0.1186343 ],\n",
       "       [0.10385133],\n",
       "       [0.09367266],\n",
       "       [0.1941897 ],\n",
       "       [0.17034122],\n",
       "       [0.09505349],\n",
       "       [0.10863125],\n",
       "       [0.10642923],\n",
       "       [0.1094545 ],\n",
       "       [0.11870056],\n",
       "       [0.10051306],\n",
       "       [0.10490735],\n",
       "       [0.09749824],\n",
       "       [0.10305677],\n",
       "       [0.10444567],\n",
       "       [0.10330112],\n",
       "       [0.10865717],\n",
       "       [0.10846312],\n",
       "       [0.08661886],\n",
       "       [0.10065094],\n",
       "       [0.19665365],\n",
       "       [0.12365881],\n",
       "       [0.14445177],\n",
       "       [0.15349351],\n",
       "       [0.14937188],\n",
       "       [0.15738304],\n",
       "       [0.11338224],\n",
       "       [0.1274128 ],\n",
       "       [0.08359715],\n",
       "       [0.1409535 ],\n",
       "       [0.1741492 ],\n",
       "       [0.12480618],\n",
       "       [0.18495865],\n",
       "       [0.1610378 ],\n",
       "       [0.14363304],\n",
       "       [0.18281585],\n",
       "       [0.22410811],\n",
       "       [0.10170556]], dtype=float32)"
      ]
     },
     "execution_count": 377,
     "metadata": {},
     "output_type": "execute_result"
    }
   ],
   "source": [
    "y_pred = model.predict(x_test,batch_size=1)\n",
    "\n",
    "y_pred"
   ]
  },
  {
   "cell_type": "code",
   "execution_count": 371,
   "metadata": {},
   "outputs": [
    {
     "data": {
      "text/plain": [
       "(50, 1, 1)"
      ]
     },
     "execution_count": 371,
     "metadata": {},
     "output_type": "execute_result"
    }
   ],
   "source": [
    "#reshape y_pred\n",
    "y_pred = y_pred.reshape(y_pred.shape[0], 1, y_pred.shape[1])\n",
    "y_pred.shape\n",
    "\n"
   ]
  }
 ],
 "metadata": {
  "interpreter": {
   "hash": "e26550a99b8cdaeca938eba5dfe93bbe201b1984deb8af224ca0d45a986faa87"
  },
  "kernelspec": {
   "display_name": "Python 3.9.10 64-bit (windows store)",
   "language": "python",
   "name": "python3"
  },
  "language_info": {
   "codemirror_mode": {
    "name": "ipython",
    "version": 3
   },
   "file_extension": ".py",
   "mimetype": "text/x-python",
   "name": "python",
   "nbconvert_exporter": "python",
   "pygments_lexer": "ipython3",
   "version": "3.9.10"
  },
  "orig_nbformat": 4
 },
 "nbformat": 4,
 "nbformat_minor": 2
}
